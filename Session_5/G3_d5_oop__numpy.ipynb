{
  "nbformat": 4,
  "nbformat_minor": 0,
  "metadata": {
    "colab": {
      "provenance": []
    },
    "kernelspec": {
      "name": "python3",
      "display_name": "Python 3"
    },
    "language_info": {
      "name": "python"
    }
  },
  "cells": [
    {
      "cell_type": "markdown",
      "source": [
        "**OOP**\n",
        "\n",
        "  * Constructor or Initialiser in class"
      ],
      "metadata": {
        "id": "2wE0GOL5Dkbi"
      }
    },
    {
      "cell_type": "code",
      "execution_count": null,
      "metadata": {
        "id": "Nixn2UzhDjoO"
      },
      "outputs": [],
      "source": [
        "class Visitors:\n",
        "    def __init__(self, name, age , city):                      #constructor or intialiser - executes 1st and executes on its own\n",
        "        self.details = {\"Name\" : name , \"Age\" : age , \"City\" : city}\n",
        "\n",
        "    def add_department(self, dept):\n",
        "        self.details['department'] = dept\n",
        "\n",
        "    def show_visitor_details(self):\n",
        "        return self.details"
      ]
    },
    {
      "cell_type": "code",
      "source": [
        "v1 = Visitors(\"Ram\" , 22 , \"Delhi\")\n",
        "v2 = Visitors(\"Jai\" , 19 , \"Jaipur\")\n",
        "v3 = Visitors(\"Gagan\" , 21 , \"Indore\")"
      ],
      "metadata": {
        "id": "RSk0RlV8Du7W"
      },
      "execution_count": null,
      "outputs": []
    },
    {
      "cell_type": "code",
      "source": [
        "v1.show_visitor_details()"
      ],
      "metadata": {
        "colab": {
          "base_uri": "https://localhost:8080/"
        },
        "id": "WKWWoJKGD6zW",
        "outputId": "01765ecb-73aa-4def-b41e-dd63a995a13d"
      },
      "execution_count": null,
      "outputs": [
        {
          "output_type": "execute_result",
          "data": {
            "text/plain": [
              "{'Name': 'Ram', 'Age': 22, 'City': 'Delhi'}"
            ]
          },
          "metadata": {},
          "execution_count": 10
        }
      ]
    },
    {
      "cell_type": "code",
      "source": [
        "v2.show_visitor_details()"
      ],
      "metadata": {
        "colab": {
          "base_uri": "https://localhost:8080/"
        },
        "id": "zZQiHBLWD8gi",
        "outputId": "78bc9e44-cc01-4672-f653-9e0b5842cf4d"
      },
      "execution_count": null,
      "outputs": [
        {
          "output_type": "execute_result",
          "data": {
            "text/plain": [
              "{'Name': 'Jai', 'Age': 19, 'City': 'Jaipur'}"
            ]
          },
          "metadata": {},
          "execution_count": 13
        }
      ]
    },
    {
      "cell_type": "code",
      "source": [
        "v3.show_visitor_details()"
      ],
      "metadata": {
        "colab": {
          "base_uri": "https://localhost:8080/"
        },
        "id": "T_zfG07FFBWG",
        "outputId": "2fb151fd-74b0-4e85-8a8a-de7b666ec4f7"
      },
      "execution_count": null,
      "outputs": [
        {
          "output_type": "execute_result",
          "data": {
            "text/plain": [
              "{'Name': 'Gagan', 'Age': 21, 'City': 'Indore'}"
            ]
          },
          "metadata": {},
          "execution_count": 14
        }
      ]
    },
    {
      "cell_type": "markdown",
      "source": [
        "**Create a Python class named BankAccount with the following attributes and methods:**\n",
        "\n",
        "    * Attributes: account_number, account_holder, balance\n",
        "    Methods:\n",
        "        - deposit(amount): Adds the specified amount to the balance.\n",
        "        - withdraw(amount): Deducts the specified amount from the balance if sufficient funds are available. Otherwise, prints \"Insufficient balance.\"\n",
        "        - display_balance(): Displays the current balance.\n",
        "\n",
        "* Write a script to create an instance of the class and demonstrate all the methods."
      ],
      "metadata": {
        "id": "G7XzWuL3FV08"
      }
    },
    {
      "cell_type": "code",
      "source": [
        "class BankAccount:\n",
        "  def __init__(self,account_number,account_holder,balance):\n",
        "    self.account_number = account_number\n",
        "    self.account_holder = account_holder\n",
        "    self.balance = balance\n",
        "\n",
        "  def deposit(self,amount):\n",
        "    self.balance += amount\n",
        "\n",
        "  def withdraw(self,amount):\n",
        "    if amount < self.balance:\n",
        "      self.balance -= amount\n",
        "      return \"Withdrawl successfull\"\n",
        "    else:\n",
        "      return \"Insufficient balance\"\n",
        "\n",
        "  def display_balance(self):\n",
        "    details = {\"Name\" : self.account_holder , \"Balance\" : self.balance}\n",
        "    return details"
      ],
      "metadata": {
        "id": "ifGL1K4sFExl"
      },
      "execution_count": null,
      "outputs": []
    },
    {
      "cell_type": "code",
      "source": [
        "rahul = BankAccount(\"9754357785\" , \"Rahul\" , 20000)\n",
        "anita = BankAccount(\"9754557854\" , \"Anita\" , 15000)"
      ],
      "metadata": {
        "id": "BpLngMmFGxlI"
      },
      "execution_count": null,
      "outputs": []
    },
    {
      "cell_type": "code",
      "source": [
        "print(rahul.account_number , rahul.account_holder , rahul.balance)"
      ],
      "metadata": {
        "colab": {
          "base_uri": "https://localhost:8080/"
        },
        "id": "ru8vB4nIG7iu",
        "outputId": "158a98a1-6cc0-48a1-cbe7-5fac6580dc59"
      },
      "execution_count": null,
      "outputs": [
        {
          "output_type": "stream",
          "name": "stdout",
          "text": [
            "9754357785 Rahul 20000\n"
          ]
        }
      ]
    },
    {
      "cell_type": "code",
      "source": [
        "print(anita.account_number , anita.account_holder , anita.balance)"
      ],
      "metadata": {
        "colab": {
          "base_uri": "https://localhost:8080/"
        },
        "id": "4zOgW86KHitJ",
        "outputId": "a1ada13f-00e1-4958-c1ff-f6672c989769"
      },
      "execution_count": null,
      "outputs": [
        {
          "output_type": "stream",
          "name": "stdout",
          "text": [
            "9754557854 Anita 15000\n"
          ]
        }
      ]
    },
    {
      "cell_type": "code",
      "source": [
        "rahul.deposit(40000)\n",
        "print(rahul.account_number , rahul.account_holder , rahul.balance)"
      ],
      "metadata": {
        "colab": {
          "base_uri": "https://localhost:8080/"
        },
        "id": "8c4ve2wgHky_",
        "outputId": "d7729b5a-0c24-41a8-9126-78a8706c0577"
      },
      "execution_count": null,
      "outputs": [
        {
          "output_type": "stream",
          "name": "stdout",
          "text": [
            "9754357785 Rahul 60000\n"
          ]
        }
      ]
    },
    {
      "cell_type": "code",
      "source": [
        "status = anita.withdraw(5000)\n",
        "print(status)\n",
        "print(anita.account_number , anita.account_holder , anita.balance)"
      ],
      "metadata": {
        "colab": {
          "base_uri": "https://localhost:8080/"
        },
        "id": "7xTo3OdjIP14",
        "outputId": "d5a74eee-c40c-48c5-86e0-095fe12aa529"
      },
      "execution_count": null,
      "outputs": [
        {
          "output_type": "stream",
          "name": "stdout",
          "text": [
            "Withdrawl successfull\n",
            "9754557854 Anita 10000\n"
          ]
        }
      ]
    },
    {
      "cell_type": "code",
      "source": [
        "status = anita.withdraw(50000)\n",
        "print(status)\n",
        "print(anita.account_number , anita.account_holder , anita.balance)"
      ],
      "metadata": {
        "colab": {
          "base_uri": "https://localhost:8080/"
        },
        "id": "H3OjbL1NIRsW",
        "outputId": "99af3036-c63a-4f8c-a81d-889af90c0f3d"
      },
      "execution_count": null,
      "outputs": [
        {
          "output_type": "stream",
          "name": "stdout",
          "text": [
            "Insufficient balance\n",
            "9754557854 Anita 10000\n"
          ]
        }
      ]
    },
    {
      "cell_type": "code",
      "source": [
        "rahul.display_balance()"
      ],
      "metadata": {
        "colab": {
          "base_uri": "https://localhost:8080/"
        },
        "id": "dWOwShWyImnG",
        "outputId": "763f773e-2646-472b-c4cd-2c2fd3095409"
      },
      "execution_count": null,
      "outputs": [
        {
          "output_type": "execute_result",
          "data": {
            "text/plain": [
              "{'Name': 'Rahul', 'Balance': 60000}"
            ]
          },
          "metadata": {},
          "execution_count": 57
        }
      ]
    },
    {
      "cell_type": "code",
      "source": [
        "anita.display_balance()"
      ],
      "metadata": {
        "colab": {
          "base_uri": "https://localhost:8080/"
        },
        "id": "AZ6bPoBCJucX",
        "outputId": "b9517d30-57d6-4e5d-9764-2caf121f6996"
      },
      "execution_count": null,
      "outputs": [
        {
          "output_type": "execute_result",
          "data": {
            "text/plain": [
              "{'Name': 'Anita', 'Balance': 10000}"
            ]
          },
          "metadata": {},
          "execution_count": 58
        }
      ]
    },
    {
      "cell_type": "markdown",
      "source": [
        "**Python for Data Science**\n",
        "   * Numpy - Numerical Python\n",
        "   * Pandas\n",
        "   * Matplotlib\n",
        "   * Seaborn"
      ],
      "metadata": {
        "id": "a-9LK1o9KFrc"
      }
    },
    {
      "cell_type": "code",
      "source": [
        "val = 20\n",
        "print(val * 3)"
      ],
      "metadata": {
        "colab": {
          "base_uri": "https://localhost:8080/"
        },
        "id": "uPkCBDOMJxBo",
        "outputId": "dadd1bce-2513-4c6c-e2f5-c763cd1baddd"
      },
      "execution_count": null,
      "outputs": [
        {
          "output_type": "stream",
          "name": "stdout",
          "text": [
            "60\n"
          ]
        }
      ]
    },
    {
      "cell_type": "code",
      "source": [
        "values = [5 , 8 , 3 , 2 , 7]\n",
        "print(values * 2)"
      ],
      "metadata": {
        "colab": {
          "base_uri": "https://localhost:8080/"
        },
        "id": "_x5lY1CnKWX7",
        "outputId": "9f1f567f-4abc-4c69-969d-11648335f6dd"
      },
      "execution_count": null,
      "outputs": [
        {
          "output_type": "stream",
          "name": "stdout",
          "text": [
            "[5, 8, 3, 2, 7, 5, 8, 3, 2, 7]\n"
          ]
        }
      ]
    },
    {
      "cell_type": "code",
      "source": [
        "def perform_multiplication(values , num):\n",
        "  output = []\n",
        "  for val in values:\n",
        "    output.append(val * num)\n",
        "  return output"
      ],
      "metadata": {
        "id": "J76LiosNKeUs"
      },
      "execution_count": null,
      "outputs": []
    },
    {
      "cell_type": "code",
      "source": [
        "print(perform_multiplication([7,9,4,3] , 2))\n",
        "print(perform_multiplication([7,9,4,3,8,3,6] , 4))"
      ],
      "metadata": {
        "colab": {
          "base_uri": "https://localhost:8080/"
        },
        "id": "mCrR-w1bK4Ql",
        "outputId": "07405128-9adc-4536-c36e-62887aba4331"
      },
      "execution_count": null,
      "outputs": [
        {
          "output_type": "stream",
          "name": "stdout",
          "text": [
            "[14, 18, 8, 6]\n",
            "[28, 36, 16, 12, 32, 12, 24]\n"
          ]
        }
      ]
    },
    {
      "cell_type": "code",
      "source": [
        "values = [[5 , 8 , 3 , 2 , 7] , [2 , 4 , 5 , 1 , 6] , [3 , 4 , 6 , 7, 8]]\n",
        "print(values)"
      ],
      "metadata": {
        "colab": {
          "base_uri": "https://localhost:8080/"
        },
        "id": "sJWxLLmGK8IR",
        "outputId": "b285b293-3cab-4824-e221-e7363b7bc5d8"
      },
      "execution_count": null,
      "outputs": [
        {
          "output_type": "stream",
          "name": "stdout",
          "text": [
            "[[5, 8, 3, 2, 7], [2, 4, 5, 1, 6], [3, 4, 6, 7, 8]]\n"
          ]
        }
      ]
    },
    {
      "cell_type": "code",
      "source": [
        "import numpy as np\n",
        "\n",
        "n1 = np.array([7,9,4,3,8,3,6])\n",
        "print(n1)\n",
        "print()\n",
        "print(n1 * 2)"
      ],
      "metadata": {
        "colab": {
          "base_uri": "https://localhost:8080/"
        },
        "id": "BZFAaJsoLWUw",
        "outputId": "f4c344bd-c080-4bb1-eae4-329abbdaf4af"
      },
      "execution_count": null,
      "outputs": [
        {
          "output_type": "stream",
          "name": "stdout",
          "text": [
            "[7 9 4 3 8 3 6]\n",
            "\n",
            "[14 18  8  6 16  6 12]\n"
          ]
        }
      ]
    },
    {
      "cell_type": "code",
      "source": [
        "print(np.__version__)"
      ],
      "metadata": {
        "colab": {
          "base_uri": "https://localhost:8080/"
        },
        "id": "XWEwlwarcT7P",
        "outputId": "fd4a5eec-578d-4cb7-af40-69f07202a1d3"
      },
      "execution_count": null,
      "outputs": [
        {
          "output_type": "stream",
          "name": "stdout",
          "text": [
            "2.0.2\n"
          ]
        }
      ]
    },
    {
      "cell_type": "code",
      "source": [
        "print(n1.ndim)\n",
        "print(n1.shape)"
      ],
      "metadata": {
        "colab": {
          "base_uri": "https://localhost:8080/"
        },
        "id": "yuzW2Gh-OGWG",
        "outputId": "d36ea15f-5bc4-4943-cecf-9c02ef27c34e"
      },
      "execution_count": null,
      "outputs": [
        {
          "output_type": "stream",
          "name": "stdout",
          "text": [
            "1\n",
            "(7,)\n"
          ]
        }
      ]
    },
    {
      "cell_type": "code",
      "source": [
        "n2 = np.array([[5 , 8 , 3 , 2 , 7] , [2 , 4 , 5 , 1 , 6] , [3 , 4 , 6 , 7, 8]])\n",
        "print(n2)"
      ],
      "metadata": {
        "colab": {
          "base_uri": "https://localhost:8080/"
        },
        "id": "xhAGSWu6Lu1S",
        "outputId": "bc08c3a4-4d07-4a32-aa87-6606bd214979"
      },
      "execution_count": null,
      "outputs": [
        {
          "output_type": "stream",
          "name": "stdout",
          "text": [
            "[[5 8 3 2 7]\n",
            " [2 4 5 1 6]\n",
            " [3 4 6 7 8]]\n"
          ]
        }
      ]
    },
    {
      "cell_type": "code",
      "source": [
        "print(n2 * 3)"
      ],
      "metadata": {
        "colab": {
          "base_uri": "https://localhost:8080/"
        },
        "id": "2ClBM29OL-JS",
        "outputId": "9494d780-d8df-448d-dd50-30476280b734"
      },
      "execution_count": null,
      "outputs": [
        {
          "output_type": "stream",
          "name": "stdout",
          "text": [
            "[[15 24  9  6 21]\n",
            " [ 6 12 15  3 18]\n",
            " [ 9 12 18 21 24]]\n"
          ]
        }
      ]
    },
    {
      "cell_type": "code",
      "source": [
        "print(n2)"
      ],
      "metadata": {
        "colab": {
          "base_uri": "https://localhost:8080/"
        },
        "id": "BYIZDpQ8NZhF",
        "outputId": "9d6f96a8-2b6c-4c77-d6a5-3bd9a1803a3a"
      },
      "execution_count": null,
      "outputs": [
        {
          "output_type": "stream",
          "name": "stdout",
          "text": [
            "[[5 8 3 2 7]\n",
            " [2 4 5 1 6]\n",
            " [3 4 6 7 8]]\n"
          ]
        }
      ]
    },
    {
      "cell_type": "code",
      "source": [
        "print(n2.ndim)\n",
        "print(n2.shape)\n",
        "print(n2.size)"
      ],
      "metadata": {
        "colab": {
          "base_uri": "https://localhost:8080/"
        },
        "id": "e-gnzJN_OOCN",
        "outputId": "205ed9fd-1218-479e-eacd-81591b553fb8"
      },
      "execution_count": null,
      "outputs": [
        {
          "output_type": "stream",
          "name": "stdout",
          "text": [
            "2\n",
            "(3, 5)\n",
            "15\n"
          ]
        }
      ]
    },
    {
      "cell_type": "code",
      "source": [
        "print(np.mean(n2))\n",
        "print(np.sum(n2))\n",
        "print(np.prod(n2))\n",
        "print(np.min(n2))\n",
        "print(np.max(n2))\n",
        "print(np.argmin(n2))\n",
        "print(np.argmax(n2))"
      ],
      "metadata": {
        "colab": {
          "base_uri": "https://localhost:8080/"
        },
        "id": "AnlUySeAMA-4",
        "outputId": "40e4b5ea-058d-4d64-d7bc-b372f4c52a07"
      },
      "execution_count": null,
      "outputs": [
        {
          "output_type": "stream",
          "name": "stdout",
          "text": [
            "4.733333333333333\n",
            "71\n",
            "1625702400\n",
            "1\n",
            "8\n",
            "8\n",
            "1\n"
          ]
        }
      ]
    },
    {
      "cell_type": "code",
      "source": [
        "n3 = np.array([9,7,3,4,3,7,8,2,1,5,9,3,9])\n",
        "print(np.min(n3) , np.argmin(n3))\n",
        "print(np.max(n3) , np.argmax(n3))"
      ],
      "metadata": {
        "colab": {
          "base_uri": "https://localhost:8080/"
        },
        "id": "8R1deDnBMERV",
        "outputId": "8eafa60c-1c2a-4ad4-c6b6-cc5a97496c91"
      },
      "execution_count": null,
      "outputs": [
        {
          "output_type": "stream",
          "name": "stdout",
          "text": [
            "1 8\n",
            "9 0\n"
          ]
        }
      ]
    },
    {
      "cell_type": "code",
      "source": [
        "print(n2)"
      ],
      "metadata": {
        "colab": {
          "base_uri": "https://localhost:8080/"
        },
        "id": "jgSymzQwOZPD",
        "outputId": "0b9901bf-2bb8-454f-8545-dd9b9b5f8bec"
      },
      "execution_count": null,
      "outputs": [
        {
          "output_type": "stream",
          "name": "stdout",
          "text": [
            "[[5 8 3 2 7]\n",
            " [2 4 5 1 6]\n",
            " [3 4 6 7 8]]\n"
          ]
        }
      ]
    },
    {
      "cell_type": "code",
      "source": [
        "#Calculate for each row\n",
        "print(np.mean(n2, axis = 1))\n",
        "print(np.sum(n2, axis = 1))\n",
        "print(np.prod(n2, axis = 1))\n",
        "print(np.min(n2, axis = 1))\n",
        "print(np.max(n2, axis = 1))\n",
        "print(np.argmin(n2, axis = 1))\n",
        "print(np.argmax(n2, axis = 1))"
      ],
      "metadata": {
        "colab": {
          "base_uri": "https://localhost:8080/"
        },
        "id": "v5_LQLP7N2DL",
        "outputId": "b7092d7d-f853-4e3f-f9ad-c90b106ecc5c"
      },
      "execution_count": null,
      "outputs": [
        {
          "output_type": "stream",
          "name": "stdout",
          "text": [
            "[5.  3.6 5.6]\n",
            "[25 18 28]\n",
            "[1680  240 4032]\n",
            "[2 1 3]\n",
            "[8 6 8]\n",
            "[3 3 0]\n",
            "[1 4 4]\n"
          ]
        }
      ]
    },
    {
      "cell_type": "code",
      "source": [
        "#Calculate for each columns\n",
        "print(np.mean(n2, axis = 0))\n",
        "print(np.sum(n2, axis = 0))\n",
        "print(np.prod(n2, axis = 0))\n",
        "print(np.min(n2, axis = 0))\n",
        "print(np.max(n2, axis = 0))\n",
        "print(np.argmin(n2, axis = 0))\n",
        "print(np.argmax(n2, axis = 0))"
      ],
      "metadata": {
        "colab": {
          "base_uri": "https://localhost:8080/"
        },
        "id": "R2L7e1dqOcS_",
        "outputId": "11606ec6-5ffc-44f8-b5b3-37935dda641d"
      },
      "execution_count": null,
      "outputs": [
        {
          "output_type": "stream",
          "name": "stdout",
          "text": [
            "[3.33333333 5.33333333 4.66666667 3.33333333 7.        ]\n",
            "[10 16 14 10 21]\n",
            "[ 30 128  90  14 336]\n",
            "[2 4 3 1 6]\n",
            "[5 8 6 7 8]\n",
            "[1 1 0 1 1]\n",
            "[0 0 2 2 2]\n"
          ]
        }
      ]
    },
    {
      "cell_type": "code",
      "source": [
        "print(n2)"
      ],
      "metadata": {
        "colab": {
          "base_uri": "https://localhost:8080/"
        },
        "id": "dXVZUzdvOu2u",
        "outputId": "efceae06-6257-43be-8cf7-65171720e787"
      },
      "execution_count": null,
      "outputs": [
        {
          "output_type": "stream",
          "name": "stdout",
          "text": [
            "[[5 8 3 2 7]\n",
            " [2 4 5 1 6]\n",
            " [3 4 6 7 8]]\n"
          ]
        }
      ]
    },
    {
      "cell_type": "code",
      "source": [
        "print(n2[0,0])            #array[row_index , column_index]\n",
        "print(n2[0,1])\n",
        "print(n2[1,0])"
      ],
      "metadata": {
        "colab": {
          "base_uri": "https://localhost:8080/"
        },
        "id": "KXAhNKHqPNO6",
        "outputId": "1e662562-6fe2-4cc7-ba5e-a7a0d36cb199"
      },
      "execution_count": null,
      "outputs": [
        {
          "output_type": "stream",
          "name": "stdout",
          "text": [
            "5\n",
            "8\n",
            "2\n"
          ]
        }
      ]
    },
    {
      "cell_type": "code",
      "source": [
        "print(np.zeros((4,3)))"
      ],
      "metadata": {
        "colab": {
          "base_uri": "https://localhost:8080/"
        },
        "id": "QCuI8HJ_PVrG",
        "outputId": "47d5daab-2b33-4d6f-c0b0-e804595da6f7"
      },
      "execution_count": null,
      "outputs": [
        {
          "output_type": "stream",
          "name": "stdout",
          "text": [
            "[[0. 0. 0.]\n",
            " [0. 0. 0.]\n",
            " [0. 0. 0.]\n",
            " [0. 0. 0.]]\n"
          ]
        }
      ]
    },
    {
      "cell_type": "code",
      "source": [
        "print(np.ones((4,3)))"
      ],
      "metadata": {
        "colab": {
          "base_uri": "https://localhost:8080/"
        },
        "id": "xUXKekyQPl2t",
        "outputId": "981cf205-a236-4d6a-f697-2f43181df5b7"
      },
      "execution_count": null,
      "outputs": [
        {
          "output_type": "stream",
          "name": "stdout",
          "text": [
            "[[1. 1. 1.]\n",
            " [1. 1. 1.]\n",
            " [1. 1. 1.]\n",
            " [1. 1. 1.]]\n"
          ]
        }
      ]
    },
    {
      "cell_type": "code",
      "source": [
        "print(np.eye(4))"
      ],
      "metadata": {
        "colab": {
          "base_uri": "https://localhost:8080/"
        },
        "id": "bDWbHOt5Ps6U",
        "outputId": "2e580d7b-8301-4c2c-ffb6-a059ce8bf1e1"
      },
      "execution_count": null,
      "outputs": [
        {
          "output_type": "stream",
          "name": "stdout",
          "text": [
            "[[1. 0. 0. 0.]\n",
            " [0. 1. 0. 0.]\n",
            " [0. 0. 1. 0.]\n",
            " [0. 0. 0. 1.]]\n"
          ]
        }
      ]
    },
    {
      "cell_type": "code",
      "source": [
        "n4 = np.arange(0,36)                #array + range\n",
        "print(n4)"
      ],
      "metadata": {
        "colab": {
          "base_uri": "https://localhost:8080/"
        },
        "id": "UCyjf6nxPwCj",
        "outputId": "6a34437a-a637-4212-89ec-b2095ec1aac8"
      },
      "execution_count": null,
      "outputs": [
        {
          "output_type": "stream",
          "name": "stdout",
          "text": [
            "[ 0  1  2  3  4  5  6  7  8  9 10 11 12 13 14 15 16 17 18 19 20 21 22 23\n",
            " 24 25 26 27 28 29 30 31 32 33 34 35]\n"
          ]
        }
      ]
    },
    {
      "cell_type": "code",
      "source": [
        "#36 - (1,36) , (36,1) , (2,18) , (18,2) , (3,12) , (12,3) , (4,9) , (9,4) , (6,6)\n",
        "n5 = n4.reshape(6,6)\n",
        "print(n5)"
      ],
      "metadata": {
        "colab": {
          "base_uri": "https://localhost:8080/"
        },
        "id": "dYQP3LpLP1CB",
        "outputId": "b206930e-7e35-45d9-ff17-b97ab9aa6824"
      },
      "execution_count": null,
      "outputs": [
        {
          "output_type": "stream",
          "name": "stdout",
          "text": [
            "[[ 0  1  2  3  4  5]\n",
            " [ 6  7  8  9 10 11]\n",
            " [12 13 14 15 16 17]\n",
            " [18 19 20 21 22 23]\n",
            " [24 25 26 27 28 29]\n",
            " [30 31 32 33 34 35]]\n"
          ]
        }
      ]
    },
    {
      "cell_type": "code",
      "source": [
        "print(n2)"
      ],
      "metadata": {
        "colab": {
          "base_uri": "https://localhost:8080/"
        },
        "id": "GmhgILoNQoIE",
        "outputId": "ea84b3b1-77db-4462-b968-ccb481cd5dad"
      },
      "execution_count": null,
      "outputs": [
        {
          "output_type": "stream",
          "name": "stdout",
          "text": [
            "[[5 8 3 2 7]\n",
            " [2 4 5 1 6]\n",
            " [3 4 6 7 8]]\n"
          ]
        }
      ]
    },
    {
      "cell_type": "code",
      "source": [
        "#converting n-dimensional matrix into 1 dimensional\n",
        "print(n2.ravel())\n",
        "print(n2.flatten())"
      ],
      "metadata": {
        "colab": {
          "base_uri": "https://localhost:8080/"
        },
        "id": "NFjhtKEYQsKz",
        "outputId": "0c8de59e-4058-470d-b9e0-e55ebfb32081"
      },
      "execution_count": null,
      "outputs": [
        {
          "output_type": "stream",
          "name": "stdout",
          "text": [
            "[5 8 3 2 7 2 4 5 1 6 3 4 6 7 8]\n",
            "[5 8 3 2 7 2 4 5 1 6 3 4 6 7 8]\n"
          ]
        }
      ]
    },
    {
      "cell_type": "markdown",
      "source": [
        "**Broadcasting**"
      ],
      "metadata": {
        "id": "am0_HTlNRC8v"
      }
    },
    {
      "cell_type": "code",
      "source": [
        "print(n2)"
      ],
      "metadata": {
        "colab": {
          "base_uri": "https://localhost:8080/"
        },
        "id": "HplWxfcgQ95o",
        "outputId": "08a8de4e-fa19-43da-ec3b-f53b82ba316d"
      },
      "execution_count": null,
      "outputs": [
        {
          "output_type": "stream",
          "name": "stdout",
          "text": [
            "[[5 8 3 2 7]\n",
            " [2 4 5 1 6]\n",
            " [3 4 6 7 8]]\n"
          ]
        }
      ]
    },
    {
      "cell_type": "code",
      "source": [
        "val = 3"
      ],
      "metadata": {
        "id": "trE0wqxNTGdO"
      },
      "execution_count": null,
      "outputs": []
    },
    {
      "cell_type": "code",
      "source": [
        "print(n2 * val)"
      ],
      "metadata": {
        "colab": {
          "base_uri": "https://localhost:8080/"
        },
        "id": "j2pOS9JxTIiR",
        "outputId": "b9963e2a-ffd8-4c73-e2c8-663b66055c6d"
      },
      "execution_count": null,
      "outputs": [
        {
          "output_type": "stream",
          "name": "stdout",
          "text": [
            "[[15 24  9  6 21]\n",
            " [ 6 12 15  3 18]\n",
            " [ 9 12 18 21 24]]\n"
          ]
        }
      ]
    },
    {
      "cell_type": "code",
      "source": [
        "a1 = [2,4,2,1,2]\n",
        "\n",
        "print(n2 * a1)"
      ],
      "metadata": {
        "colab": {
          "base_uri": "https://localhost:8080/"
        },
        "id": "1L5FtXM8Teex",
        "outputId": "992aab21-1f7d-4e45-b0b8-98d9411d35ed"
      },
      "execution_count": null,
      "outputs": [
        {
          "output_type": "stream",
          "name": "stdout",
          "text": [
            "[[10 32  6  2 14]\n",
            " [ 4 16 10  1 12]\n",
            " [ 6 16 12  7 16]]\n"
          ]
        }
      ]
    },
    {
      "cell_type": "code",
      "source": [
        "print(n2)"
      ],
      "metadata": {
        "colab": {
          "base_uri": "https://localhost:8080/"
        },
        "id": "SXBm1YsXUB_Q",
        "outputId": "1fb540ef-f605-41c9-b135-db5e22bd8af8"
      },
      "execution_count": null,
      "outputs": [
        {
          "output_type": "stream",
          "name": "stdout",
          "text": [
            "[[5 8 3 2 7]\n",
            " [2 4 5 1 6]\n",
            " [3 4 6 7 8]]\n"
          ]
        }
      ]
    },
    {
      "cell_type": "code",
      "source": [
        "a2 = [[3],[2],[1]]\n",
        "\n",
        "print(n2 * a2)"
      ],
      "metadata": {
        "colab": {
          "base_uri": "https://localhost:8080/"
        },
        "id": "wQGrwzuTT4Oy",
        "outputId": "a152478a-2a99-493e-9b17-fc4a0d853b7e"
      },
      "execution_count": null,
      "outputs": [
        {
          "output_type": "stream",
          "name": "stdout",
          "text": [
            "[[15 24  9  6 21]\n",
            " [ 4  8 10  2 12]\n",
            " [ 3  4  6  7  8]]\n"
          ]
        }
      ]
    },
    {
      "cell_type": "code",
      "source": [
        "print(n2)"
      ],
      "metadata": {
        "colab": {
          "base_uri": "https://localhost:8080/"
        },
        "id": "XxZz7eT8UXFw",
        "outputId": "327b866f-1202-42d2-a85a-8d2daee4ff9c"
      },
      "execution_count": null,
      "outputs": [
        {
          "output_type": "stream",
          "name": "stdout",
          "text": [
            "[[5 8 3 2 7]\n",
            " [2 4 5 1 6]\n",
            " [3 4 6 7 8]]\n"
          ]
        }
      ]
    },
    {
      "cell_type": "code",
      "source": [
        "a3 = [[3,2,1,4,1] , [3,2,1,4,1]]\n",
        "\n",
        "print(n2 * a3)"
      ],
      "metadata": {
        "colab": {
          "base_uri": "https://localhost:8080/",
          "height": 178
        },
        "id": "Vk8zYr48UYKU",
        "outputId": "31b80032-823d-4725-a9c8-0ab451cde7c4"
      },
      "execution_count": null,
      "outputs": [
        {
          "output_type": "error",
          "ename": "ValueError",
          "evalue": "operands could not be broadcast together with shapes (3,5) (2,5) ",
          "traceback": [
            "\u001b[0;31m---------------------------------------------------------------------------\u001b[0m",
            "\u001b[0;31mValueError\u001b[0m                                Traceback (most recent call last)",
            "\u001b[0;32m/tmp/ipython-input-117-139057145.py\u001b[0m in \u001b[0;36m<cell line: 0>\u001b[0;34m()\u001b[0m\n\u001b[1;32m      1\u001b[0m \u001b[0ma3\u001b[0m \u001b[0;34m=\u001b[0m \u001b[0;34m[\u001b[0m\u001b[0;34m[\u001b[0m\u001b[0;36m3\u001b[0m\u001b[0;34m,\u001b[0m\u001b[0;36m2\u001b[0m\u001b[0;34m,\u001b[0m\u001b[0;36m1\u001b[0m\u001b[0;34m,\u001b[0m\u001b[0;36m4\u001b[0m\u001b[0;34m,\u001b[0m\u001b[0;36m1\u001b[0m\u001b[0;34m]\u001b[0m \u001b[0;34m,\u001b[0m \u001b[0;34m[\u001b[0m\u001b[0;36m3\u001b[0m\u001b[0;34m,\u001b[0m\u001b[0;36m2\u001b[0m\u001b[0;34m,\u001b[0m\u001b[0;36m1\u001b[0m\u001b[0;34m,\u001b[0m\u001b[0;36m4\u001b[0m\u001b[0;34m,\u001b[0m\u001b[0;36m1\u001b[0m\u001b[0;34m]\u001b[0m\u001b[0;34m]\u001b[0m\u001b[0;34m\u001b[0m\u001b[0;34m\u001b[0m\u001b[0m\n\u001b[1;32m      2\u001b[0m \u001b[0;34m\u001b[0m\u001b[0m\n\u001b[0;32m----> 3\u001b[0;31m \u001b[0mprint\u001b[0m\u001b[0;34m(\u001b[0m\u001b[0mn2\u001b[0m \u001b[0;34m*\u001b[0m \u001b[0ma3\u001b[0m\u001b[0;34m)\u001b[0m\u001b[0;34m\u001b[0m\u001b[0;34m\u001b[0m\u001b[0m\n\u001b[0m",
            "\u001b[0;31mValueError\u001b[0m: operands could not be broadcast together with shapes (3,5) (2,5) "
          ]
        }
      ]
    },
    {
      "cell_type": "markdown",
      "source": [
        "**Rules of Broadcasting**\n",
        "   * a single scaler value can be broadcasted to match the shape of larger array for mathematical operations\n",
        "   * smaller array should have 1 row and number of coulumns equals to the larger array\n",
        "   * smaller array should have 1 column and number of rows equals to larger array"
      ],
      "metadata": {
        "id": "nQjsmSKGU4gR"
      }
    },
    {
      "cell_type": "markdown",
      "source": [
        "**dot product**"
      ],
      "metadata": {
        "id": "gQhm_xqpREjl"
      }
    },
    {
      "cell_type": "code",
      "source": [
        "print(n2)"
      ],
      "metadata": {
        "colab": {
          "base_uri": "https://localhost:8080/"
        },
        "id": "ARNSr-sIRG09",
        "outputId": "e1e39b14-bfcd-44a5-8b20-011e37431fef"
      },
      "execution_count": null,
      "outputs": [
        {
          "output_type": "stream",
          "name": "stdout",
          "text": [
            "[[5 8 3 2 7]\n",
            " [2 4 5 1 6]\n",
            " [3 4 6 7 8]]\n"
          ]
        }
      ]
    },
    {
      "cell_type": "code",
      "source": [
        "a4 = np.array([[3,2,1,3,4] , [2,1,2,3,2]])\n",
        "print(a4)"
      ],
      "metadata": {
        "colab": {
          "base_uri": "https://localhost:8080/"
        },
        "id": "0XDVVYGGWxor",
        "outputId": "b2c023ec-e71f-4cc0-e8d8-25e0621a72ea"
      },
      "execution_count": null,
      "outputs": [
        {
          "output_type": "stream",
          "name": "stdout",
          "text": [
            "[[3 2 1 3 4]\n",
            " [2 1 2 3 2]]\n"
          ]
        }
      ]
    },
    {
      "cell_type": "markdown",
      "source": [
        "**reshaping** - [3 2 1 3 4 2 1 2 3 2] - [[3, 2] , [1 , 3], [4 , 2] , [1 , 2] , [3 , 2]]"
      ],
      "metadata": {
        "id": "iqdJ_pu-a3kO"
      }
    },
    {
      "cell_type": "code",
      "source": [
        "a4.T"
      ],
      "metadata": {
        "colab": {
          "base_uri": "https://localhost:8080/"
        },
        "id": "q5VFTiM-axkK",
        "outputId": "66a666c2-77ec-4436-83e6-94934238e8ad"
      },
      "execution_count": null,
      "outputs": [
        {
          "output_type": "execute_result",
          "data": {
            "text/plain": [
              "array([[3, 2],\n",
              "       [2, 1],\n",
              "       [1, 2],\n",
              "       [3, 3],\n",
              "       [4, 2]])"
            ]
          },
          "metadata": {},
          "execution_count": 121
        }
      ]
    },
    {
      "cell_type": "code",
      "source": [
        "np.dot(n2, a4.T)"
      ],
      "metadata": {
        "colab": {
          "base_uri": "https://localhost:8080/"
        },
        "id": "Ypx3n4MpW6Q3",
        "outputId": "16886023-428c-40ad-b673-583ca66e482a"
      },
      "execution_count": null,
      "outputs": [
        {
          "output_type": "execute_result",
          "data": {
            "text/plain": [
              "array([[68, 44],\n",
              "       [46, 33],\n",
              "       [76, 59]])"
            ]
          },
          "metadata": {},
          "execution_count": 122
        }
      ]
    },
    {
      "cell_type": "markdown",
      "source": [
        "* 3x + 2y + z = 10\n",
        "* x + y + z = 7\n",
        "* 2x + 2y + 5z = 15"
      ],
      "metadata": {
        "id": "i7miZLdGbLz9"
      }
    },
    {
      "cell_type": "code",
      "source": [
        "A = np.array([[3 , 2 , 1] , [1 , 1 , 1] , [2 , 2 , 5]])\n",
        "print(A)"
      ],
      "metadata": {
        "colab": {
          "base_uri": "https://localhost:8080/"
        },
        "id": "BeerDTUeW-HG",
        "outputId": "9c5ff63f-98e8-4297-dd20-13c4a155d0c1"
      },
      "execution_count": null,
      "outputs": [
        {
          "output_type": "stream",
          "name": "stdout",
          "text": [
            "[[3 2 1]\n",
            " [1 1 1]\n",
            " [2 2 5]]\n"
          ]
        }
      ]
    },
    {
      "cell_type": "code",
      "source": [
        "X = np.array([['x'] , ['y'] , ['z']])\n",
        "print(X)"
      ],
      "metadata": {
        "colab": {
          "base_uri": "https://localhost:8080/"
        },
        "id": "c3AfeY_8b1AZ",
        "outputId": "d89a1787-3fdb-4dad-a621-9ac7900fa0c5"
      },
      "execution_count": null,
      "outputs": [
        {
          "output_type": "stream",
          "name": "stdout",
          "text": [
            "[['x']\n",
            " ['y']\n",
            " ['z']]\n"
          ]
        }
      ]
    },
    {
      "cell_type": "code",
      "source": [
        "B = np.array([[10] , [7] , [15]])\n",
        "print(B)"
      ],
      "metadata": {
        "colab": {
          "base_uri": "https://localhost:8080/"
        },
        "id": "KOaphdRXb5Rj",
        "outputId": "17f0cc1f-1798-4858-b409-14bb6e604178"
      },
      "execution_count": null,
      "outputs": [
        {
          "output_type": "stream",
          "name": "stdout",
          "text": [
            "[[10]\n",
            " [ 7]\n",
            " [15]]\n"
          ]
        }
      ]
    },
    {
      "cell_type": "code",
      "source": [
        "#X = inv(A).B\n",
        "\n",
        "Ainv = np.linalg.inv(A)"
      ],
      "metadata": {
        "id": "lcN7tGo2cBUZ"
      },
      "execution_count": null,
      "outputs": []
    },
    {
      "cell_type": "code",
      "source": [
        "X = np.dot(Ainv, B)\n",
        "print(X)"
      ],
      "metadata": {
        "colab": {
          "base_uri": "https://localhost:8080/"
        },
        "id": "LVPM7LJWckEx",
        "outputId": "f375dac3-e1fd-4bde-fc4c-66ccaaf8769f"
      },
      "execution_count": null,
      "outputs": [
        {
          "output_type": "stream",
          "name": "stdout",
          "text": [
            "[[-3.66666667]\n",
            " [10.33333333]\n",
            " [ 0.33333333]]\n"
          ]
        }
      ]
    },
    {
      "cell_type": "code",
      "source": [
        "C = np.dot(A,X).astype(int)\n",
        "print(C)"
      ],
      "metadata": {
        "colab": {
          "base_uri": "https://localhost:8080/"
        },
        "id": "PRf_Qtswcq_9",
        "outputId": "414d6f1f-f086-4a26-f4e8-443f83284cd1"
      },
      "execution_count": null,
      "outputs": [
        {
          "output_type": "stream",
          "name": "stdout",
          "text": [
            "[[10]\n",
            " [ 7]\n",
            " [15]]\n"
          ]
        }
      ]
    },
    {
      "cell_type": "code",
      "source": [
        "B == C"
      ],
      "metadata": {
        "colab": {
          "base_uri": "https://localhost:8080/"
        },
        "id": "g0VQDmBle1dQ",
        "outputId": "66a04927-ab48-4180-d2b1-4ba8fdbf4f9c"
      },
      "execution_count": null,
      "outputs": [
        {
          "output_type": "execute_result",
          "data": {
            "text/plain": [
              "array([[ True],\n",
              "       [ True],\n",
              "       [ True]])"
            ]
          },
          "metadata": {},
          "execution_count": 144
        }
      ]
    },
    {
      "cell_type": "markdown",
      "source": [
        "**Slicing**"
      ],
      "metadata": {
        "id": "iznGRJ2Hc8XB"
      }
    },
    {
      "cell_type": "code",
      "source": [
        "arr1 = np.arange(0,42).reshape(6,7)\n",
        "print(arr1)"
      ],
      "metadata": {
        "colab": {
          "base_uri": "https://localhost:8080/"
        },
        "id": "McYOvIfxcyBi",
        "outputId": "80f230db-509d-462f-fa66-d7ad3510adcf"
      },
      "execution_count": null,
      "outputs": [
        {
          "output_type": "stream",
          "name": "stdout",
          "text": [
            "[[ 0  1  2  3  4  5  6]\n",
            " [ 7  8  9 10 11 12 13]\n",
            " [14 15 16 17 18 19 20]\n",
            " [21 22 23 24 25 26 27]\n",
            " [28 29 30 31 32 33 34]\n",
            " [35 36 37 38 39 40 41]]\n"
          ]
        }
      ]
    },
    {
      "cell_type": "code",
      "source": [
        "print(arr1[1,2])              #array[row_index , col_index]"
      ],
      "metadata": {
        "colab": {
          "base_uri": "https://localhost:8080/"
        },
        "id": "WSo0VOiYdX31",
        "outputId": "3dec5912-36f8-4a59-8fd9-e88d61de9ecd"
      },
      "execution_count": null,
      "outputs": [
        {
          "output_type": "stream",
          "name": "stdout",
          "text": [
            "9\n"
          ]
        }
      ]
    },
    {
      "cell_type": "markdown",
      "source": [
        "* array[row_slicing , column slicing]\n",
        "* array[intial_row_index : intial_row_index + number of rows , initial_col_index : initial_col_index + number of columns]"
      ],
      "metadata": {
        "id": "7ANBOWYwdx73"
      }
    },
    {
      "cell_type": "code",
      "source": [
        "print(arr1)"
      ],
      "metadata": {
        "colab": {
          "base_uri": "https://localhost:8080/"
        },
        "id": "d99Eaz2bdh-u",
        "outputId": "5b6063ce-cc0d-443c-abd3-42b5e44c663f"
      },
      "execution_count": null,
      "outputs": [
        {
          "output_type": "stream",
          "name": "stdout",
          "text": [
            "[[ 0  1  2  3  4  5  6]\n",
            " [ 7  8  9 10 11 12 13]\n",
            " [14 15 16 17 18 19 20]\n",
            " [21 22 23 24 25 26 27]\n",
            " [28 29 30 31 32 33 34]\n",
            " [35 36 37 38 39 40 41]]\n"
          ]
        }
      ]
    },
    {
      "cell_type": "code",
      "source": [
        "print(arr1[2:5 , 1:5])"
      ],
      "metadata": {
        "colab": {
          "base_uri": "https://localhost:8080/"
        },
        "id": "ylK6_-Y5dX7z",
        "outputId": "07ee0b33-2f7f-4ca1-9f18-e3fdcd4dbb50"
      },
      "execution_count": null,
      "outputs": [
        {
          "output_type": "stream",
          "name": "stdout",
          "text": [
            "[[15 16 17 18]\n",
            " [22 23 24 25]\n",
            " [29 30 31 32]]\n"
          ]
        }
      ]
    },
    {
      "cell_type": "code",
      "source": [
        "arr1[: , 6:]"
      ],
      "metadata": {
        "colab": {
          "base_uri": "https://localhost:8080/"
        },
        "id": "3J09IAD-dX_f",
        "outputId": "a4e80701-c950-4b5a-f06f-c88b60197cad"
      },
      "execution_count": null,
      "outputs": [
        {
          "output_type": "execute_result",
          "data": {
            "text/plain": [
              "array([[ 6],\n",
              "       [13],\n",
              "       [20],\n",
              "       [27],\n",
              "       [34],\n",
              "       [41]])"
            ]
          },
          "metadata": {},
          "execution_count": 146
        }
      ]
    },
    {
      "cell_type": "code",
      "source": [
        "arr1[: , -1:]"
      ],
      "metadata": {
        "colab": {
          "base_uri": "https://localhost:8080/"
        },
        "id": "mp0VMg_efmeu",
        "outputId": "c5e28b57-d2ae-4816-b234-f85b15c417db"
      },
      "execution_count": null,
      "outputs": [
        {
          "output_type": "execute_result",
          "data": {
            "text/plain": [
              "array([[ 6],\n",
              "       [13],\n",
              "       [20],\n",
              "       [27],\n",
              "       [34],\n",
              "       [41]])"
            ]
          },
          "metadata": {},
          "execution_count": 147
        }
      ]
    },
    {
      "cell_type": "code",
      "source": [
        "arr1[5: , :]"
      ],
      "metadata": {
        "colab": {
          "base_uri": "https://localhost:8080/"
        },
        "id": "hDxXBcxifuI9",
        "outputId": "f9ca6228-755c-4250-cc81-a66a72be6680"
      },
      "execution_count": null,
      "outputs": [
        {
          "output_type": "execute_result",
          "data": {
            "text/plain": [
              "array([[35, 36, 37, 38, 39, 40, 41]])"
            ]
          },
          "metadata": {},
          "execution_count": 150
        }
      ]
    },
    {
      "cell_type": "code",
      "source": [
        "print(arr1)"
      ],
      "metadata": {
        "colab": {
          "base_uri": "https://localhost:8080/"
        },
        "id": "TET6WlKsgbI9",
        "outputId": "b907ef1b-cb8e-4b0b-c56c-a45d05ad8323"
      },
      "execution_count": null,
      "outputs": [
        {
          "output_type": "stream",
          "name": "stdout",
          "text": [
            "[[ 0  1  2  3  4  5  6]\n",
            " [ 7  8  9 10 11 12 13]\n",
            " [14 15 16 17 18 19 20]\n",
            " [21 22 23 24 25 26 27]\n",
            " [28 29 30 31 32 33 34]\n",
            " [35 36 37 38 39 40 41]]\n"
          ]
        }
      ]
    },
    {
      "cell_type": "code",
      "source": [
        "print(arr1[1:3 , 0:5])"
      ],
      "metadata": {
        "colab": {
          "base_uri": "https://localhost:8080/"
        },
        "id": "d9zdPaOfgdju",
        "outputId": "d866dd59-909d-4e27-ac2d-fe7d1038bdf1"
      },
      "execution_count": null,
      "outputs": [
        {
          "output_type": "stream",
          "name": "stdout",
          "text": [
            "[[ 7  8  9 10 11]\n",
            " [14 15 16 17 18]]\n"
          ]
        }
      ]
    },
    {
      "cell_type": "markdown",
      "source": [
        "**Stacking**\n",
        "\n",
        "  * vertical stack\n",
        "  * horizontal stack"
      ],
      "metadata": {
        "id": "rhhxZQg-c98I"
      }
    },
    {
      "cell_type": "code",
      "source": [
        "a = np.array([[2,1,3,4,5], [3,1,5,3,2] , [5,3,2,4,3]])\n",
        "print(a)"
      ],
      "metadata": {
        "colab": {
          "base_uri": "https://localhost:8080/"
        },
        "id": "b6cqtnj5c_CD",
        "outputId": "8f942034-dfd8-4b56-d726-984df90f9a4b"
      },
      "execution_count": null,
      "outputs": [
        {
          "output_type": "stream",
          "name": "stdout",
          "text": [
            "[[2 1 3 4 5]\n",
            " [3 1 5 3 2]\n",
            " [5 3 2 4 3]]\n"
          ]
        }
      ]
    },
    {
      "cell_type": "code",
      "source": [
        "b = np.array([[7,9,4,3,2] , [3,2,1,5,6]])\n",
        "print(b)"
      ],
      "metadata": {
        "colab": {
          "base_uri": "https://localhost:8080/"
        },
        "id": "GBTRCvFgg052",
        "outputId": "c5f8fc47-d443-436c-b7e8-ef58f43dbb9b"
      },
      "execution_count": null,
      "outputs": [
        {
          "output_type": "stream",
          "name": "stdout",
          "text": [
            "[[7 9 4 3 2]\n",
            " [3 2 1 5 6]]\n"
          ]
        }
      ]
    },
    {
      "cell_type": "code",
      "source": [
        "#vstack - vertical stack\n",
        "print(np.vstack((a,b)))"
      ],
      "metadata": {
        "colab": {
          "base_uri": "https://localhost:8080/"
        },
        "id": "nVVDSM9Lg9Ze",
        "outputId": "0f669646-2c2c-4258-e347-66e519252112"
      },
      "execution_count": null,
      "outputs": [
        {
          "output_type": "stream",
          "name": "stdout",
          "text": [
            "[[2 1 3 4 5]\n",
            " [3 1 5 3 2]\n",
            " [5 3 2 4 3]\n",
            " [7 9 4 3 2]\n",
            " [3 2 1 5 6]]\n"
          ]
        }
      ]
    },
    {
      "cell_type": "code",
      "source": [
        "print(a)"
      ],
      "metadata": {
        "colab": {
          "base_uri": "https://localhost:8080/"
        },
        "id": "DZ3m1xAXhvpo",
        "outputId": "5306a233-3016-4306-9704-9996a99acf8d"
      },
      "execution_count": null,
      "outputs": [
        {
          "output_type": "stream",
          "name": "stdout",
          "text": [
            "[[2 1 3 4 5]\n",
            " [3 1 5 3 2]\n",
            " [5 3 2 4 3]]\n"
          ]
        }
      ]
    },
    {
      "cell_type": "code",
      "source": [
        "c = np.array([[2,3,1],[4,3,2],[2,2,3]])\n",
        "print(c)"
      ],
      "metadata": {
        "colab": {
          "base_uri": "https://localhost:8080/"
        },
        "id": "gSe0lK3YhlD6",
        "outputId": "6f52e3b0-812b-44b9-a374-4017067202d5"
      },
      "execution_count": null,
      "outputs": [
        {
          "output_type": "stream",
          "name": "stdout",
          "text": [
            "[[2 3 1]\n",
            " [4 3 2]\n",
            " [2 2 3]]\n"
          ]
        }
      ]
    },
    {
      "cell_type": "code",
      "source": [
        "#hstack - Horizontal stack\n",
        "print(np.hstack((a,c)))"
      ],
      "metadata": {
        "colab": {
          "base_uri": "https://localhost:8080/"
        },
        "id": "PC-EWWJFg_8c",
        "outputId": "1bb7514e-3716-4868-e7e4-1e81eff59364"
      },
      "execution_count": null,
      "outputs": [
        {
          "output_type": "stream",
          "name": "stdout",
          "text": [
            "[[2 1 3 4 5 2 3 1]\n",
            " [3 1 5 3 2 4 3 2]\n",
            " [5 3 2 4 3 2 2 3]]\n"
          ]
        }
      ]
    },
    {
      "cell_type": "markdown",
      "source": [
        "**Shallow copy vs Deep Copy**"
      ],
      "metadata": {
        "id": "V7q3W__giH0A"
      }
    },
    {
      "cell_type": "code",
      "source": [],
      "metadata": {
        "id": "omSw7xTnhOaJ"
      },
      "execution_count": null,
      "outputs": []
    }
  ]
}