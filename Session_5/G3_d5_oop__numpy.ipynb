{
  "nbformat": 4,
  "nbformat_minor": 0,
  "metadata": {
    "colab": {
      "provenance": []
    },
    "kernelspec": {
      "name": "python3",
      "display_name": "Python 3"
    },
    "language_info": {
      "name": "python"
    }
  },
  "cells": [
    {
      "cell_type": "markdown",
      "source": [
        "**OOP**\n",
        "\n",
        "  * Constructor or Initialiser in class"
      ],
      "metadata": {
        "id": "2wE0GOL5Dkbi"
      }
    },
    {
      "cell_type": "code",
      "execution_count": 1,
      "metadata": {
        "id": "Nixn2UzhDjoO"
      },
      "outputs": [],
      "source": [
        "class Visitors:\n",
        "    def __init__(self, name, age , city):                      #constructor or intialiser - executes 1st and executes on its own\n",
        "        self.details = {\"Name\" : name , \"Age\" : age , \"City\" : city}\n",
        "\n",
        "    def add_department(self, dept):\n",
        "        self.details['department'] = dept\n",
        "\n",
        "    def show_visitor_details(self):\n",
        "        return self.details"
      ]
    },
    {
      "cell_type": "code",
      "source": [
        "v1 = Visitors(\"Ram\" , 22 , \"Delhi\")\n",
        "v2 = Visitors(\"Jai\" , 19 , \"Jaipur\")\n",
        "v3 = Visitors(\"Gagan\" , 21 , \"Indore\")"
      ],
      "metadata": {
        "id": "RSk0RlV8Du7W"
      },
      "execution_count": 2,
      "outputs": []
    },
    {
      "cell_type": "code",
      "source": [
        "v1.show_visitor_details()"
      ],
      "metadata": {
        "colab": {
          "base_uri": "https://localhost:8080/"
        },
        "id": "WKWWoJKGD6zW",
        "outputId": "620ee43e-b7da-4cdb-af66-3b575f25768d"
      },
      "execution_count": 3,
      "outputs": [
        {
          "output_type": "execute_result",
          "data": {
            "text/plain": [
              "{'Name': 'Ram', 'Age': 22, 'City': 'Delhi'}"
            ]
          },
          "metadata": {},
          "execution_count": 3
        }
      ]
    },
    {
      "cell_type": "code",
      "source": [
        "v2.show_visitor_details()"
      ],
      "metadata": {
        "colab": {
          "base_uri": "https://localhost:8080/"
        },
        "id": "zZQiHBLWD8gi",
        "outputId": "05c40b25-a55c-4026-ba59-d6b9cfcd2dd6"
      },
      "execution_count": 4,
      "outputs": [
        {
          "output_type": "execute_result",
          "data": {
            "text/plain": [
              "{'Name': 'Jai', 'Age': 19, 'City': 'Jaipur'}"
            ]
          },
          "metadata": {},
          "execution_count": 4
        }
      ]
    },
    {
      "cell_type": "code",
      "source": [
        "v3.show_visitor_details()"
      ],
      "metadata": {
        "colab": {
          "base_uri": "https://localhost:8080/"
        },
        "id": "T_zfG07FFBWG",
        "outputId": "7011403c-853e-45b9-d6ce-2250f64fdd25"
      },
      "execution_count": 5,
      "outputs": [
        {
          "output_type": "execute_result",
          "data": {
            "text/plain": [
              "{'Name': 'Gagan', 'Age': 21, 'City': 'Indore'}"
            ]
          },
          "metadata": {},
          "execution_count": 5
        }
      ]
    },
    {
      "cell_type": "markdown",
      "source": [
        "**Create a Python class named BankAccount with the following attributes and methods:**\n",
        "\n",
        "    * Attributes: account_number, account_holder, balance\n",
        "    Methods:\n",
        "        - deposit(amount): Adds the specified amount to the balance.\n",
        "        - withdraw(amount): Deducts the specified amount from the balance if sufficient funds are available. Otherwise, prints \"Insufficient balance.\"\n",
        "        - display_balance(): Displays the current balance.\n",
        "\n",
        "* Write a script to create an instance of the class and demonstrate all the methods."
      ],
      "metadata": {
        "id": "G7XzWuL3FV08"
      }
    },
    {
      "cell_type": "code",
      "source": [
        "class BankAccount:\n",
        "  def __init__(self,account_number,account_holder,balance):\n",
        "    self.account_number = account_number\n",
        "    self.account_holder = account_holder\n",
        "    self.balance = balance\n",
        "\n",
        "  def deposit(self,amount):\n",
        "    self.balance += amount\n",
        "\n",
        "  def withdraw(self,amount):\n",
        "    if amount < self.balance:\n",
        "      self.balance -= amount\n",
        "      return \"Withdrawl successfull\"\n",
        "    else:\n",
        "      return \"Insufficient balance\"\n",
        "\n",
        "  def display_balance(self):\n",
        "    details = {\"Name\" : self.account_holder , \"Balance\" : self.balance}\n",
        "    return details"
      ],
      "metadata": {
        "id": "ifGL1K4sFExl"
      },
      "execution_count": 6,
      "outputs": []
    },
    {
      "cell_type": "code",
      "source": [
        "rahul = BankAccount(\"9754357785\" , \"Rahul\" , 20000)\n",
        "anita = BankAccount(\"9754557854\" , \"Anita\" , 15000)"
      ],
      "metadata": {
        "id": "BpLngMmFGxlI"
      },
      "execution_count": 7,
      "outputs": []
    },
    {
      "cell_type": "code",
      "source": [
        "print(rahul.account_number , rahul.account_holder , rahul.balance)"
      ],
      "metadata": {
        "colab": {
          "base_uri": "https://localhost:8080/"
        },
        "id": "ru8vB4nIG7iu",
        "outputId": "abae3316-1327-410b-ad41-b9ff93c5b84f"
      },
      "execution_count": 8,
      "outputs": [
        {
          "output_type": "stream",
          "name": "stdout",
          "text": [
            "9754357785 Rahul 20000\n"
          ]
        }
      ]
    },
    {
      "cell_type": "code",
      "source": [
        "print(anita.account_number , anita.account_holder , anita.balance)"
      ],
      "metadata": {
        "colab": {
          "base_uri": "https://localhost:8080/"
        },
        "id": "4zOgW86KHitJ",
        "outputId": "4429e4d9-805d-45a7-f1f8-714bab55663c"
      },
      "execution_count": 9,
      "outputs": [
        {
          "output_type": "stream",
          "name": "stdout",
          "text": [
            "9754557854 Anita 15000\n"
          ]
        }
      ]
    },
    {
      "cell_type": "code",
      "source": [
        "rahul.deposit(40000)\n",
        "print(rahul.account_number , rahul.account_holder , rahul.balance)"
      ],
      "metadata": {
        "colab": {
          "base_uri": "https://localhost:8080/"
        },
        "id": "8c4ve2wgHky_",
        "outputId": "828ed987-bb92-4aa4-8e76-ffee242bb940"
      },
      "execution_count": 10,
      "outputs": [
        {
          "output_type": "stream",
          "name": "stdout",
          "text": [
            "9754357785 Rahul 60000\n"
          ]
        }
      ]
    },
    {
      "cell_type": "code",
      "source": [
        "status = anita.withdraw(5000)\n",
        "print(status)\n",
        "print(anita.account_number , anita.account_holder , anita.balance)"
      ],
      "metadata": {
        "colab": {
          "base_uri": "https://localhost:8080/"
        },
        "id": "7xTo3OdjIP14",
        "outputId": "fc9edd5c-a39e-43c0-c145-0b11d54d4ea8"
      },
      "execution_count": 11,
      "outputs": [
        {
          "output_type": "stream",
          "name": "stdout",
          "text": [
            "Withdrawl successfull\n",
            "9754557854 Anita 10000\n"
          ]
        }
      ]
    },
    {
      "cell_type": "code",
      "source": [
        "status = anita.withdraw(50000)\n",
        "print(status)\n",
        "print(anita.account_number , anita.account_holder , anita.balance)"
      ],
      "metadata": {
        "colab": {
          "base_uri": "https://localhost:8080/"
        },
        "id": "H3OjbL1NIRsW",
        "outputId": "e2e08bba-e704-4a22-ba24-e8cee8b1f74f"
      },
      "execution_count": 12,
      "outputs": [
        {
          "output_type": "stream",
          "name": "stdout",
          "text": [
            "Insufficient balance\n",
            "9754557854 Anita 10000\n"
          ]
        }
      ]
    },
    {
      "cell_type": "code",
      "source": [
        "rahul.display_balance()"
      ],
      "metadata": {
        "colab": {
          "base_uri": "https://localhost:8080/"
        },
        "id": "dWOwShWyImnG",
        "outputId": "5e6c9a0f-55c2-4722-c115-3d9cb8cf445f"
      },
      "execution_count": 13,
      "outputs": [
        {
          "output_type": "execute_result",
          "data": {
            "text/plain": [
              "{'Name': 'Rahul', 'Balance': 60000}"
            ]
          },
          "metadata": {},
          "execution_count": 13
        }
      ]
    },
    {
      "cell_type": "code",
      "source": [
        "anita.display_balance()"
      ],
      "metadata": {
        "colab": {
          "base_uri": "https://localhost:8080/"
        },
        "id": "AZ6bPoBCJucX",
        "outputId": "9a945cc4-559d-4d09-ff3c-53b8df02ed1a"
      },
      "execution_count": 14,
      "outputs": [
        {
          "output_type": "execute_result",
          "data": {
            "text/plain": [
              "{'Name': 'Anita', 'Balance': 10000}"
            ]
          },
          "metadata": {},
          "execution_count": 14
        }
      ]
    },
    {
      "cell_type": "markdown",
      "source": [
        "**Python for Data Science**\n",
        "   * Numpy - Numerical Python\n",
        "   * Pandas\n",
        "   * Matplotlib\n",
        "   * Seaborn"
      ],
      "metadata": {
        "id": "a-9LK1o9KFrc"
      }
    },
    {
      "cell_type": "code",
      "source": [
        "val = 20\n",
        "print(val * 3)"
      ],
      "metadata": {
        "colab": {
          "base_uri": "https://localhost:8080/"
        },
        "id": "uPkCBDOMJxBo",
        "outputId": "373eed49-e497-4c91-c6f9-474b4433ad46"
      },
      "execution_count": 15,
      "outputs": [
        {
          "output_type": "stream",
          "name": "stdout",
          "text": [
            "60\n"
          ]
        }
      ]
    },
    {
      "cell_type": "code",
      "source": [
        "values = [5 , 8 , 3 , 2 , 7]\n",
        "print(values * 2)"
      ],
      "metadata": {
        "colab": {
          "base_uri": "https://localhost:8080/"
        },
        "id": "_x5lY1CnKWX7",
        "outputId": "f6cc3232-3315-4c1e-8325-4b9ff9482030"
      },
      "execution_count": 16,
      "outputs": [
        {
          "output_type": "stream",
          "name": "stdout",
          "text": [
            "[5, 8, 3, 2, 7, 5, 8, 3, 2, 7]\n"
          ]
        }
      ]
    },
    {
      "cell_type": "code",
      "source": [
        "def perform_multiplication(values , num):\n",
        "  output = []\n",
        "  for val in values:\n",
        "    output.append(val * num)\n",
        "  return output"
      ],
      "metadata": {
        "id": "J76LiosNKeUs"
      },
      "execution_count": 17,
      "outputs": []
    },
    {
      "cell_type": "code",
      "source": [
        "print(perform_multiplication([7,9,4,3] , 2))\n",
        "print(perform_multiplication([7,9,4,3,8,3,6] , 4))"
      ],
      "metadata": {
        "colab": {
          "base_uri": "https://localhost:8080/"
        },
        "id": "mCrR-w1bK4Ql",
        "outputId": "93f9235b-5e81-4164-e4bd-e37575a24fd2"
      },
      "execution_count": 18,
      "outputs": [
        {
          "output_type": "stream",
          "name": "stdout",
          "text": [
            "[14, 18, 8, 6]\n",
            "[28, 36, 16, 12, 32, 12, 24]\n"
          ]
        }
      ]
    },
    {
      "cell_type": "code",
      "source": [
        "values = [[5 , 8 , 3 , 2 , 7] , [2 , 4 , 5 , 1 , 6] , [3 , 4 , 6 , 7, 8]]\n",
        "print(values)"
      ],
      "metadata": {
        "colab": {
          "base_uri": "https://localhost:8080/"
        },
        "id": "sJWxLLmGK8IR",
        "outputId": "ad762d53-7a44-46d7-f547-74ab494a37fc"
      },
      "execution_count": 19,
      "outputs": [
        {
          "output_type": "stream",
          "name": "stdout",
          "text": [
            "[[5, 8, 3, 2, 7], [2, 4, 5, 1, 6], [3, 4, 6, 7, 8]]\n"
          ]
        }
      ]
    },
    {
      "cell_type": "code",
      "source": [
        "import numpy as np\n",
        "\n",
        "n1 = np.array([7,9,4,3,8,3,6])\n",
        "print(n1)\n",
        "print()\n",
        "print(n1 * 2)"
      ],
      "metadata": {
        "colab": {
          "base_uri": "https://localhost:8080/"
        },
        "id": "BZFAaJsoLWUw",
        "outputId": "d74d9fdb-5438-4478-e735-29fcd5141ff1"
      },
      "execution_count": 20,
      "outputs": [
        {
          "output_type": "stream",
          "name": "stdout",
          "text": [
            "[7 9 4 3 8 3 6]\n",
            "\n",
            "[14 18  8  6 16  6 12]\n"
          ]
        }
      ]
    },
    {
      "cell_type": "code",
      "source": [
        "print(np.__version__)"
      ],
      "metadata": {
        "colab": {
          "base_uri": "https://localhost:8080/"
        },
        "id": "XWEwlwarcT7P",
        "outputId": "87b5608b-6fc4-46f6-f6f3-35eb67243c80"
      },
      "execution_count": 21,
      "outputs": [
        {
          "output_type": "stream",
          "name": "stdout",
          "text": [
            "2.0.2\n"
          ]
        }
      ]
    },
    {
      "cell_type": "code",
      "source": [
        "print(n1.ndim)\n",
        "print(n1.shape)"
      ],
      "metadata": {
        "colab": {
          "base_uri": "https://localhost:8080/"
        },
        "id": "yuzW2Gh-OGWG",
        "outputId": "9ff1db04-820f-42c2-bc09-7771255545c1"
      },
      "execution_count": 22,
      "outputs": [
        {
          "output_type": "stream",
          "name": "stdout",
          "text": [
            "1\n",
            "(7,)\n"
          ]
        }
      ]
    },
    {
      "cell_type": "code",
      "source": [
        "n2 = np.array([[5 , 8 , 3 , 2 , 7] , [2 , 4 , 5 , 1 , 6] , [3 , 4 , 6 , 7, 8]])\n",
        "print(n2)"
      ],
      "metadata": {
        "colab": {
          "base_uri": "https://localhost:8080/"
        },
        "id": "xhAGSWu6Lu1S",
        "outputId": "e28a561f-fe1d-4dc5-e700-8c93fc2cdf92"
      },
      "execution_count": 23,
      "outputs": [
        {
          "output_type": "stream",
          "name": "stdout",
          "text": [
            "[[5 8 3 2 7]\n",
            " [2 4 5 1 6]\n",
            " [3 4 6 7 8]]\n"
          ]
        }
      ]
    },
    {
      "cell_type": "code",
      "source": [
        "print(n2 * 3)"
      ],
      "metadata": {
        "colab": {
          "base_uri": "https://localhost:8080/"
        },
        "id": "2ClBM29OL-JS",
        "outputId": "f8665225-94c3-451d-ef69-3e81c680172c"
      },
      "execution_count": 24,
      "outputs": [
        {
          "output_type": "stream",
          "name": "stdout",
          "text": [
            "[[15 24  9  6 21]\n",
            " [ 6 12 15  3 18]\n",
            " [ 9 12 18 21 24]]\n"
          ]
        }
      ]
    },
    {
      "cell_type": "code",
      "source": [
        "print(n2)"
      ],
      "metadata": {
        "colab": {
          "base_uri": "https://localhost:8080/"
        },
        "id": "BYIZDpQ8NZhF",
        "outputId": "e4e32c39-daaa-41cb-8a2f-edcd9ee7e43b"
      },
      "execution_count": 25,
      "outputs": [
        {
          "output_type": "stream",
          "name": "stdout",
          "text": [
            "[[5 8 3 2 7]\n",
            " [2 4 5 1 6]\n",
            " [3 4 6 7 8]]\n"
          ]
        }
      ]
    },
    {
      "cell_type": "code",
      "source": [
        "print(n2.ndim)\n",
        "print(n2.shape)\n",
        "print(n2.size)"
      ],
      "metadata": {
        "colab": {
          "base_uri": "https://localhost:8080/"
        },
        "id": "e-gnzJN_OOCN",
        "outputId": "424a44a3-0a83-46ec-fc89-93cf1d07a3cc"
      },
      "execution_count": 26,
      "outputs": [
        {
          "output_type": "stream",
          "name": "stdout",
          "text": [
            "2\n",
            "(3, 5)\n",
            "15\n"
          ]
        }
      ]
    },
    {
      "cell_type": "code",
      "source": [
        "print(np.mean(n2))\n",
        "print(np.sum(n2))\n",
        "print(np.prod(n2))\n",
        "print(np.min(n2))\n",
        "print(np.max(n2))\n",
        "print(np.argmin(n2))\n",
        "print(np.argmax(n2))"
      ],
      "metadata": {
        "colab": {
          "base_uri": "https://localhost:8080/"
        },
        "id": "AnlUySeAMA-4",
        "outputId": "5b17f449-bf7a-4a25-bf0b-32621c56ffed"
      },
      "execution_count": 27,
      "outputs": [
        {
          "output_type": "stream",
          "name": "stdout",
          "text": [
            "4.733333333333333\n",
            "71\n",
            "1625702400\n",
            "1\n",
            "8\n",
            "8\n",
            "1\n"
          ]
        }
      ]
    },
    {
      "cell_type": "code",
      "source": [
        "n3 = np.array([9,7,3,4,3,7,8,2,1,5,9,3,9])\n",
        "print(np.min(n3) , np.argmin(n3))\n",
        "print(np.max(n3) , np.argmax(n3))"
      ],
      "metadata": {
        "colab": {
          "base_uri": "https://localhost:8080/"
        },
        "id": "8R1deDnBMERV",
        "outputId": "ad77dcda-b181-40b0-bd6a-2507477b0c7a"
      },
      "execution_count": 28,
      "outputs": [
        {
          "output_type": "stream",
          "name": "stdout",
          "text": [
            "1 8\n",
            "9 0\n"
          ]
        }
      ]
    },
    {
      "cell_type": "code",
      "source": [
        "print(n2)"
      ],
      "metadata": {
        "colab": {
          "base_uri": "https://localhost:8080/"
        },
        "id": "jgSymzQwOZPD",
        "outputId": "73e956d4-fe2c-4764-e618-3b8478e4398b"
      },
      "execution_count": 29,
      "outputs": [
        {
          "output_type": "stream",
          "name": "stdout",
          "text": [
            "[[5 8 3 2 7]\n",
            " [2 4 5 1 6]\n",
            " [3 4 6 7 8]]\n"
          ]
        }
      ]
    },
    {
      "cell_type": "code",
      "source": [
        "#Calculate for each row\n",
        "print(np.mean(n2, axis = 1))\n",
        "print(np.sum(n2, axis = 1))\n",
        "print(np.prod(n2, axis = 1))\n",
        "print(np.min(n2, axis = 1))\n",
        "print(np.max(n2, axis = 1))\n",
        "print(np.argmin(n2, axis = 1))\n",
        "print(np.argmax(n2, axis = 1))"
      ],
      "metadata": {
        "colab": {
          "base_uri": "https://localhost:8080/"
        },
        "id": "v5_LQLP7N2DL",
        "outputId": "108ce144-216c-486c-89c5-a4022d5c7f41"
      },
      "execution_count": 30,
      "outputs": [
        {
          "output_type": "stream",
          "name": "stdout",
          "text": [
            "[5.  3.6 5.6]\n",
            "[25 18 28]\n",
            "[1680  240 4032]\n",
            "[2 1 3]\n",
            "[8 6 8]\n",
            "[3 3 0]\n",
            "[1 4 4]\n"
          ]
        }
      ]
    },
    {
      "cell_type": "code",
      "source": [
        "#Calculate for each columns\n",
        "print(np.mean(n2, axis = 0))\n",
        "print(np.sum(n2, axis = 0))\n",
        "print(np.prod(n2, axis = 0))\n",
        "print(np.min(n2, axis = 0))\n",
        "print(np.max(n2, axis = 0))\n",
        "print(np.argmin(n2, axis = 0))\n",
        "print(np.argmax(n2, axis = 0))"
      ],
      "metadata": {
        "colab": {
          "base_uri": "https://localhost:8080/"
        },
        "id": "R2L7e1dqOcS_",
        "outputId": "5e59219d-417e-4240-e71d-edf4faaa810f"
      },
      "execution_count": 31,
      "outputs": [
        {
          "output_type": "stream",
          "name": "stdout",
          "text": [
            "[3.33333333 5.33333333 4.66666667 3.33333333 7.        ]\n",
            "[10 16 14 10 21]\n",
            "[ 30 128  90  14 336]\n",
            "[2 4 3 1 6]\n",
            "[5 8 6 7 8]\n",
            "[1 1 0 1 1]\n",
            "[0 0 2 2 2]\n"
          ]
        }
      ]
    },
    {
      "cell_type": "code",
      "source": [
        "print(n2)"
      ],
      "metadata": {
        "colab": {
          "base_uri": "https://localhost:8080/"
        },
        "id": "dXVZUzdvOu2u",
        "outputId": "f0459c08-3cd1-485f-87cf-cdb5c9d427e4"
      },
      "execution_count": 32,
      "outputs": [
        {
          "output_type": "stream",
          "name": "stdout",
          "text": [
            "[[5 8 3 2 7]\n",
            " [2 4 5 1 6]\n",
            " [3 4 6 7 8]]\n"
          ]
        }
      ]
    },
    {
      "cell_type": "code",
      "source": [
        "print(n2[0,0])            #array[row_index , column_index]\n",
        "print(n2[0,1])\n",
        "print(n2[1,0])"
      ],
      "metadata": {
        "colab": {
          "base_uri": "https://localhost:8080/"
        },
        "id": "KXAhNKHqPNO6",
        "outputId": "44f26fc4-e59a-4a8d-a467-2bf7f40d7040"
      },
      "execution_count": 33,
      "outputs": [
        {
          "output_type": "stream",
          "name": "stdout",
          "text": [
            "5\n",
            "8\n",
            "2\n"
          ]
        }
      ]
    },
    {
      "cell_type": "code",
      "source": [
        "print(np.zeros((4,3)))"
      ],
      "metadata": {
        "colab": {
          "base_uri": "https://localhost:8080/"
        },
        "id": "QCuI8HJ_PVrG",
        "outputId": "88912dd4-db25-4824-cb40-251c367e9bc7"
      },
      "execution_count": 34,
      "outputs": [
        {
          "output_type": "stream",
          "name": "stdout",
          "text": [
            "[[0. 0. 0.]\n",
            " [0. 0. 0.]\n",
            " [0. 0. 0.]\n",
            " [0. 0. 0.]]\n"
          ]
        }
      ]
    },
    {
      "cell_type": "code",
      "source": [
        "print(np.ones((4,3)))"
      ],
      "metadata": {
        "colab": {
          "base_uri": "https://localhost:8080/"
        },
        "id": "xUXKekyQPl2t",
        "outputId": "2e29eae3-f0d4-4dde-833e-087e4cc6c9cc"
      },
      "execution_count": 35,
      "outputs": [
        {
          "output_type": "stream",
          "name": "stdout",
          "text": [
            "[[1. 1. 1.]\n",
            " [1. 1. 1.]\n",
            " [1. 1. 1.]\n",
            " [1. 1. 1.]]\n"
          ]
        }
      ]
    },
    {
      "cell_type": "code",
      "source": [
        "print(np.eye(4))"
      ],
      "metadata": {
        "colab": {
          "base_uri": "https://localhost:8080/"
        },
        "id": "bDWbHOt5Ps6U",
        "outputId": "39660b08-15cb-4034-b393-412155831802"
      },
      "execution_count": 36,
      "outputs": [
        {
          "output_type": "stream",
          "name": "stdout",
          "text": [
            "[[1. 0. 0. 0.]\n",
            " [0. 1. 0. 0.]\n",
            " [0. 0. 1. 0.]\n",
            " [0. 0. 0. 1.]]\n"
          ]
        }
      ]
    },
    {
      "cell_type": "code",
      "source": [
        "n4 = np.arange(0,36)                #array + range\n",
        "print(n4)"
      ],
      "metadata": {
        "colab": {
          "base_uri": "https://localhost:8080/"
        },
        "id": "UCyjf6nxPwCj",
        "outputId": "c3c930d6-4fa9-451e-a293-2c9da6cd7233"
      },
      "execution_count": 37,
      "outputs": [
        {
          "output_type": "stream",
          "name": "stdout",
          "text": [
            "[ 0  1  2  3  4  5  6  7  8  9 10 11 12 13 14 15 16 17 18 19 20 21 22 23\n",
            " 24 25 26 27 28 29 30 31 32 33 34 35]\n"
          ]
        }
      ]
    },
    {
      "cell_type": "code",
      "source": [
        "#36 - (1,36) , (36,1) , (2,18) , (18,2) , (3,12) , (12,3) , (4,9) , (9,4) , (6,6)\n",
        "n5 = n4.reshape(6,6)\n",
        "print(n5)"
      ],
      "metadata": {
        "colab": {
          "base_uri": "https://localhost:8080/"
        },
        "id": "dYQP3LpLP1CB",
        "outputId": "7e835aa2-5431-44b5-b97c-290870852e3f"
      },
      "execution_count": 38,
      "outputs": [
        {
          "output_type": "stream",
          "name": "stdout",
          "text": [
            "[[ 0  1  2  3  4  5]\n",
            " [ 6  7  8  9 10 11]\n",
            " [12 13 14 15 16 17]\n",
            " [18 19 20 21 22 23]\n",
            " [24 25 26 27 28 29]\n",
            " [30 31 32 33 34 35]]\n"
          ]
        }
      ]
    },
    {
      "cell_type": "code",
      "source": [
        "print(n2)"
      ],
      "metadata": {
        "colab": {
          "base_uri": "https://localhost:8080/"
        },
        "id": "GmhgILoNQoIE",
        "outputId": "c7a1d44e-e284-4abf-d782-d8ec98b3d8fb"
      },
      "execution_count": 39,
      "outputs": [
        {
          "output_type": "stream",
          "name": "stdout",
          "text": [
            "[[5 8 3 2 7]\n",
            " [2 4 5 1 6]\n",
            " [3 4 6 7 8]]\n"
          ]
        }
      ]
    },
    {
      "cell_type": "code",
      "source": [
        "#converting n-dimensional matrix into 1 dimensional\n",
        "print(n2.ravel())\n",
        "print(n2.flatten())"
      ],
      "metadata": {
        "colab": {
          "base_uri": "https://localhost:8080/"
        },
        "id": "NFjhtKEYQsKz",
        "outputId": "96c6162d-6829-41b5-a783-9d0d5d57e591"
      },
      "execution_count": 40,
      "outputs": [
        {
          "output_type": "stream",
          "name": "stdout",
          "text": [
            "[5 8 3 2 7 2 4 5 1 6 3 4 6 7 8]\n",
            "[5 8 3 2 7 2 4 5 1 6 3 4 6 7 8]\n"
          ]
        }
      ]
    },
    {
      "cell_type": "markdown",
      "source": [
        "**Broadcasting**"
      ],
      "metadata": {
        "id": "am0_HTlNRC8v"
      }
    },
    {
      "cell_type": "code",
      "source": [
        "print(n2)"
      ],
      "metadata": {
        "colab": {
          "base_uri": "https://localhost:8080/"
        },
        "id": "HplWxfcgQ95o",
        "outputId": "1018cc57-1c2c-4da3-ce58-6d3de1a05394"
      },
      "execution_count": 41,
      "outputs": [
        {
          "output_type": "stream",
          "name": "stdout",
          "text": [
            "[[5 8 3 2 7]\n",
            " [2 4 5 1 6]\n",
            " [3 4 6 7 8]]\n"
          ]
        }
      ]
    },
    {
      "cell_type": "code",
      "source": [
        "val = 3"
      ],
      "metadata": {
        "id": "trE0wqxNTGdO"
      },
      "execution_count": 42,
      "outputs": []
    },
    {
      "cell_type": "code",
      "source": [
        "print(n2 * val)"
      ],
      "metadata": {
        "colab": {
          "base_uri": "https://localhost:8080/"
        },
        "id": "j2pOS9JxTIiR",
        "outputId": "2ea7072f-416d-43e8-fbc7-fe3e3b295a8d"
      },
      "execution_count": 43,
      "outputs": [
        {
          "output_type": "stream",
          "name": "stdout",
          "text": [
            "[[15 24  9  6 21]\n",
            " [ 6 12 15  3 18]\n",
            " [ 9 12 18 21 24]]\n"
          ]
        }
      ]
    },
    {
      "cell_type": "code",
      "source": [
        "a1 = [2,4,2,1,2]\n",
        "\n",
        "print(n2 * a1)"
      ],
      "metadata": {
        "colab": {
          "base_uri": "https://localhost:8080/"
        },
        "id": "1L5FtXM8Teex",
        "outputId": "956c226a-9e7a-4153-b1a2-391b29d0b1ae"
      },
      "execution_count": 44,
      "outputs": [
        {
          "output_type": "stream",
          "name": "stdout",
          "text": [
            "[[10 32  6  2 14]\n",
            " [ 4 16 10  1 12]\n",
            " [ 6 16 12  7 16]]\n"
          ]
        }
      ]
    },
    {
      "cell_type": "code",
      "source": [
        "print(n2)"
      ],
      "metadata": {
        "colab": {
          "base_uri": "https://localhost:8080/"
        },
        "id": "SXBm1YsXUB_Q",
        "outputId": "528d17ee-60f3-46b9-ae25-058e594ddb7c"
      },
      "execution_count": 45,
      "outputs": [
        {
          "output_type": "stream",
          "name": "stdout",
          "text": [
            "[[5 8 3 2 7]\n",
            " [2 4 5 1 6]\n",
            " [3 4 6 7 8]]\n"
          ]
        }
      ]
    },
    {
      "cell_type": "code",
      "source": [
        "a2 = [[3],[2],[1]]\n",
        "\n",
        "print(n2 * a2)"
      ],
      "metadata": {
        "colab": {
          "base_uri": "https://localhost:8080/"
        },
        "id": "wQGrwzuTT4Oy",
        "outputId": "027dbfce-92b0-4f06-9157-6da5e6b6b9f7"
      },
      "execution_count": 46,
      "outputs": [
        {
          "output_type": "stream",
          "name": "stdout",
          "text": [
            "[[15 24  9  6 21]\n",
            " [ 4  8 10  2 12]\n",
            " [ 3  4  6  7  8]]\n"
          ]
        }
      ]
    },
    {
      "cell_type": "code",
      "source": [
        "print(n2)"
      ],
      "metadata": {
        "colab": {
          "base_uri": "https://localhost:8080/"
        },
        "id": "XxZz7eT8UXFw",
        "outputId": "dbfc4f21-b24f-44a7-b12d-40f0f0b8b8b3"
      },
      "execution_count": 47,
      "outputs": [
        {
          "output_type": "stream",
          "name": "stdout",
          "text": [
            "[[5 8 3 2 7]\n",
            " [2 4 5 1 6]\n",
            " [3 4 6 7 8]]\n"
          ]
        }
      ]
    },
    {
      "cell_type": "code",
      "source": [
        "a3 = [[3,2,1,4,1] , [3,2,1,4,1]]\n",
        "\n",
        "print(n2 * a3)"
      ],
      "metadata": {
        "colab": {
          "base_uri": "https://localhost:8080/",
          "height": 178
        },
        "id": "Vk8zYr48UYKU",
        "outputId": "ec706083-2825-41f0-8065-a202611fe59c"
      },
      "execution_count": 48,
      "outputs": [
        {
          "output_type": "error",
          "ename": "ValueError",
          "evalue": "operands could not be broadcast together with shapes (3,5) (2,5) ",
          "traceback": [
            "\u001b[0;31m---------------------------------------------------------------------------\u001b[0m",
            "\u001b[0;31mValueError\u001b[0m                                Traceback (most recent call last)",
            "\u001b[0;32m/tmp/ipython-input-48-139057145.py\u001b[0m in \u001b[0;36m<cell line: 0>\u001b[0;34m()\u001b[0m\n\u001b[1;32m      1\u001b[0m \u001b[0ma3\u001b[0m \u001b[0;34m=\u001b[0m \u001b[0;34m[\u001b[0m\u001b[0;34m[\u001b[0m\u001b[0;36m3\u001b[0m\u001b[0;34m,\u001b[0m\u001b[0;36m2\u001b[0m\u001b[0;34m,\u001b[0m\u001b[0;36m1\u001b[0m\u001b[0;34m,\u001b[0m\u001b[0;36m4\u001b[0m\u001b[0;34m,\u001b[0m\u001b[0;36m1\u001b[0m\u001b[0;34m]\u001b[0m \u001b[0;34m,\u001b[0m \u001b[0;34m[\u001b[0m\u001b[0;36m3\u001b[0m\u001b[0;34m,\u001b[0m\u001b[0;36m2\u001b[0m\u001b[0;34m,\u001b[0m\u001b[0;36m1\u001b[0m\u001b[0;34m,\u001b[0m\u001b[0;36m4\u001b[0m\u001b[0;34m,\u001b[0m\u001b[0;36m1\u001b[0m\u001b[0;34m]\u001b[0m\u001b[0;34m]\u001b[0m\u001b[0;34m\u001b[0m\u001b[0;34m\u001b[0m\u001b[0m\n\u001b[1;32m      2\u001b[0m \u001b[0;34m\u001b[0m\u001b[0m\n\u001b[0;32m----> 3\u001b[0;31m \u001b[0mprint\u001b[0m\u001b[0;34m(\u001b[0m\u001b[0mn2\u001b[0m \u001b[0;34m*\u001b[0m \u001b[0ma3\u001b[0m\u001b[0;34m)\u001b[0m\u001b[0;34m\u001b[0m\u001b[0;34m\u001b[0m\u001b[0m\n\u001b[0m",
            "\u001b[0;31mValueError\u001b[0m: operands could not be broadcast together with shapes (3,5) (2,5) "
          ]
        }
      ]
    },
    {
      "cell_type": "markdown",
      "source": [
        "**Rules of Broadcasting**\n",
        "   * a single scaler value can be broadcasted to match the shape of larger array for mathematical operations\n",
        "   * smaller array should have 1 row and number of coulumns equals to the larger array\n",
        "   * smaller array should have 1 column and number of rows equals to larger array"
      ],
      "metadata": {
        "id": "nQjsmSKGU4gR"
      }
    },
    {
      "cell_type": "markdown",
      "source": [
        "**dot product**"
      ],
      "metadata": {
        "id": "gQhm_xqpREjl"
      }
    },
    {
      "cell_type": "code",
      "source": [
        "print(n2)"
      ],
      "metadata": {
        "colab": {
          "base_uri": "https://localhost:8080/"
        },
        "id": "ARNSr-sIRG09",
        "outputId": "b4cef1a1-8ece-4c9f-c968-bd096dfa70f4"
      },
      "execution_count": 49,
      "outputs": [
        {
          "output_type": "stream",
          "name": "stdout",
          "text": [
            "[[5 8 3 2 7]\n",
            " [2 4 5 1 6]\n",
            " [3 4 6 7 8]]\n"
          ]
        }
      ]
    },
    {
      "cell_type": "code",
      "source": [
        "a4 = np.array([[3,2,1,3,4] , [2,1,2,3,2]])\n",
        "print(a4)"
      ],
      "metadata": {
        "colab": {
          "base_uri": "https://localhost:8080/"
        },
        "id": "0XDVVYGGWxor",
        "outputId": "f0c135c4-660f-4b57-b51b-46d1cbc91f5d"
      },
      "execution_count": 50,
      "outputs": [
        {
          "output_type": "stream",
          "name": "stdout",
          "text": [
            "[[3 2 1 3 4]\n",
            " [2 1 2 3 2]]\n"
          ]
        }
      ]
    },
    {
      "cell_type": "markdown",
      "source": [
        "**reshaping** - [3 2 1 3 4 2 1 2 3 2] - [[3, 2] , [1 , 3], [4 , 2] , [1 , 2] , [3 , 2]]"
      ],
      "metadata": {
        "id": "iqdJ_pu-a3kO"
      }
    },
    {
      "cell_type": "code",
      "source": [
        "a4.T"
      ],
      "metadata": {
        "colab": {
          "base_uri": "https://localhost:8080/"
        },
        "id": "q5VFTiM-axkK",
        "outputId": "63de9dc2-e569-4ef5-f9d0-1bfaa1345ac4"
      },
      "execution_count": 51,
      "outputs": [
        {
          "output_type": "execute_result",
          "data": {
            "text/plain": [
              "array([[3, 2],\n",
              "       [2, 1],\n",
              "       [1, 2],\n",
              "       [3, 3],\n",
              "       [4, 2]])"
            ]
          },
          "metadata": {},
          "execution_count": 51
        }
      ]
    },
    {
      "cell_type": "code",
      "source": [
        "np.dot(n2, a4.T)"
      ],
      "metadata": {
        "colab": {
          "base_uri": "https://localhost:8080/"
        },
        "id": "Ypx3n4MpW6Q3",
        "outputId": "17846d62-c64c-45d7-f45c-7fc4782266bf"
      },
      "execution_count": 52,
      "outputs": [
        {
          "output_type": "execute_result",
          "data": {
            "text/plain": [
              "array([[68, 44],\n",
              "       [46, 33],\n",
              "       [76, 59]])"
            ]
          },
          "metadata": {},
          "execution_count": 52
        }
      ]
    },
    {
      "cell_type": "markdown",
      "source": [
        "* 3x + 2y + z = 10\n",
        "* x + y + z = 7\n",
        "* 2x + 2y + 5z = 15"
      ],
      "metadata": {
        "id": "i7miZLdGbLz9"
      }
    },
    {
      "cell_type": "code",
      "source": [
        "A = np.array([[3 , 2 , 1] , [1 , 1 , 1] , [2 , 2 , 5]])\n",
        "print(A)"
      ],
      "metadata": {
        "colab": {
          "base_uri": "https://localhost:8080/"
        },
        "id": "BeerDTUeW-HG",
        "outputId": "491a8473-35c0-4f5a-8400-452087c0a06b"
      },
      "execution_count": 53,
      "outputs": [
        {
          "output_type": "stream",
          "name": "stdout",
          "text": [
            "[[3 2 1]\n",
            " [1 1 1]\n",
            " [2 2 5]]\n"
          ]
        }
      ]
    },
    {
      "cell_type": "code",
      "source": [
        "X = np.array([['x'] , ['y'] , ['z']])\n",
        "print(X)"
      ],
      "metadata": {
        "colab": {
          "base_uri": "https://localhost:8080/"
        },
        "id": "c3AfeY_8b1AZ",
        "outputId": "b094ff9f-423b-4ad5-f3a4-260ff196b399"
      },
      "execution_count": 54,
      "outputs": [
        {
          "output_type": "stream",
          "name": "stdout",
          "text": [
            "[['x']\n",
            " ['y']\n",
            " ['z']]\n"
          ]
        }
      ]
    },
    {
      "cell_type": "code",
      "source": [
        "B = np.array([[10] , [7] , [15]])\n",
        "print(B)"
      ],
      "metadata": {
        "colab": {
          "base_uri": "https://localhost:8080/"
        },
        "id": "KOaphdRXb5Rj",
        "outputId": "84aa4f30-8762-4936-d906-c76dc18e51f4"
      },
      "execution_count": 55,
      "outputs": [
        {
          "output_type": "stream",
          "name": "stdout",
          "text": [
            "[[10]\n",
            " [ 7]\n",
            " [15]]\n"
          ]
        }
      ]
    },
    {
      "cell_type": "code",
      "source": [
        "#X = inv(A).B\n",
        "\n",
        "Ainv = np.linalg.inv(A)"
      ],
      "metadata": {
        "id": "lcN7tGo2cBUZ"
      },
      "execution_count": 56,
      "outputs": []
    },
    {
      "cell_type": "code",
      "source": [
        "X = np.dot(Ainv, B)\n",
        "print(X)"
      ],
      "metadata": {
        "colab": {
          "base_uri": "https://localhost:8080/"
        },
        "id": "LVPM7LJWckEx",
        "outputId": "5535ce4a-c064-4a3d-eeb5-32f2e94221df"
      },
      "execution_count": 57,
      "outputs": [
        {
          "output_type": "stream",
          "name": "stdout",
          "text": [
            "[[-3.66666667]\n",
            " [10.33333333]\n",
            " [ 0.33333333]]\n"
          ]
        }
      ]
    },
    {
      "cell_type": "code",
      "source": [
        "C = np.dot(A,X).astype(int)\n",
        "print(C)"
      ],
      "metadata": {
        "colab": {
          "base_uri": "https://localhost:8080/"
        },
        "id": "PRf_Qtswcq_9",
        "outputId": "209e605c-b9a5-46c4-a094-3c3b3db179ad"
      },
      "execution_count": 58,
      "outputs": [
        {
          "output_type": "stream",
          "name": "stdout",
          "text": [
            "[[10]\n",
            " [ 7]\n",
            " [15]]\n"
          ]
        }
      ]
    },
    {
      "cell_type": "code",
      "source": [
        "B == C"
      ],
      "metadata": {
        "colab": {
          "base_uri": "https://localhost:8080/"
        },
        "id": "g0VQDmBle1dQ",
        "outputId": "3fb251f7-4982-4274-c6db-d3cf4e7c6443"
      },
      "execution_count": 59,
      "outputs": [
        {
          "output_type": "execute_result",
          "data": {
            "text/plain": [
              "array([[ True],\n",
              "       [ True],\n",
              "       [ True]])"
            ]
          },
          "metadata": {},
          "execution_count": 59
        }
      ]
    },
    {
      "cell_type": "markdown",
      "source": [
        "**Slicing**"
      ],
      "metadata": {
        "id": "iznGRJ2Hc8XB"
      }
    },
    {
      "cell_type": "code",
      "source": [
        "arr1 = np.arange(0,42).reshape(6,7)\n",
        "print(arr1)"
      ],
      "metadata": {
        "colab": {
          "base_uri": "https://localhost:8080/"
        },
        "id": "McYOvIfxcyBi",
        "outputId": "1facc79c-a1f2-42bc-8a5d-d7920cbbaf59"
      },
      "execution_count": 60,
      "outputs": [
        {
          "output_type": "stream",
          "name": "stdout",
          "text": [
            "[[ 0  1  2  3  4  5  6]\n",
            " [ 7  8  9 10 11 12 13]\n",
            " [14 15 16 17 18 19 20]\n",
            " [21 22 23 24 25 26 27]\n",
            " [28 29 30 31 32 33 34]\n",
            " [35 36 37 38 39 40 41]]\n"
          ]
        }
      ]
    },
    {
      "cell_type": "code",
      "source": [
        "print(arr1[1,2])              #array[row_index , col_index]"
      ],
      "metadata": {
        "colab": {
          "base_uri": "https://localhost:8080/"
        },
        "id": "WSo0VOiYdX31",
        "outputId": "0fbbf8da-85fc-4ff0-8d17-823571500881"
      },
      "execution_count": 61,
      "outputs": [
        {
          "output_type": "stream",
          "name": "stdout",
          "text": [
            "9\n"
          ]
        }
      ]
    },
    {
      "cell_type": "markdown",
      "source": [
        "* array[row_slicing , column slicing]\n",
        "* array[intial_row_index : intial_row_index + number of rows , initial_col_index : initial_col_index + number of columns]"
      ],
      "metadata": {
        "id": "7ANBOWYwdx73"
      }
    },
    {
      "cell_type": "code",
      "source": [
        "print(arr1)"
      ],
      "metadata": {
        "colab": {
          "base_uri": "https://localhost:8080/"
        },
        "id": "d99Eaz2bdh-u",
        "outputId": "62716b3b-85f7-43cf-86ff-8495e83dcf55"
      },
      "execution_count": 62,
      "outputs": [
        {
          "output_type": "stream",
          "name": "stdout",
          "text": [
            "[[ 0  1  2  3  4  5  6]\n",
            " [ 7  8  9 10 11 12 13]\n",
            " [14 15 16 17 18 19 20]\n",
            " [21 22 23 24 25 26 27]\n",
            " [28 29 30 31 32 33 34]\n",
            " [35 36 37 38 39 40 41]]\n"
          ]
        }
      ]
    },
    {
      "cell_type": "code",
      "source": [
        "print(arr1[2:5 , 1:5])"
      ],
      "metadata": {
        "colab": {
          "base_uri": "https://localhost:8080/"
        },
        "id": "ylK6_-Y5dX7z",
        "outputId": "a461986c-690e-4cfd-d438-edc0db07b180"
      },
      "execution_count": 63,
      "outputs": [
        {
          "output_type": "stream",
          "name": "stdout",
          "text": [
            "[[15 16 17 18]\n",
            " [22 23 24 25]\n",
            " [29 30 31 32]]\n"
          ]
        }
      ]
    },
    {
      "cell_type": "code",
      "source": [
        "arr1[: , 6:]"
      ],
      "metadata": {
        "colab": {
          "base_uri": "https://localhost:8080/"
        },
        "id": "3J09IAD-dX_f",
        "outputId": "4bcd8092-cdc4-4092-bfd7-cd8846b5aa19"
      },
      "execution_count": 64,
      "outputs": [
        {
          "output_type": "execute_result",
          "data": {
            "text/plain": [
              "array([[ 6],\n",
              "       [13],\n",
              "       [20],\n",
              "       [27],\n",
              "       [34],\n",
              "       [41]])"
            ]
          },
          "metadata": {},
          "execution_count": 64
        }
      ]
    },
    {
      "cell_type": "code",
      "source": [
        "arr1[: , -1:]"
      ],
      "metadata": {
        "colab": {
          "base_uri": "https://localhost:8080/"
        },
        "id": "mp0VMg_efmeu",
        "outputId": "9faa9458-2089-48aa-a64c-202772f7f028"
      },
      "execution_count": 65,
      "outputs": [
        {
          "output_type": "execute_result",
          "data": {
            "text/plain": [
              "array([[ 6],\n",
              "       [13],\n",
              "       [20],\n",
              "       [27],\n",
              "       [34],\n",
              "       [41]])"
            ]
          },
          "metadata": {},
          "execution_count": 65
        }
      ]
    },
    {
      "cell_type": "code",
      "source": [
        "arr1[5: , :]"
      ],
      "metadata": {
        "colab": {
          "base_uri": "https://localhost:8080/"
        },
        "id": "hDxXBcxifuI9",
        "outputId": "8e9fd081-3deb-44e3-f265-32bf43e92eee"
      },
      "execution_count": 66,
      "outputs": [
        {
          "output_type": "execute_result",
          "data": {
            "text/plain": [
              "array([[35, 36, 37, 38, 39, 40, 41]])"
            ]
          },
          "metadata": {},
          "execution_count": 66
        }
      ]
    },
    {
      "cell_type": "code",
      "source": [
        "print(arr1)"
      ],
      "metadata": {
        "colab": {
          "base_uri": "https://localhost:8080/"
        },
        "id": "TET6WlKsgbI9",
        "outputId": "f04911d8-217d-4000-e4ac-5865aaf2c70f"
      },
      "execution_count": 67,
      "outputs": [
        {
          "output_type": "stream",
          "name": "stdout",
          "text": [
            "[[ 0  1  2  3  4  5  6]\n",
            " [ 7  8  9 10 11 12 13]\n",
            " [14 15 16 17 18 19 20]\n",
            " [21 22 23 24 25 26 27]\n",
            " [28 29 30 31 32 33 34]\n",
            " [35 36 37 38 39 40 41]]\n"
          ]
        }
      ]
    },
    {
      "cell_type": "code",
      "source": [
        "print(arr1[1:3 , 0:5])"
      ],
      "metadata": {
        "colab": {
          "base_uri": "https://localhost:8080/"
        },
        "id": "d9zdPaOfgdju",
        "outputId": "ae68b650-1f17-4a49-b006-d3af08e1467e"
      },
      "execution_count": 68,
      "outputs": [
        {
          "output_type": "stream",
          "name": "stdout",
          "text": [
            "[[ 7  8  9 10 11]\n",
            " [14 15 16 17 18]]\n"
          ]
        }
      ]
    },
    {
      "cell_type": "code",
      "source": [
        "print(arr1[4:5 , :])"
      ],
      "metadata": {
        "colab": {
          "base_uri": "https://localhost:8080/"
        },
        "id": "p1d4B5_PM7Di",
        "outputId": "0b1e3a6d-a3eb-4501-80a0-3ce7ce5d5bfb"
      },
      "execution_count": 77,
      "outputs": [
        {
          "output_type": "stream",
          "name": "stdout",
          "text": [
            "[[28 29 30 31 32 33 34]]\n"
          ]
        }
      ]
    },
    {
      "cell_type": "code",
      "source": [
        "print(arr1[-2:-1 , :])"
      ],
      "metadata": {
        "colab": {
          "base_uri": "https://localhost:8080/"
        },
        "id": "iqXB135gNMig",
        "outputId": "a2d51998-2581-4365-9cc4-b9400769a837"
      },
      "execution_count": 79,
      "outputs": [
        {
          "output_type": "stream",
          "name": "stdout",
          "text": [
            "[[28 29 30 31 32 33 34]]\n"
          ]
        }
      ]
    },
    {
      "cell_type": "code",
      "source": [
        "print(arr1[:, 5:6])"
      ],
      "metadata": {
        "colab": {
          "base_uri": "https://localhost:8080/"
        },
        "id": "5Zgi7cERNTBk",
        "outputId": "28cf8aee-8794-4d51-bfe5-3995fed23925"
      },
      "execution_count": 81,
      "outputs": [
        {
          "output_type": "stream",
          "name": "stdout",
          "text": [
            "[[ 5]\n",
            " [12]\n",
            " [19]\n",
            " [26]\n",
            " [33]\n",
            " [40]]\n"
          ]
        }
      ]
    },
    {
      "cell_type": "code",
      "source": [
        "print(arr1[:, -2:-1])"
      ],
      "metadata": {
        "colab": {
          "base_uri": "https://localhost:8080/"
        },
        "id": "a3VfmXTaNbCg",
        "outputId": "5b25f5ec-47ea-4e42-e65c-813806a28024"
      },
      "execution_count": 82,
      "outputs": [
        {
          "output_type": "stream",
          "name": "stdout",
          "text": [
            "[[ 5]\n",
            " [12]\n",
            " [19]\n",
            " [26]\n",
            " [33]\n",
            " [40]]\n"
          ]
        }
      ]
    },
    {
      "cell_type": "markdown",
      "source": [
        "**Stacking**\n",
        "\n",
        "  * vertical stack\n",
        "  * horizontal stack"
      ],
      "metadata": {
        "id": "rhhxZQg-c98I"
      }
    },
    {
      "cell_type": "code",
      "source": [
        "a = np.array([[2,1,3,4,5], [3,1,5,3,2] , [5,3,2,4,3]])\n",
        "print(a)"
      ],
      "metadata": {
        "colab": {
          "base_uri": "https://localhost:8080/"
        },
        "id": "b6cqtnj5c_CD",
        "outputId": "669662e3-6991-45d8-9268-476b40a71c7e"
      },
      "execution_count": 69,
      "outputs": [
        {
          "output_type": "stream",
          "name": "stdout",
          "text": [
            "[[2 1 3 4 5]\n",
            " [3 1 5 3 2]\n",
            " [5 3 2 4 3]]\n"
          ]
        }
      ]
    },
    {
      "cell_type": "code",
      "source": [
        "b = np.array([[7,9,4,3,2] , [3,2,1,5,6]])\n",
        "print(b)"
      ],
      "metadata": {
        "colab": {
          "base_uri": "https://localhost:8080/"
        },
        "id": "GBTRCvFgg052",
        "outputId": "22e2859a-2a36-4e70-abdc-398ccc632614"
      },
      "execution_count": 70,
      "outputs": [
        {
          "output_type": "stream",
          "name": "stdout",
          "text": [
            "[[7 9 4 3 2]\n",
            " [3 2 1 5 6]]\n"
          ]
        }
      ]
    },
    {
      "cell_type": "code",
      "source": [
        "#vstack - vertical stack\n",
        "print(np.vstack((a,b)))"
      ],
      "metadata": {
        "colab": {
          "base_uri": "https://localhost:8080/"
        },
        "id": "nVVDSM9Lg9Ze",
        "outputId": "52c27ab2-50c7-498c-fa00-ec4e338040d9"
      },
      "execution_count": 71,
      "outputs": [
        {
          "output_type": "stream",
          "name": "stdout",
          "text": [
            "[[2 1 3 4 5]\n",
            " [3 1 5 3 2]\n",
            " [5 3 2 4 3]\n",
            " [7 9 4 3 2]\n",
            " [3 2 1 5 6]]\n"
          ]
        }
      ]
    },
    {
      "cell_type": "code",
      "source": [
        "print(a)"
      ],
      "metadata": {
        "colab": {
          "base_uri": "https://localhost:8080/"
        },
        "id": "DZ3m1xAXhvpo",
        "outputId": "04b96afa-2bb3-4444-8b92-4a1012dc3717"
      },
      "execution_count": 72,
      "outputs": [
        {
          "output_type": "stream",
          "name": "stdout",
          "text": [
            "[[2 1 3 4 5]\n",
            " [3 1 5 3 2]\n",
            " [5 3 2 4 3]]\n"
          ]
        }
      ]
    },
    {
      "cell_type": "code",
      "source": [
        "c = np.array([[2,3,1],[4,3,2],[2,2,3]])\n",
        "print(c)"
      ],
      "metadata": {
        "colab": {
          "base_uri": "https://localhost:8080/"
        },
        "id": "gSe0lK3YhlD6",
        "outputId": "06569119-1908-498b-f1f1-359a5b475cc3"
      },
      "execution_count": 73,
      "outputs": [
        {
          "output_type": "stream",
          "name": "stdout",
          "text": [
            "[[2 3 1]\n",
            " [4 3 2]\n",
            " [2 2 3]]\n"
          ]
        }
      ]
    },
    {
      "cell_type": "code",
      "source": [
        "#hstack - Horizontal stack\n",
        "print(np.hstack((a,c)))"
      ],
      "metadata": {
        "colab": {
          "base_uri": "https://localhost:8080/"
        },
        "id": "PC-EWWJFg_8c",
        "outputId": "7e765b24-44f8-4cd3-b1a7-5f53fa2bb62a"
      },
      "execution_count": 74,
      "outputs": [
        {
          "output_type": "stream",
          "name": "stdout",
          "text": [
            "[[2 1 3 4 5 2 3 1]\n",
            " [3 1 5 3 2 4 3 2]\n",
            " [5 3 2 4 3 2 2 3]]\n"
          ]
        }
      ]
    },
    {
      "cell_type": "markdown",
      "source": [
        "**Shallow copy vs Deep Copy**"
      ],
      "metadata": {
        "id": "V7q3W__giH0A"
      }
    },
    {
      "cell_type": "markdown",
      "source": [
        "* It is important because it affects memory usage and data modification behaviour"
      ],
      "metadata": {
        "id": "RsP6lCg3Nfpk"
      }
    },
    {
      "cell_type": "markdown",
      "source": [
        "**Shallow copy (View)**\n",
        "  * create array a new array object that views the same data in the original array\n",
        "  * No data is copied\n",
        "  * changes in one array affects the other"
      ],
      "metadata": {
        "id": "uKpqXvSlNr-L"
      }
    },
    {
      "cell_type": "code",
      "source": [
        "print(arr1)"
      ],
      "metadata": {
        "id": "omSw7xTnhOaJ",
        "colab": {
          "base_uri": "https://localhost:8080/"
        },
        "outputId": "25a909cf-e1e0-42ad-a7af-faf65b01cee9"
      },
      "execution_count": 83,
      "outputs": [
        {
          "output_type": "stream",
          "name": "stdout",
          "text": [
            "[[ 0  1  2  3  4  5  6]\n",
            " [ 7  8  9 10 11 12 13]\n",
            " [14 15 16 17 18 19 20]\n",
            " [21 22 23 24 25 26 27]\n",
            " [28 29 30 31 32 33 34]\n",
            " [35 36 37 38 39 40 41]]\n"
          ]
        }
      ]
    },
    {
      "cell_type": "code",
      "source": [
        "arr2 = arr1[2:5 , 2:6]\n",
        "print(arr2)"
      ],
      "metadata": {
        "colab": {
          "base_uri": "https://localhost:8080/"
        },
        "id": "4r31RgDjOE1U",
        "outputId": "8b96ae78-954d-4479-a72e-fdc2fad2af0c"
      },
      "execution_count": 84,
      "outputs": [
        {
          "output_type": "stream",
          "name": "stdout",
          "text": [
            "[[16 17 18 19]\n",
            " [23 24 25 26]\n",
            " [30 31 32 33]]\n"
          ]
        }
      ]
    },
    {
      "cell_type": "code",
      "source": [
        "arr2[0,1] = 1771\n",
        "print(arr2)"
      ],
      "metadata": {
        "colab": {
          "base_uri": "https://localhost:8080/"
        },
        "id": "JEjzaHfHOQ3z",
        "outputId": "d4a220cd-bf13-494f-9323-816f64b52a59"
      },
      "execution_count": 87,
      "outputs": [
        {
          "output_type": "stream",
          "name": "stdout",
          "text": [
            "[[  16 1771   18   19]\n",
            " [  23   24   25   26]\n",
            " [  30   31   32   33]]\n"
          ]
        }
      ]
    },
    {
      "cell_type": "code",
      "source": [
        "print(arr1)"
      ],
      "metadata": {
        "colab": {
          "base_uri": "https://localhost:8080/"
        },
        "id": "bER7wl5fOTs2",
        "outputId": "126f6cc6-e4be-4d6e-a99b-9791347a69b3"
      },
      "execution_count": 88,
      "outputs": [
        {
          "output_type": "stream",
          "name": "stdout",
          "text": [
            "[[   0    1    2    3    4    5    6]\n",
            " [   7    8    9   10   11   12   13]\n",
            " [  14   15   16 1771   18   19   20]\n",
            " [  21   22   23   24   25   26   27]\n",
            " [  28   29   30   31   32   33   34]\n",
            " [  35   36   37   38   39   40   41]]\n"
          ]
        }
      ]
    },
    {
      "cell_type": "markdown",
      "source": [
        "**Deep Copy**\n",
        "  * Creates a completely independent copy of the array and its data in memory\n",
        "  * data is fully copied\n",
        "  * Changes in one array do not ad=ffects the other\n",
        "  * Created using copy()"
      ],
      "metadata": {
        "id": "O1Ams1jzOpbR"
      }
    },
    {
      "cell_type": "code",
      "source": [
        "print(arr1)"
      ],
      "metadata": {
        "colab": {
          "base_uri": "https://localhost:8080/"
        },
        "id": "cVvm1AfwOZFG",
        "outputId": "0946364e-bc31-466e-dfc8-e049ae61dd40"
      },
      "execution_count": 89,
      "outputs": [
        {
          "output_type": "stream",
          "name": "stdout",
          "text": [
            "[[   0    1    2    3    4    5    6]\n",
            " [   7    8    9   10   11   12   13]\n",
            " [  14   15   16 1771   18   19   20]\n",
            " [  21   22   23   24   25   26   27]\n",
            " [  28   29   30   31   32   33   34]\n",
            " [  35   36   37   38   39   40   41]]\n"
          ]
        }
      ]
    },
    {
      "cell_type": "code",
      "source": [
        "arr3 = arr1[2:5 , 2:6].copy()\n",
        "print(arr3)"
      ],
      "metadata": {
        "colab": {
          "base_uri": "https://localhost:8080/"
        },
        "id": "OEeM11w5O6tx",
        "outputId": "1c5ab29f-5d25-4431-bce5-f255fe257288"
      },
      "execution_count": 90,
      "outputs": [
        {
          "output_type": "stream",
          "name": "stdout",
          "text": [
            "[[  16 1771   18   19]\n",
            " [  23   24   25   26]\n",
            " [  30   31   32   33]]\n"
          ]
        }
      ]
    },
    {
      "cell_type": "code",
      "source": [
        "arr3[0,2] =1881\n",
        "print(arr3)"
      ],
      "metadata": {
        "colab": {
          "base_uri": "https://localhost:8080/"
        },
        "id": "VbudJHabO-fB",
        "outputId": "f5a3777b-6bb2-4c69-beef-72de23a6f74b"
      },
      "execution_count": 92,
      "outputs": [
        {
          "output_type": "stream",
          "name": "stdout",
          "text": [
            "[[  16 1771 1881   19]\n",
            " [  23   24   25   26]\n",
            " [  30   31   32   33]]\n"
          ]
        }
      ]
    },
    {
      "cell_type": "code",
      "source": [
        "print(arr1)"
      ],
      "metadata": {
        "colab": {
          "base_uri": "https://localhost:8080/"
        },
        "id": "cBtdbMamPAQX",
        "outputId": "94331b1e-c454-4210-8f4c-0a98334fe067"
      },
      "execution_count": 93,
      "outputs": [
        {
          "output_type": "stream",
          "name": "stdout",
          "text": [
            "[[   0    1    2    3    4    5    6]\n",
            " [   7    8    9   10   11   12   13]\n",
            " [  14   15   16 1771   18   19   20]\n",
            " [  21   22   23   24   25   26   27]\n",
            " [  28   29   30   31   32   33   34]\n",
            " [  35   36   37   38   39   40   41]]\n"
          ]
        }
      ]
    },
    {
      "cell_type": "code",
      "source": [],
      "metadata": {
        "id": "k0REDq7ZPEy-"
      },
      "execution_count": null,
      "outputs": []
    }
  ]
}