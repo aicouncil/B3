{
  "nbformat": 4,
  "nbformat_minor": 0,
  "metadata": {
    "colab": {
      "provenance": []
    },
    "kernelspec": {
      "name": "python3",
      "display_name": "Python 3"
    },
    "language_info": {
      "name": "python"
    }
  },
  "cells": [
    {
      "cell_type": "markdown",
      "source": [
        "**Measure of central tendency**\n",
        "  * Mean\n",
        "  * Median\n",
        "  * Mode\n",
        "\n",
        "**Measure of Dispersion**\n",
        "  * Variance\n",
        "  * Standard Deviation"
      ],
      "metadata": {
        "id": "BCk4OO1-SjkW"
      }
    },
    {
      "cell_type": "code",
      "execution_count": null,
      "metadata": {
        "colab": {
          "base_uri": "https://localhost:8080/"
        },
        "id": "9HN0r5AKScYF",
        "outputId": "8bf8d586-62c3-4a93-87e6-38055e568df0"
      },
      "outputs": [
        {
          "output_type": "stream",
          "name": "stdout",
          "text": [
            "[ 3 47 33 30 44 30 45 46  5 12 38 18 10 33 34 12 45 45 17 26 35 38 41 43\n",
            " 19 29 22  3 46 30]\n"
          ]
        }
      ],
      "source": [
        "import numpy as np\n",
        "\n",
        "marks = np.random.randint(0,50,30)\n",
        "print(marks)"
      ]
    },
    {
      "cell_type": "code",
      "source": [
        "marks = np.hstack((marks , [99]))"
      ],
      "metadata": {
        "id": "oMugzBrbXB1k"
      },
      "execution_count": null,
      "outputs": []
    },
    {
      "cell_type": "code",
      "source": [
        "print(marks)"
      ],
      "metadata": {
        "colab": {
          "base_uri": "https://localhost:8080/"
        },
        "id": "tsgZQ810XOSg",
        "outputId": "9b4be039-7775-43e4-80b8-3fbc8d0d4d56"
      },
      "execution_count": null,
      "outputs": [
        {
          "output_type": "stream",
          "name": "stdout",
          "text": [
            "[ 3 47 33 30 44 30 45 46  5 12 38 18 10 33 34 12 45 45 17 26 35 38 41 43\n",
            " 19 29 22  3 46 30 99]\n"
          ]
        }
      ]
    },
    {
      "cell_type": "markdown",
      "source": [
        "**Most likelihood region**"
      ],
      "metadata": {
        "id": "bqdLQC11THqU"
      }
    },
    {
      "cell_type": "code",
      "source": [
        "mean_marks = np.mean(marks)\n",
        "print(mean_marks)"
      ],
      "metadata": {
        "colab": {
          "base_uri": "https://localhost:8080/"
        },
        "id": "lF6onnmgS35B",
        "outputId": "db6487ff-ae4e-4dd3-8edc-d8084768eb96"
      },
      "execution_count": null,
      "outputs": [
        {
          "output_type": "stream",
          "name": "stdout",
          "text": [
            "31.548387096774192\n"
          ]
        }
      ]
    },
    {
      "cell_type": "code",
      "source": [
        "np.sort(marks)"
      ],
      "metadata": {
        "colab": {
          "base_uri": "https://localhost:8080/"
        },
        "id": "2mAgphipTpjW",
        "outputId": "f21fcb32-2eab-462e-d679-c6792bd0a704"
      },
      "execution_count": null,
      "outputs": [
        {
          "output_type": "execute_result",
          "data": {
            "text/plain": [
              "array([ 3,  3,  5, 10, 12, 12, 17, 18, 19, 22, 26, 29, 30, 30, 30, 33, 33,\n",
              "       34, 35, 38, 38, 41, 43, 44, 45, 45, 45, 46, 46, 47, 99])"
            ]
          },
          "metadata": {},
          "execution_count": 31
        }
      ]
    },
    {
      "cell_type": "code",
      "source": [
        "median_marks = np.median(marks)\n",
        "print(median_marks)"
      ],
      "metadata": {
        "colab": {
          "base_uri": "https://localhost:8080/"
        },
        "id": "a6o9byjpTTIB",
        "outputId": "fa300c8a-5e17-4c94-eb50-f8d5a6b45d37"
      },
      "execution_count": null,
      "outputs": [
        {
          "output_type": "stream",
          "name": "stdout",
          "text": [
            "33.0\n"
          ]
        }
      ]
    },
    {
      "cell_type": "code",
      "source": [
        "#variance - spread of data from mean\n",
        "\n",
        "var_marks = ((marks - mean_marks)**2).mean()\n",
        "print(var_marks)"
      ],
      "metadata": {
        "colab": {
          "base_uri": "https://localhost:8080/"
        },
        "id": "1YFIoIfoTZcF",
        "outputId": "2db10580-28cd-482e-a6f5-6b9f77d2a142"
      },
      "execution_count": null,
      "outputs": [
        {
          "output_type": "stream",
          "name": "stdout",
          "text": [
            "338.11862643080127\n"
          ]
        }
      ]
    },
    {
      "cell_type": "code",
      "source": [
        "std_marks = var_marks**0.5\n",
        "print(std_marks)"
      ],
      "metadata": {
        "colab": {
          "base_uri": "https://localhost:8080/"
        },
        "id": "VumU7QVNUFdT",
        "outputId": "fabd5073-834f-4f6b-bf09-9fb8ca9cee00"
      },
      "execution_count": null,
      "outputs": [
        {
          "output_type": "stream",
          "name": "stdout",
          "text": [
            "18.388002241429092\n"
          ]
        }
      ]
    },
    {
      "cell_type": "code",
      "source": [
        "print(marks)"
      ],
      "metadata": {
        "colab": {
          "base_uri": "https://localhost:8080/"
        },
        "id": "9qmqtLUzVXpq",
        "outputId": "6cd67294-9790-4825-cdab-1eb2054cc5b2"
      },
      "execution_count": null,
      "outputs": [
        {
          "output_type": "stream",
          "name": "stdout",
          "text": [
            "[ 3 47 33 30 44 30 45 46  5 12 38 18 10 33 34 12 45 45 17 26 35 38 41 43\n",
            " 19 29 22  3 46 30 99]\n"
          ]
        }
      ]
    },
    {
      "cell_type": "code",
      "source": [
        "#Range of 1st std deviation\n",
        "lower_fence_1st_std = mean_marks - std_marks\n",
        "upper_fence_1st_std = mean_marks + std_marks\n",
        "print(lower_fence_1st_std , upper_fence_1st_std)"
      ],
      "metadata": {
        "colab": {
          "base_uri": "https://localhost:8080/"
        },
        "id": "vK-72_WtUixq",
        "outputId": "484c17e9-6436-4ea9-8fca-cdab36c6f1d2"
      },
      "execution_count": null,
      "outputs": [
        {
          "output_type": "stream",
          "name": "stdout",
          "text": [
            "13.1603848553451 49.936389338203284\n"
          ]
        }
      ]
    },
    {
      "cell_type": "code",
      "source": [
        "#percentage of data samples within 1st std. deviation\n",
        "print(((marks > lower_fence_1st_std) & (marks < upper_fence_1st_std)).sum()/len(marks))"
      ],
      "metadata": {
        "colab": {
          "base_uri": "https://localhost:8080/"
        },
        "id": "A8nbXtUnVVPX",
        "outputId": "f0fceb3c-fae6-417e-8830-d1451ae93f27"
      },
      "execution_count": null,
      "outputs": [
        {
          "output_type": "stream",
          "name": "stdout",
          "text": [
            "0.7741935483870968\n"
          ]
        }
      ]
    },
    {
      "cell_type": "code",
      "source": [
        "#Range of 2nd stdard deviation\n",
        "lower_fence_2nd_std = mean_marks - 2 * std_marks\n",
        "upper_fence_2nd_std = mean_marks + 2 * std_marks\n",
        "print(lower_fence_2nd_std , upper_fence_2nd_std)"
      ],
      "metadata": {
        "colab": {
          "base_uri": "https://localhost:8080/"
        },
        "id": "Qv5-p2HRV8wi",
        "outputId": "72d1e550-af7d-49b1-81f6-605885bc4ae0"
      },
      "execution_count": null,
      "outputs": [
        {
          "output_type": "stream",
          "name": "stdout",
          "text": [
            "-5.227617386083992 68.32439157963238\n"
          ]
        }
      ]
    },
    {
      "cell_type": "code",
      "source": [
        "#percentage of data samples within 2nd std. deviation\n",
        "print(((marks > lower_fence_2nd_std) & (marks < upper_fence_2nd_std)).sum()/len(marks))"
      ],
      "metadata": {
        "colab": {
          "base_uri": "https://localhost:8080/"
        },
        "id": "SzgjMBMsWhb1",
        "outputId": "12fc45c0-3942-4ab7-ef1b-68513d345bb0"
      },
      "execution_count": null,
      "outputs": [
        {
          "output_type": "stream",
          "name": "stdout",
          "text": [
            "0.967741935483871\n"
          ]
        }
      ]
    },
    {
      "cell_type": "code",
      "source": [
        "#Range of 3rd standard deviation\n",
        "lower_fence_3rd_std = mean_marks - 3 * std_marks\n",
        "upper_fence_3rd_std = mean_marks + 3 * std_marks\n",
        "print(lower_fence_3rd_std , upper_fence_3rd_std)"
      ],
      "metadata": {
        "colab": {
          "base_uri": "https://localhost:8080/"
        },
        "id": "0yLiGqwrWnZE",
        "outputId": "029fc718-6d5d-4792-c881-4ca45cd9adbb"
      },
      "execution_count": null,
      "outputs": [
        {
          "output_type": "stream",
          "name": "stdout",
          "text": [
            "-23.615619627513084 86.71239382106147\n"
          ]
        }
      ]
    },
    {
      "cell_type": "code",
      "source": [
        "#percentage of data samples within 3rd std. deviation\n",
        "print(((marks > lower_fence_3rd_std) & (marks < upper_fence_3rd_std)).sum()/len(marks))"
      ],
      "metadata": {
        "colab": {
          "base_uri": "https://localhost:8080/"
        },
        "id": "SccfVU5fW1Ub",
        "outputId": "cfec97a4-6893-4663-ec8e-033eb39544a0"
      },
      "execution_count": null,
      "outputs": [
        {
          "output_type": "stream",
          "name": "stdout",
          "text": [
            "0.967741935483871\n"
          ]
        }
      ]
    },
    {
      "cell_type": "markdown",
      "source": [
        "**Percentiles & Quantiles**"
      ],
      "metadata": {
        "id": "v04eSzAum1eV"
      }
    },
    {
      "cell_type": "code",
      "source": [
        "print(marks)"
      ],
      "metadata": {
        "colab": {
          "base_uri": "https://localhost:8080/"
        },
        "id": "ZY8QubIZW7Xq",
        "outputId": "be39141f-8147-41e8-9e8b-d51b18d3b2c8"
      },
      "execution_count": null,
      "outputs": [
        {
          "output_type": "stream",
          "name": "stdout",
          "text": [
            "[ 3 47 33 30 44 30 45 46  5 12 38 18 10 33 34 12 45 45 17 26 35 38 41 43\n",
            " 19 29 22  3 46 30 99]\n"
          ]
        }
      ]
    },
    {
      "cell_type": "code",
      "source": [
        "print(len(marks))"
      ],
      "metadata": {
        "colab": {
          "base_uri": "https://localhost:8080/"
        },
        "id": "JI5utBmcnvJ7",
        "outputId": "150f5977-6f91-4c53-ef53-30b103c946c1"
      },
      "execution_count": null,
      "outputs": [
        {
          "output_type": "stream",
          "name": "stdout",
          "text": [
            "31\n"
          ]
        }
      ]
    },
    {
      "cell_type": "code",
      "source": [
        "import matplotlib.pyplot as plt\n",
        "plt.boxplot(marks.reshape(-1,1))\n",
        "plt.show()"
      ],
      "metadata": {
        "colab": {
          "base_uri": "https://localhost:8080/",
          "height": 430
        },
        "id": "YYh6ZQbLm7fv",
        "outputId": "3b6c3988-93a9-498e-9558-86646222fdc7"
      },
      "execution_count": null,
      "outputs": [
        {
          "output_type": "display_data",
          "data": {
            "text/plain": [
              "<Figure size 640x480 with 1 Axes>"
            ],
            "image/png": "[encoded data removed]"
          },
          "metadata": {}
        }
      ]
    },
    {
      "cell_type": "code",
      "source": [
        "median_marks = np.median(marks)\n",
        "print(median_marks)"
      ],
      "metadata": {
        "colab": {
          "base_uri": "https://localhost:8080/"
        },
        "id": "e5ce0kr2nG8G",
        "outputId": "76008176-f36d-4fab-88f3-bfa66681e179"
      },
      "execution_count": null,
      "outputs": [
        {
          "output_type": "stream",
          "name": "stdout",
          "text": [
            "33.0\n"
          ]
        }
      ]
    },
    {
      "cell_type": "code",
      "source": [
        "(marks < median_marks).sum()"
      ],
      "metadata": {
        "colab": {
          "base_uri": "https://localhost:8080/"
        },
        "id": "NaQSFlfknc1M",
        "outputId": "cad23846-11cd-48b7-aa99-05e17c7ce3d2"
      },
      "execution_count": null,
      "outputs": [
        {
          "output_type": "execute_result",
          "data": {
            "text/plain": [
              "np.int64(15)"
            ]
          },
          "metadata": {},
          "execution_count": 48
        }
      ]
    },
    {
      "cell_type": "code",
      "source": [
        "#75 percentile\n",
        "q3 = np.quantile(marks , 0.75)\n",
        "print(q3)"
      ],
      "metadata": {
        "colab": {
          "base_uri": "https://localhost:8080/"
        },
        "id": "aOYzs7yAns1t",
        "outputId": "56197033-7a72-448f-c006-0564ff8f3744"
      },
      "execution_count": null,
      "outputs": [
        {
          "output_type": "stream",
          "name": "stdout",
          "text": [
            "43.5\n"
          ]
        }
      ]
    },
    {
      "cell_type": "code",
      "source": [
        "#25 percentile\n",
        "q1 = np.quantile(marks , 0.25)\n",
        "print(q1)"
      ],
      "metadata": {
        "colab": {
          "base_uri": "https://localhost:8080/"
        },
        "id": "ENJusiM-oa6m",
        "outputId": "0fe3bf90-8e7d-46b4-cb5a-76ecc6fba1bb"
      },
      "execution_count": null,
      "outputs": [
        {
          "output_type": "stream",
          "name": "stdout",
          "text": [
            "18.5\n"
          ]
        }
      ]
    },
    {
      "cell_type": "code",
      "source": [
        "#inter quantile range\n",
        "iqr = q3 - q1\n",
        "print(iqr)"
      ],
      "metadata": {
        "colab": {
          "base_uri": "https://localhost:8080/"
        },
        "id": "zs9JggtFomhl",
        "outputId": "e303285d-6f21-41fa-bf71-f5e9cec7815f"
      },
      "execution_count": null,
      "outputs": [
        {
          "output_type": "stream",
          "name": "stdout",
          "text": [
            "25.0\n"
          ]
        }
      ]
    },
    {
      "cell_type": "code",
      "source": [
        "#upper fence\n",
        "\n",
        "upper_fence = q3 + 1.5 * iqr\n",
        "print(upper_fence)"
      ],
      "metadata": {
        "colab": {
          "base_uri": "https://localhost:8080/"
        },
        "id": "bUrJvMljpFvY",
        "outputId": "1b398333-7315-483e-ac56-0137137e0a4a"
      },
      "execution_count": null,
      "outputs": [
        {
          "output_type": "stream",
          "name": "stdout",
          "text": [
            "81.0\n"
          ]
        }
      ]
    },
    {
      "cell_type": "code",
      "source": [
        "#lower fence\n",
        "lower_fence = q1 - 1.5 * iqr\n",
        "print(lower_fence)"
      ],
      "metadata": {
        "colab": {
          "base_uri": "https://localhost:8080/"
        },
        "id": "DFrGK8Cppl7t",
        "outputId": "2774fca0-4ea4-4486-e844-ae44593360a6"
      },
      "execution_count": null,
      "outputs": [
        {
          "output_type": "stream",
          "name": "stdout",
          "text": [
            "-19.0\n"
          ]
        }
      ]
    },
    {
      "cell_type": "code",
      "source": [
        "print(marks)"
      ],
      "metadata": {
        "colab": {
          "base_uri": "https://localhost:8080/"
        },
        "id": "I2_wGvCMqGZl",
        "outputId": "17be88b9-9ef3-4b20-ff3b-551961d27501"
      },
      "execution_count": null,
      "outputs": [
        {
          "output_type": "stream",
          "name": "stdout",
          "text": [
            "[ 3 47 33 30 44 30 45 46  5 12 38 18 10 33 34 12 45 45 17 26 35 38 41 43\n",
            " 19 29 22  3 46 30 99]\n"
          ]
        }
      ]
    },
    {
      "cell_type": "code",
      "source": [
        "print(np.sort(marks))"
      ],
      "metadata": {
        "colab": {
          "base_uri": "https://localhost:8080/"
        },
        "id": "yHmoDQ42qVMF",
        "outputId": "58079a81-a9a7-417d-fe00-0361b23dd976"
      },
      "execution_count": null,
      "outputs": [
        {
          "output_type": "stream",
          "name": "stdout",
          "text": [
            "[ 3  3  5 10 12 12 17 18 19 22 26 29 30 30 30 33 33 34 35 38 38 41 43 44\n",
            " 45 45 45 46 46 47 99]\n"
          ]
        }
      ]
    },
    {
      "cell_type": "code",
      "source": [
        "#max_value_within_upper_fence\n",
        "max_val = marks[marks < upper_fence].max()\n",
        "print(max_val)"
      ],
      "metadata": {
        "colab": {
          "base_uri": "https://localhost:8080/"
        },
        "id": "RO2xCJppqZJh",
        "outputId": "b03749ea-11a9-4a3b-dd6f-fd88bdd635c1"
      },
      "execution_count": null,
      "outputs": [
        {
          "output_type": "stream",
          "name": "stdout",
          "text": [
            "47\n"
          ]
        }
      ]
    },
    {
      "cell_type": "code",
      "source": [
        "#minimum value within lower fence\n",
        "min_val = marks[marks > lower_fence].min()\n",
        "print(min_val)"
      ],
      "metadata": {
        "colab": {
          "base_uri": "https://localhost:8080/"
        },
        "id": "fcHxMg11qskd",
        "outputId": "91c99040-92a0-4915-f9b5-27775b5e53e7"
      },
      "execution_count": null,
      "outputs": [
        {
          "output_type": "stream",
          "name": "stdout",
          "text": [
            "3\n"
          ]
        }
      ]
    },
    {
      "cell_type": "code",
      "source": [
        "print(min_val , q1, median_marks , q3 , max_val)"
      ],
      "metadata": {
        "colab": {
          "base_uri": "https://localhost:8080/"
        },
        "id": "PhCsMJtRq9uj",
        "outputId": "745050c1-da46-4322-9631-620004d25eeb"
      },
      "execution_count": null,
      "outputs": [
        {
          "output_type": "stream",
          "name": "stdout",
          "text": [
            "3 18.5 33.0 43.5 47\n"
          ]
        }
      ]
    },
    {
      "cell_type": "code",
      "source": [],
      "metadata": {
        "id": "CvtNy61rrVH-"
      },
      "execution_count": null,
      "outputs": []
    }
  ]
}