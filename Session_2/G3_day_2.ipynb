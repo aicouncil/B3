{
 "cells": [
  {
   "cell_type": "markdown",
   "id": "ef4b0f18-4c48-461d-811d-9cf07d7ca8d0",
   "metadata": {},
   "source": [
    "**Operators**\n",
    "\n",
    "    * Used top operate between two data variables\n",
    "         * Arthemetic operators\n",
    "         * Assignment\n",
    "         * Comparasion\n",
    "         * Logical\n",
    "         * Membership"
   ]
  },
  {
   "cell_type": "markdown",
   "id": "2de844d7-59ac-441b-a05c-2457509834c5",
   "metadata": {},
   "source": [
    "**arthematical operators**"
   ]
  },
  {
   "cell_type": "code",
   "execution_count": 15,
   "id": "3e0f6c84-fb19-45c8-a5bf-2769ae997379",
   "metadata": {},
   "outputs": [
    {
     "name": "stdout",
     "output_type": "stream",
     "text": [
      "22\n",
      "12\n",
      "85\n",
      "3.4\n",
      "1419857\n",
      "3\n",
      "2\n"
     ]
    }
   ],
   "source": [
    "a = 17\n",
    "b = 5\n",
    "\n",
    "print(a + b)\n",
    "print(a - b)\n",
    "print(a * b)\n",
    "print(a / b)\n",
    "print(a ** b)          #exponential\n",
    "print(a // b)          #floor division    \n",
    "print(a % b)            #modulus"
   ]
  },
  {
   "cell_type": "markdown",
   "id": "ddbd43cf-0b0e-42d3-a70d-fa7152b957a5",
   "metadata": {},
   "source": [
    "**Assignment operator**"
   ]
  },
  {
   "cell_type": "code",
   "execution_count": 7,
   "id": "34cc2929-06cd-4794-8189-d4d6da16df84",
   "metadata": {},
   "outputs": [
    {
     "name": "stdout",
     "output_type": "stream",
     "text": [
      "10\n"
     ]
    }
   ],
   "source": [
    "x = 10\n",
    "print(x)"
   ]
  },
  {
   "cell_type": "code",
   "execution_count": 8,
   "id": "99fc38a1-8b30-43d0-8b8c-257d08fe73b2",
   "metadata": {},
   "outputs": [
    {
     "name": "stdout",
     "output_type": "stream",
     "text": [
      "13\n"
     ]
    }
   ],
   "source": [
    "x += 3\n",
    "print(x)"
   ]
  },
  {
   "cell_type": "code",
   "execution_count": 9,
   "id": "c5563b65-8884-4e7e-928e-a5ecec17839c",
   "metadata": {},
   "outputs": [
    {
     "name": "stdout",
     "output_type": "stream",
     "text": [
      "9\n"
     ]
    }
   ],
   "source": [
    "x -= 4\n",
    "print(x)"
   ]
  },
  {
   "cell_type": "code",
   "execution_count": 10,
   "id": "38681936-7a48-4fbd-a38b-000089f2b10f",
   "metadata": {},
   "outputs": [
    {
     "name": "stdout",
     "output_type": "stream",
     "text": [
      "27\n"
     ]
    }
   ],
   "source": [
    "x *= 3\n",
    "print(x)"
   ]
  },
  {
   "cell_type": "code",
   "execution_count": 11,
   "id": "07a6f26b-b050-4997-a9ca-1ae55d0f9243",
   "metadata": {},
   "outputs": [
    {
     "name": "stdout",
     "output_type": "stream",
     "text": [
      "6.75\n"
     ]
    }
   ],
   "source": [
    "x /= 4\n",
    "print(x)"
   ]
  },
  {
   "cell_type": "code",
   "execution_count": 12,
   "id": "bc9cb5e3-02b4-42a9-ba09-c17d68382684",
   "metadata": {},
   "outputs": [
    {
     "name": "stdout",
     "output_type": "stream",
     "text": [
      "45.5625\n"
     ]
    }
   ],
   "source": [
    "x **= 2\n",
    "print(x)"
   ]
  },
  {
   "cell_type": "code",
   "execution_count": 13,
   "id": "59418a42-0414-428b-8689-6104aacdcc48",
   "metadata": {},
   "outputs": [
    {
     "name": "stdout",
     "output_type": "stream",
     "text": [
      "15.0\n"
     ]
    }
   ],
   "source": [
    "x //= 3\n",
    "print(x)"
   ]
  },
  {
   "cell_type": "code",
   "execution_count": 14,
   "id": "d8e266b1-a4d3-4be9-ab31-cff2f195126c",
   "metadata": {},
   "outputs": [
    {
     "name": "stdout",
     "output_type": "stream",
     "text": [
      "3.0\n"
     ]
    }
   ],
   "source": [
    "x %= 4\n",
    "print(x)"
   ]
  },
  {
   "cell_type": "markdown",
   "id": "0dc95492-0ffa-4ec7-aaf3-5a73ebcb17cb",
   "metadata": {},
   "source": [
    "**Comparasion Operator**"
   ]
  },
  {
   "cell_type": "code",
   "execution_count": 16,
   "id": "49ed7486-0881-450b-aa2e-d8073585c520",
   "metadata": {},
   "outputs": [
    {
     "name": "stdout",
     "output_type": "stream",
     "text": [
      "True\n"
     ]
    }
   ],
   "source": [
    "age = 21                   #Single equal sign will be used for assigning\n",
    "\n",
    "print(age == 21)           #Double equal sign will be used for comparasion"
   ]
  },
  {
   "cell_type": "code",
   "execution_count": 17,
   "id": "2a49a084-117d-46e3-aa5f-d0ebd1b4fd68",
   "metadata": {},
   "outputs": [
    {
     "name": "stdout",
     "output_type": "stream",
     "text": [
      "True\n"
     ]
    }
   ],
   "source": [
    "print(age > 18)"
   ]
  },
  {
   "cell_type": "code",
   "execution_count": 18,
   "id": "75c91338-07e8-454c-95ff-af2a0275a43c",
   "metadata": {},
   "outputs": [
    {
     "name": "stdout",
     "output_type": "stream",
     "text": [
      "False\n"
     ]
    }
   ],
   "source": [
    "print(age < 18)"
   ]
  },
  {
   "cell_type": "code",
   "execution_count": 19,
   "id": "8184876c-a477-4ef4-8e42-48b4a1935af6",
   "metadata": {},
   "outputs": [
    {
     "name": "stdout",
     "output_type": "stream",
     "text": [
      "True\n"
     ]
    }
   ],
   "source": [
    "print(age >= 18)"
   ]
  },
  {
   "cell_type": "code",
   "execution_count": 20,
   "id": "14064fcd-210c-43ca-9bb4-f8638f5088d5",
   "metadata": {},
   "outputs": [
    {
     "name": "stdout",
     "output_type": "stream",
     "text": [
      "False\n"
     ]
    }
   ],
   "source": [
    "print(age <= 18)"
   ]
  },
  {
   "cell_type": "markdown",
   "id": "c907a1cb-a948-4610-918d-cd03578332f5",
   "metadata": {},
   "source": [
    "**Logical operator**"
   ]
  },
  {
   "cell_type": "code",
   "execution_count": 22,
   "id": "ec8ccbea-2d78-4584-bf5b-e58fc910fda3",
   "metadata": {},
   "outputs": [
    {
     "name": "stdout",
     "output_type": "stream",
     "text": [
      "True\n",
      "False\n"
     ]
    }
   ],
   "source": [
    "age = 21\n",
    "weight = 56\n",
    "\n",
    "print(age > 18)\n",
    "print(weight < 50)"
   ]
  },
  {
   "cell_type": "code",
   "execution_count": 23,
   "id": "37cfd474-74a1-441f-8365-cbc48d06cc9d",
   "metadata": {},
   "outputs": [
    {
     "name": "stdout",
     "output_type": "stream",
     "text": [
      "False\n"
     ]
    }
   ],
   "source": [
    "print(age > 18  and weight < 50)"
   ]
  },
  {
   "cell_type": "code",
   "execution_count": 24,
   "id": "b8940512-f09b-4e07-a3ee-e0fe43db2839",
   "metadata": {},
   "outputs": [
    {
     "name": "stdout",
     "output_type": "stream",
     "text": [
      "False\n"
     ]
    }
   ],
   "source": [
    "print(age < 18  and weight > 50)"
   ]
  },
  {
   "cell_type": "code",
   "execution_count": 25,
   "id": "a957d98b-36c6-4a6d-82a1-1f0d8ee1e329",
   "metadata": {},
   "outputs": [
    {
     "name": "stdout",
     "output_type": "stream",
     "text": [
      "False\n"
     ]
    }
   ],
   "source": [
    "print(age < 18  and weight < 50)"
   ]
  },
  {
   "cell_type": "code",
   "execution_count": 26,
   "id": "ee98e57d-fbaa-4235-9d7c-54df57f6ef40",
   "metadata": {},
   "outputs": [
    {
     "name": "stdout",
     "output_type": "stream",
     "text": [
      "True\n"
     ]
    }
   ],
   "source": [
    "print(age > 18  and weight > 50)"
   ]
  },
  {
   "cell_type": "code",
   "execution_count": 27,
   "id": "ded36a2b-f6bb-4a1d-87f9-945f156ce3d6",
   "metadata": {},
   "outputs": [
    {
     "name": "stdout",
     "output_type": "stream",
     "text": [
      "True\n",
      "False\n"
     ]
    }
   ],
   "source": [
    "age = 21\n",
    "weight = 56\n",
    "\n",
    "print(age > 18)\n",
    "print(weight < 50)"
   ]
  },
  {
   "cell_type": "code",
   "execution_count": 28,
   "id": "afb4c9b9-358c-444d-b80b-12a340900676",
   "metadata": {},
   "outputs": [
    {
     "name": "stdout",
     "output_type": "stream",
     "text": [
      "True\n"
     ]
    }
   ],
   "source": [
    "print(age > 18 or weight < 50)"
   ]
  },
  {
   "cell_type": "code",
   "execution_count": 29,
   "id": "4ab33f85-2571-4103-9786-06b4446916d5",
   "metadata": {},
   "outputs": [
    {
     "name": "stdout",
     "output_type": "stream",
     "text": [
      "True\n"
     ]
    }
   ],
   "source": [
    "print(age < 18  or weight > 50)"
   ]
  },
  {
   "cell_type": "code",
   "execution_count": 30,
   "id": "8298f7d8-3615-49f6-8d97-1b9e6177405d",
   "metadata": {},
   "outputs": [
    {
     "name": "stdout",
     "output_type": "stream",
     "text": [
      "False\n"
     ]
    }
   ],
   "source": [
    "print(age < 18  or weight < 50)"
   ]
  },
  {
   "cell_type": "code",
   "execution_count": 31,
   "id": "c78da1b8-fcd8-458b-b0af-3a6cca772d98",
   "metadata": {},
   "outputs": [
    {
     "name": "stdout",
     "output_type": "stream",
     "text": [
      "True\n"
     ]
    }
   ],
   "source": [
    "print(age > 18  or weight > 50)"
   ]
  },
  {
   "cell_type": "code",
   "execution_count": 32,
   "id": "02441a5a-c55c-4cfb-a92e-22557ed9333e",
   "metadata": {},
   "outputs": [
    {
     "name": "stdout",
     "output_type": "stream",
     "text": [
      "False\n"
     ]
    }
   ],
   "source": [
    "print(not(True))"
   ]
  },
  {
   "cell_type": "code",
   "execution_count": 33,
   "id": "179271c1-27f3-4558-87be-347b6f2b9d06",
   "metadata": {},
   "outputs": [
    {
     "name": "stdout",
     "output_type": "stream",
     "text": [
      "True\n"
     ]
    }
   ],
   "source": [
    "print(not(False))"
   ]
  },
  {
   "cell_type": "markdown",
   "id": "53b85c3c-1bd8-40a0-a7de-b50b214179c5",
   "metadata": {},
   "source": [
    "**Membership**"
   ]
  },
  {
   "cell_type": "code",
   "execution_count": 34,
   "id": "5d23dece-e9ef-4a71-af87-2cc47de16fa8",
   "metadata": {},
   "outputs": [
    {
     "name": "stdout",
     "output_type": "stream",
     "text": [
      "True\n"
     ]
    }
   ],
   "source": [
    "text = \"It was a nice morning\"\n",
    "\n",
    "print('nice' in text)"
   ]
  },
  {
   "cell_type": "code",
   "execution_count": 35,
   "id": "79731bda-30b5-40eb-ab4d-7de190651086",
   "metadata": {},
   "outputs": [
    {
     "name": "stdout",
     "output_type": "stream",
     "text": [
      "False\n"
     ]
    }
   ],
   "source": [
    "print('good' in text)"
   ]
  },
  {
   "cell_type": "code",
   "execution_count": 36,
   "id": "cf318bdd-a892-476b-aa3f-b66d80f542a2",
   "metadata": {},
   "outputs": [
    {
     "name": "stdout",
     "output_type": "stream",
     "text": [
      "True\n"
     ]
    }
   ],
   "source": [
    "cities = [\"Mumbai\" , \"Delhi\" , \"Kolkata\" , \"Chennai\" , \"Banglore\"]\n",
    "\n",
    "print(\"Delhi\" in cities)"
   ]
  },
  {
   "cell_type": "code",
   "execution_count": 37,
   "id": "23b5507a-7513-422b-8e2f-efc6901adba3",
   "metadata": {},
   "outputs": [
    {
     "name": "stdout",
     "output_type": "stream",
     "text": [
      "False\n"
     ]
    }
   ],
   "source": [
    "print(\"Jaipur\" in cities)"
   ]
  },
  {
   "cell_type": "markdown",
   "id": "6d9d2fb3-7f97-4b42-991b-053823c79143",
   "metadata": {},
   "source": [
    "**Conditional programming**"
   ]
  },
  {
   "cell_type": "code",
   "execution_count": 40,
   "id": "81b80acd-1de7-4e02-bc36-9f3c2870eaca",
   "metadata": {},
   "outputs": [
    {
     "name": "stdout",
     "output_type": "stream",
     "text": [
      "Hello World!\n"
     ]
    }
   ],
   "source": [
    "if True:\n",
    "    print(\"Hello World!\")"
   ]
  },
  {
   "cell_type": "code",
   "execution_count": 42,
   "id": "dcf60f9f-cbda-46a6-95af-5395f3bb4499",
   "metadata": {},
   "outputs": [
    {
     "name": "stdout",
     "output_type": "stream",
     "text": [
      "You are eligible to vote\n"
     ]
    }
   ],
   "source": [
    "#WAP to check the age and print => you are eligible to vote if age is more then 18\n",
    "\n",
    "age = 23\n",
    "\n",
    "if age > 18:\n",
    "    print(\"You are eligible to vote\")"
   ]
  },
  {
   "cell_type": "code",
   "execution_count": 44,
   "id": "2b8e20b4-f043-4e81-937c-23f52cb294bd",
   "metadata": {},
   "outputs": [
    {
     "name": "stdout",
     "output_type": "stream",
     "text": [
      "You are not eligible to vote as of now\n"
     ]
    }
   ],
   "source": [
    "age = 13\n",
    "\n",
    "if age > 18:\n",
    "    print(\"You are eligible to vote\")\n",
    "else:\n",
    "    print(\"You are not eligible to vote as of now\")"
   ]
  },
  {
   "cell_type": "code",
   "execution_count": 46,
   "id": "40d9c052-e735-4fc0-8915-bb18b5f93377",
   "metadata": {},
   "outputs": [
    {
     "name": "stdin",
     "output_type": "stream",
     "text": [
      "Enter your age:  19\n"
     ]
    },
    {
     "name": "stdout",
     "output_type": "stream",
     "text": [
      "19\n"
     ]
    }
   ],
   "source": [
    "age = input(\"Enter your age: \")\n",
    "print(age)"
   ]
  },
  {
   "cell_type": "code",
   "execution_count": 52,
   "id": "5d07b554-bfc0-44a5-8205-16fb6cf8a755",
   "metadata": {},
   "outputs": [
    {
     "name": "stdin",
     "output_type": "stream",
     "text": [
      "Enter your age:  19\n"
     ]
    },
    {
     "name": "stdout",
     "output_type": "stream",
     "text": [
      "True\n"
     ]
    }
   ],
   "source": [
    "age = int(input(\"Enter your age: \"))         #User input values are considered string in the python\n",
    "print(age > 18)"
   ]
  },
  {
   "cell_type": "code",
   "execution_count": 51,
   "id": "6dae63b4-7d75-4741-b1c6-26a4de48df6a",
   "metadata": {},
   "outputs": [
    {
     "data": {
      "text/plain": [
       "True"
      ]
     },
     "execution_count": 51,
     "metadata": {},
     "output_type": "execute_result"
    }
   ],
   "source": [
    "int('19') > 12"
   ]
  },
  {
   "cell_type": "code",
   "execution_count": 56,
   "id": "3395af7c-acd5-4024-9362-7d848cc2ef1c",
   "metadata": {},
   "outputs": [
    {
     "name": "stdin",
     "output_type": "stream",
     "text": [
      "Enter your age:  22\n"
     ]
    },
    {
     "name": "stdout",
     "output_type": "stream",
     "text": [
      "You are eligible to vote\n"
     ]
    }
   ],
   "source": [
    "age = int(input(\"Enter your age: \")) \n",
    "\n",
    "if age > 18:\n",
    "    print(\"You are eligible to vote\")\n",
    "else:\n",
    "    print(\"You are not eligible to vote\")"
   ]
  },
  {
   "cell_type": "code",
   "execution_count": 82,
   "id": "dcefc39e-2714-44ba-bdfd-cd5e993941eb",
   "metadata": {},
   "outputs": [
    {
     "name": "stdin",
     "output_type": "stream",
     "text": [
      "Enter the user Id admin\n",
      "Enter the password password\n"
     ]
    },
    {
     "name": "stdout",
     "output_type": "stream",
     "text": [
      "Login Successfull\n"
     ]
    }
   ],
   "source": [
    "#WAP for user logins\n",
    "#Capture user_id and password from the user\n",
    "#Compare userid with 'admin' and password with 'password' \n",
    "#if it returns true then print 'login successfull'\n",
    "#if it returns false then print 'login unsuccessfull'\n",
    "\n",
    "userid = input(\"Enter the user Id\")                #by default user inputs are string in python\n",
    "userpassword = input(\"Enter the password\")\n",
    "\n",
    "if (userid == 'admin' and userpassword == 'password'):\n",
    "    print(\"Login Successfull\")\n",
    "else:\n",
    "    print(\"Login Failed\")\n",
    "    print(\"try again!!\")"
   ]
  },
  {
   "cell_type": "code",
   "execution_count": 72,
   "id": "527776ec-b494-4793-901e-3c5cad777f39",
   "metadata": {},
   "outputs": [
    {
     "name": "stdin",
     "output_type": "stream",
     "text": [
      "Enter your marks 84\n"
     ]
    },
    {
     "name": "stdout",
     "output_type": "stream",
     "text": [
      "Grade A\n",
      "Grade B+\n",
      "Grade B\n",
      "Grade C+\n",
      "Grade C\n"
     ]
    }
   ],
   "source": [
    "marks = int(input(\"Enter your marks\"))\n",
    "\n",
    "if marks > 90:\n",
    "    print(\"Grade A+\")\n",
    "if marks > 80:\n",
    "    print(\"Grade A\")\n",
    "if marks > 70:\n",
    "    print(\"Grade B+\")\n",
    "if marks > 60:\n",
    "    print(\"Grade B\")\n",
    "if marks > 50:\n",
    "    print(\"Grade C+\")\n",
    "if marks > 40:\n",
    "    print(\"Grade C\")\n",
    "else:\n",
    "    print(\"Failed\")"
   ]
  },
  {
   "cell_type": "code",
   "execution_count": 74,
   "id": "73486688-ed56-4d83-89fc-bcaf832a2cff",
   "metadata": {},
   "outputs": [
    {
     "name": "stdin",
     "output_type": "stream",
     "text": [
      "Enter your marks 75\n"
     ]
    },
    {
     "name": "stdout",
     "output_type": "stream",
     "text": [
      "Grade B+\n"
     ]
    }
   ],
   "source": [
    "marks = int(input(\"Enter your marks\"))\n",
    "\n",
    "if marks > 90:\n",
    "    print(\"Grade A+\")\n",
    "elif marks > 80:                      #else + if\n",
    "    print(\"Grade A\")\n",
    "elif marks > 70:\n",
    "    print(\"Grade B+\")\n",
    "elif marks > 60:\n",
    "    print(\"Grade B\")\n",
    "elif marks > 50:\n",
    "    print(\"Grade C+\")\n",
    "elif marks > 40:\n",
    "    print(\"Grade C\")\n",
    "else:\n",
    "    print(\"Failed\")"
   ]
  },
  {
   "cell_type": "code",
   "execution_count": 80,
   "id": "81d55b0b-890d-4eef-9f5d-f0419c609ad4",
   "metadata": {},
   "outputs": [
    {
     "name": "stdin",
     "output_type": "stream",
     "text": [
      "Enter your age 23\n"
     ]
    },
    {
     "name": "stdout",
     "output_type": "stream",
     "text": [
      "You are eligible for admission\n"
     ]
    }
   ],
   "source": [
    "#Nestted if\n",
    "#check if age is more then 18\n",
    "#then check if it is lesser then 30 => Then allowed for admission\n",
    "\n",
    "age = int(input(\"Enter your age\"))\n",
    "\n",
    "if age > 18:\n",
    "    if age <= 30:\n",
    "        print(\"You are eligible for admission\")\n",
    "    else:\n",
    "        print(\"You are not eligible for admission\")\n",
    "else:\n",
    "    print(\"Not eligible for admission\")"
   ]
  },
  {
   "cell_type": "code",
   "execution_count": 85,
   "id": "eabe0174-6665-4b0f-a03e-37f42b2256a6",
   "metadata": {},
   "outputs": [
    {
     "name": "stdin",
     "output_type": "stream",
     "text": [
      "Enter user id admin\n",
      "Enter user password password\n"
     ]
    },
    {
     "name": "stdout",
     "output_type": "stream",
     "text": [
      "Wrong password\n"
     ]
    }
   ],
   "source": [
    "#Login activity\n",
    "#ask for user id\n",
    "#compare user id with 'admin'\n",
    "#if it return 'True' then ask for password and comapre password to return successfull or failed login\n",
    "#if userid comparasion returns false then print\"Incorrect user id\"\n",
    "\n",
    "user_id = input(\"Enter user id\")\n",
    "if user_id == 'admin':\n",
    "    user_password = input(\"Enter user password\")\n",
    "    if user_password == 'passsword':\n",
    "        print(\"Login success\")\n",
    "    else:\n",
    "        print(\"Wrong password\")\n",
    "else:\n",
    "    print(\"Incorrect user id\")"
   ]
  },
  {
   "cell_type": "markdown",
   "id": "3f474c03-c315-4f00-a470-283e09156318",
   "metadata": {},
   "source": [
    "**Loop**"
   ]
  },
  {
   "cell_type": "markdown",
   "id": "532a396f-105c-48f1-9ba8-aab9cc316c67",
   "metadata": {},
   "source": [
    "**for loop**"
   ]
  },
  {
   "cell_type": "code",
   "execution_count": 87,
   "id": "9a5394e9-e6bd-4742-9935-bcc6bd3d624c",
   "metadata": {},
   "outputs": [
    {
     "name": "stdout",
     "output_type": "stream",
     "text": [
      "Hello World!!\n",
      "Hello World!!\n",
      "Hello World!!\n",
      "Hello World!!\n",
      "Hello World!!\n"
     ]
    }
   ],
   "source": [
    "print(\"Hello World!!\")\n",
    "print(\"Hello World!!\")\n",
    "print(\"Hello World!!\")\n",
    "print(\"Hello World!!\")\n",
    "print(\"Hello World!!\")"
   ]
  },
  {
   "cell_type": "code",
   "execution_count": 89,
   "id": "f4b4d64b-91ad-409a-8a58-f30687d6a8e2",
   "metadata": {},
   "outputs": [
    {
     "name": "stdout",
     "output_type": "stream",
     "text": [
      "0 Hello World\n",
      "1 Hello World\n",
      "2 Hello World\n",
      "3 Hello World\n",
      "4 Hello World\n"
     ]
    }
   ],
   "source": [
    "for i in range(0,5):              #start an activity and execute it for 5 times\n",
    "    print(i , \"Hello World\")"
   ]
  },
  {
   "cell_type": "code",
   "execution_count": 91,
   "id": "f544e415-26da-44d9-8935-fc50fbdd2f9d",
   "metadata": {},
   "outputs": [
    {
     "name": "stdout",
     "output_type": "stream",
     "text": [
      "1 Hi\n",
      "2 Hi\n",
      "3 Hi\n",
      "4 Hi\n"
     ]
    }
   ],
   "source": [
    "for i in range(1,5):\n",
    "    print(i , \"Hi\")"
   ]
  },
  {
   "cell_type": "code",
   "execution_count": 96,
   "id": "717ef7dc-1b14-4af3-acbe-6264eb6a6e78",
   "metadata": {},
   "outputs": [
    {
     "name": "stdout",
     "output_type": "stream",
     "text": [
      "7 * 1= 7\n",
      "7 * 2= 14\n",
      "7 * 3= 21\n",
      "7 * 4= 28\n",
      "7 * 5= 35\n",
      "7 * 6= 42\n"
     ]
    }
   ],
   "source": [
    "#WAP to create a multiplication table of 7\n",
    "print(\"7 * 1=\" , 7 * 1)\n",
    "print(\"7 * 2=\" ,7 * 2)\n",
    "print(\"7 * 3=\" ,7 * 3)\n",
    "print(\"7 * 4=\" ,7 * 4)\n",
    "print(\"7 * 5=\" ,7 * 5)\n",
    "print(\"7 * 6=\" ,7 * 6)"
   ]
  },
  {
   "cell_type": "code",
   "execution_count": 102,
   "id": "03596e81-9a83-48a5-86fe-b0068b49748f",
   "metadata": {},
   "outputs": [
    {
     "name": "stdout",
     "output_type": "stream",
     "text": [
      "7 * 1 = 7\n",
      "7 * 2 = 14\n",
      "7 * 3 = 21\n",
      "7 * 4 = 28\n",
      "7 * 5 = 35\n",
      "7 * 6 = 42\n",
      "7 * 7 = 49\n",
      "7 * 8 = 56\n",
      "7 * 9 = 63\n",
      "7 * 10 = 70\n"
     ]
    }
   ],
   "source": [
    "for i in range(1,11):\n",
    "    print(\"7 *\" , i , \"=\" , i * 7)"
   ]
  },
  {
   "cell_type": "code",
   "execution_count": 103,
   "id": "390b3d3f-9cc8-48b0-8b9d-21526598d814",
   "metadata": {},
   "outputs": [
    {
     "name": "stdout",
     "output_type": "stream",
     "text": [
      "Mumbai 6\n",
      "Delhi 5\n",
      "Kolkata 7\n",
      "Chennai 7\n",
      "Banglore 8\n"
     ]
    }
   ],
   "source": [
    "cities = [\"Mumbai\" , \"Delhi\" , \"Kolkata\" , \"Chennai\" , \"Banglore\"]\n",
    "\n",
    "print(cities[0] , len(cities[0]))\n",
    "print(cities[1] , len(cities[1]))\n",
    "print(cities[2] , len(cities[2]))\n",
    "print(cities[3] , len(cities[3]))\n",
    "print(cities[4] , len(cities[4]))"
   ]
  },
  {
   "cell_type": "code",
   "execution_count": 104,
   "id": "69820c86-8030-4165-93ca-d6ede01b39a1",
   "metadata": {},
   "outputs": [
    {
     "name": "stdout",
     "output_type": "stream",
     "text": [
      "5\n"
     ]
    }
   ],
   "source": [
    "print(len(cities))"
   ]
  },
  {
   "cell_type": "code",
   "execution_count": 106,
   "id": "dcaed59e-2872-4024-96c7-180117228715",
   "metadata": {},
   "outputs": [
    {
     "name": "stdout",
     "output_type": "stream",
     "text": [
      "Mumbai 6\n",
      "Delhi 5\n",
      "Kolkata 7\n",
      "Chennai 7\n",
      "Banglore 8\n"
     ]
    }
   ],
   "source": [
    "for i in range(0,len(cities)):\n",
    "    print(cities[i] , len(cities[i]))"
   ]
  },
  {
   "cell_type": "code",
   "execution_count": 107,
   "id": "c429683c-8ac1-4267-a9fa-ffffc05d7d2e",
   "metadata": {},
   "outputs": [
    {
     "name": "stdout",
     "output_type": "stream",
     "text": [
      "Mumbai\n",
      "Delhi\n",
      "Kolkata\n",
      "Chennai\n",
      "Banglore\n"
     ]
    }
   ],
   "source": [
    "cities = [\"Mumbai\" , \"Delhi\" , \"Kolkata\" , \"Chennai\" , \"Banglore\"]\n",
    "\n",
    "for city in cities:\n",
    "    print(city)"
   ]
  },
  {
   "cell_type": "code",
   "execution_count": 109,
   "id": "b7da0e3d-4061-4bbc-86be-e90bf787d53b",
   "metadata": {},
   "outputs": [
    {
     "name": "stdout",
     "output_type": "stream",
     "text": [
      "MUMBAI\n",
      "DELHI\n",
      "KOLKATA\n",
      "CHENNAI\n",
      "BANGLORE\n"
     ]
    }
   ],
   "source": [
    "#Convert each city name given in following list into upper case\n",
    "cities = [\"Mumbai\" , \"Delhi\" , \"Kolkata\" , \"Chennai\" , \"Banglore\"]\n",
    "\n",
    "for city in cities:\n",
    "    print(city.upper())"
   ]
  },
  {
   "cell_type": "code",
   "execution_count": 112,
   "id": "c233caf2-ca58-4b0c-aa2c-21e8e56a22e2",
   "metadata": {},
   "outputs": [
    {
     "name": "stdout",
     "output_type": "stream",
     "text": [
      "0\n",
      "1\n",
      "2\n",
      "3\n",
      "4\n",
      "5\n",
      "6\n"
     ]
    }
   ],
   "source": [
    "for i in range(0,10):\n",
    "    if i == 7:\n",
    "        break\n",
    "    print(i)"
   ]
  },
  {
   "cell_type": "code",
   "execution_count": 115,
   "id": "b39ee3a1-173d-47cd-bfd3-f469714c90e8",
   "metadata": {},
   "outputs": [
    {
     "name": "stdin",
     "output_type": "stream",
     "text": [
      "Enter the user Id asdfg\n",
      "Enter the password xdfgh\n"
     ]
    },
    {
     "name": "stdout",
     "output_type": "stream",
     "text": [
      "Login Failed\n",
      "try again!!\n"
     ]
    },
    {
     "name": "stdin",
     "output_type": "stream",
     "text": [
      "Enter the user Id admin\n",
      "Enter the password password\n"
     ]
    },
    {
     "name": "stdout",
     "output_type": "stream",
     "text": [
      "Login Successfull\n"
     ]
    }
   ],
   "source": [
    "#WAP for login where we want to give 5 attempts in case of failed login\n",
    "\n",
    "for i in range(0,5):\n",
    "    userid = input(\"Enter the user Id\")                #by default user inputs are string in python\n",
    "    userpassword = input(\"Enter the password\")\n",
    "\n",
    "    if (userid == 'admin' and userpassword == 'password'):\n",
    "        print(\"Login Successfull\")\n",
    "        break\n",
    "    else:\n",
    "        print(\"Login Failed\")\n",
    "        print(\"try again!!\")"
   ]
  },
  {
   "cell_type": "markdown",
   "id": "0ff20a44-62b5-4767-8ba3-406e09c3ee69",
   "metadata": {},
   "source": [
    "**While loop**"
   ]
  },
  {
   "cell_type": "code",
   "execution_count": 118,
   "id": "02bd5115-9777-47b0-ba05-867acc81b655",
   "metadata": {},
   "outputs": [
    {
     "name": "stdout",
     "output_type": "stream",
     "text": [
      "Hi\n"
     ]
    }
   ],
   "source": [
    "a = 0\n",
    "\n",
    "if a < 3:\n",
    "    print('Hi')"
   ]
  },
  {
   "cell_type": "code",
   "execution_count": 121,
   "id": "cdb36223-12f8-48dc-82a8-07605707a99f",
   "metadata": {},
   "outputs": [
    {
     "name": "stdout",
     "output_type": "stream",
     "text": [
      "0 Hi\n",
      "1 Hi\n",
      "2 Hi\n",
      "3 Hi\n",
      "4 Hi\n"
     ]
    }
   ],
   "source": [
    "x = 0\n",
    "\n",
    "while x < 5:\n",
    "    print(x , \"Hi\")\n",
    "    x = x + 1"
   ]
  },
  {
   "cell_type": "code",
   "execution_count": 123,
   "id": "0184d1e4-6680-4509-a80e-4ccdf4437b73",
   "metadata": {},
   "outputs": [
    {
     "name": "stdin",
     "output_type": "stream",
     "text": [
      "Enter the user Id admin\n",
      "Enter the password password\n"
     ]
    },
    {
     "name": "stdout",
     "output_type": "stream",
     "text": [
      "Login success\n"
     ]
    }
   ],
   "source": [
    "#WAP for login where we want to give 5 attempts in case of failed login using while loop\n",
    "\n",
    "i = 0\n",
    "\n",
    "while i < 5:\n",
    "    userid = input(\"Enter the user Id\")                #by default user inputs are string in python\n",
    "    userpassword = input(\"Enter the password\")\n",
    "\n",
    "    if userid == 'admin' and userpassword == 'password':\n",
    "        print(\"Login success\")\n",
    "        break\n",
    "    else:\n",
    "        print(\"Try again\")\n",
    "\n",
    "    i = i + 1"
   ]
  },
  {
   "cell_type": "code",
   "execution_count": 124,
   "id": "d0971c73-0b69-4746-9e72-ce758dea217e",
   "metadata": {},
   "outputs": [
    {
     "name": "stdin",
     "output_type": "stream",
     "text": [
      "Enter the user Id fgh\n",
      "Enter the password sdfg\n"
     ]
    },
    {
     "name": "stdout",
     "output_type": "stream",
     "text": [
      "Try again\n"
     ]
    },
    {
     "name": "stdin",
     "output_type": "stream",
     "text": [
      "Enter the user Id sdfg\n",
      "Enter the password sdfg\n"
     ]
    },
    {
     "name": "stdout",
     "output_type": "stream",
     "text": [
      "Try again\n"
     ]
    },
    {
     "name": "stdin",
     "output_type": "stream",
     "text": [
      "Enter the user Id asdfg\n",
      "Enter the password asdfg\n"
     ]
    },
    {
     "name": "stdout",
     "output_type": "stream",
     "text": [
      "Try again\n"
     ]
    },
    {
     "name": "stdin",
     "output_type": "stream",
     "text": [
      "Enter the user Id admin\n",
      "Enter the password password\n"
     ]
    },
    {
     "name": "stdout",
     "output_type": "stream",
     "text": [
      "Login success\n"
     ]
    }
   ],
   "source": [
    "#WAP for login where we want to unlimited attempts in case of failed login using while loop\n",
    "\n",
    "i = 0\n",
    "\n",
    "while i < 1:\n",
    "    userid = input(\"Enter the user Id\")                #by default user inputs are string in python\n",
    "    userpassword = input(\"Enter the password\")\n",
    "\n",
    "    if userid == 'admin' and userpassword == 'password':\n",
    "        print(\"Login success\")\n",
    "        break\n",
    "    else:\n",
    "        print(\"Try again\")"
   ]
  },
  {
   "cell_type": "markdown",
   "id": "c50784c2-a6a0-42d9-92ae-cc9a0a7d577d",
   "metadata": {},
   "source": [
    "**functions in Python**\n",
    "\n",
    "    * InBuilt functions - print(), len(), input()\n",
    "    * User define function - created by user"
   ]
  },
  {
   "cell_type": "code",
   "execution_count": 126,
   "id": "9bf462e7-200a-430c-864d-94070b3dfe43",
   "metadata": {},
   "outputs": [],
   "source": [
    "#Function to print \"Hello\"\n",
    "\n",
    "def greet():\n",
    "    print(\"Hello\")"
   ]
  },
  {
   "cell_type": "code",
   "execution_count": 128,
   "id": "c97af4a6-ae97-4f55-87e5-d115bfbb62be",
   "metadata": {},
   "outputs": [
    {
     "name": "stdout",
     "output_type": "stream",
     "text": [
      "Hello\n",
      "Hello\n",
      "Hello\n",
      "Hello\n"
     ]
    }
   ],
   "source": [
    "greet()\n",
    "greet()\n",
    "greet()\n",
    "greet()"
   ]
  },
  {
   "cell_type": "code",
   "execution_count": 130,
   "id": "145db86a-45f8-4b70-bf28-c242ed2eff20",
   "metadata": {},
   "outputs": [],
   "source": [
    "#create function to add '2' into a given number\n",
    "\n",
    "def add_two(x):\n",
    "    print(x + 2)"
   ]
  },
  {
   "cell_type": "code",
   "execution_count": 132,
   "id": "3cb79f83-ecc2-4659-ad32-ff4a2e18055b",
   "metadata": {},
   "outputs": [
    {
     "name": "stdout",
     "output_type": "stream",
     "text": [
      "8\n",
      "5\n",
      "9\n"
     ]
    }
   ],
   "source": [
    "add_two(6)\n",
    "add_two(3)\n",
    "add_two(7)"
   ]
  },
  {
   "cell_type": "code",
   "execution_count": 134,
   "id": "7451d884-5ecb-4588-8c72-c42cc419ce67",
   "metadata": {},
   "outputs": [
    {
     "name": "stdout",
     "output_type": "stream",
     "text": [
      "4\n"
     ]
    }
   ],
   "source": [
    "add_two(2)"
   ]
  },
  {
   "cell_type": "code",
   "execution_count": 135,
   "id": "71371a50-8a9b-4f19-9eea-cefcb3767280",
   "metadata": {},
   "outputs": [],
   "source": [
    "#Create a function that can add any two numbers\n",
    "def do_sum(x,y):\n",
    "    print(x + y)"
   ]
  },
  {
   "cell_type": "code",
   "execution_count": 137,
   "id": "446f7127-bd8b-4bb2-b73d-4bd86cb40558",
   "metadata": {},
   "outputs": [
    {
     "name": "stdout",
     "output_type": "stream",
     "text": [
      "8\n",
      "2\n",
      "5\n"
     ]
    }
   ],
   "source": [
    "do_sum(5,3)\n",
    "do_sum(1,1)\n",
    "do_sum(2,3)"
   ]
  },
  {
   "cell_type": "code",
   "execution_count": 138,
   "id": "9f5afc85-0334-407d-907e-c704622559e1",
   "metadata": {},
   "outputs": [],
   "source": [
    "def login(uid, up):\n",
    "    if uid == 'admin' and up == 'password':\n",
    "        print('login sucess')\n",
    "    else:\n",
    "        print('login failed')"
   ]
  },
  {
   "cell_type": "code",
   "execution_count": 139,
   "id": "7e476809-de2b-49c8-8b79-ca0b1ae69a2f",
   "metadata": {},
   "outputs": [
    {
     "name": "stdin",
     "output_type": "stream",
     "text": [
      "Enter user id admin\n",
      "Enter password adg\n"
     ]
    },
    {
     "name": "stdout",
     "output_type": "stream",
     "text": [
      "login failed\n"
     ]
    }
   ],
   "source": [
    "userid = input(\"Enter user id\")\n",
    "userpassword = input(\"Enter password\")\n",
    "\n",
    "login(userid, userpassword)"
   ]
  },
  {
   "cell_type": "code",
   "execution_count": 146,
   "id": "4a8bf598-fc0b-4847-bfbd-1662e4daed5a",
   "metadata": {},
   "outputs": [],
   "source": [
    "#Create a function which can check if a number is even or not\n",
    "\n",
    "def even_or_not(num):\n",
    "    if num % 2 == 0:\n",
    "        print(num, \"is even\")\n",
    "    else:\n",
    "        print(num, \"is Odd\")"
   ]
  },
  {
   "cell_type": "code",
   "execution_count": 147,
   "id": "7a4f774a-d78f-4624-b540-a3d2f5cc0967",
   "metadata": {},
   "outputs": [
    {
     "name": "stdout",
     "output_type": "stream",
     "text": [
      "9 is Odd\n",
      "8 is even\n"
     ]
    }
   ],
   "source": [
    "even_or_not(9)\n",
    "even_or_not(8)"
   ]
  },
  {
   "cell_type": "code",
   "execution_count": 148,
   "id": "854d7e69-07f0-45c8-83f7-e1b30c5f7cee",
   "metadata": {},
   "outputs": [
    {
     "name": "stdout",
     "output_type": "stream",
     "text": [
      "2 is even\n",
      "3 is Odd\n",
      "4 is even\n",
      "1 is Odd\n",
      "5 is Odd\n",
      "8 is even\n",
      "5 is Odd\n",
      "1 is Odd\n",
      "8 is even\n",
      "9 is Odd\n",
      "5 is Odd\n",
      "7 is Odd\n"
     ]
    }
   ],
   "source": [
    "#Check which of these items are even and which are odd\n",
    "numbers = [2,3,4,1,5,8,5,1,8,9,5,7]\n",
    "\n",
    "for num in numbers:\n",
    "    even_or_not(num)"
   ]
  },
  {
   "cell_type": "markdown",
   "id": "055e36f5-ac2a-40ad-85ec-93c185fbbb3c",
   "metadata": {},
   "source": [
    "**Return type function**"
   ]
  },
  {
   "cell_type": "code",
   "execution_count": 153,
   "id": "d81f2658-587d-488c-8457-02b1cdd19a89",
   "metadata": {},
   "outputs": [],
   "source": [
    "def do_sum(x,y):\n",
    "    return x+y"
   ]
  },
  {
   "cell_type": "code",
   "execution_count": 154,
   "id": "16dd062b-3e97-4993-bd2f-c160422e845d",
   "metadata": {},
   "outputs": [],
   "source": [
    "result = do_sum(4,3)"
   ]
  },
  {
   "cell_type": "code",
   "execution_count": 155,
   "id": "ce8e23c7-38b1-469c-bfd8-716b9b6db5bb",
   "metadata": {},
   "outputs": [
    {
     "name": "stdout",
     "output_type": "stream",
     "text": [
      "7\n"
     ]
    }
   ],
   "source": [
    "print(result)"
   ]
  },
  {
   "cell_type": "code",
   "execution_count": 162,
   "id": "24d7f0f5-2786-454d-a72a-9636df4ae262",
   "metadata": {},
   "outputs": [],
   "source": [
    "def calculate_square(x):\n",
    "    return (x*x)"
   ]
  },
  {
   "cell_type": "code",
   "execution_count": 163,
   "id": "40af74b5-e408-4350-b473-c7921d8b224d",
   "metadata": {},
   "outputs": [],
   "source": [
    "out1 = calculate_square(7)\n",
    "out2 = calculate_square(8)\n",
    "out3 = calculate_square(9)\n",
    "out4 = calculate_square(10)"
   ]
  },
  {
   "cell_type": "code",
   "execution_count": 164,
   "id": "450a1973-c252-4698-bab2-6f7895a7f229",
   "metadata": {},
   "outputs": [
    {
     "name": "stdout",
     "output_type": "stream",
     "text": [
      "49\n",
      "64\n",
      "81\n",
      "100\n"
     ]
    }
   ],
   "source": [
    "print(out1)\n",
    "print(out2)\n",
    "print(out3)\n",
    "print(out4)"
   ]
  },
  {
   "cell_type": "code",
   "execution_count": 165,
   "id": "5ebffd7d-1b7a-4622-a300-0eb56209c51a",
   "metadata": {},
   "outputs": [
    {
     "name": "stdout",
     "output_type": "stream",
     "text": [
      "24.5\n"
     ]
    }
   ],
   "source": [
    "print(out1/2)"
   ]
  },
  {
   "cell_type": "code",
   "execution_count": 166,
   "id": "4366b9c0-8f7a-481c-a9eb-319225cb8ae9",
   "metadata": {},
   "outputs": [],
   "source": [
    "#return True or False\n",
    "\n",
    "def even_or_not(num):\n",
    "    return num % 2 == 0"
   ]
  },
  {
   "cell_type": "code",
   "execution_count": 167,
   "id": "eafb05ec-7b68-4798-b4a3-552afad8e79a",
   "metadata": {},
   "outputs": [
    {
     "data": {
      "text/plain": [
       "False"
      ]
     },
     "execution_count": 167,
     "metadata": {},
     "output_type": "execute_result"
    }
   ],
   "source": [
    "even_or_not(9)"
   ]
  },
  {
   "cell_type": "code",
   "execution_count": 168,
   "id": "6c96041f-ce32-43d8-9055-5e7d9c36a48d",
   "metadata": {},
   "outputs": [
    {
     "data": {
      "text/plain": [
       "True"
      ]
     },
     "execution_count": 168,
     "metadata": {},
     "output_type": "execute_result"
    }
   ],
   "source": [
    "even_or_not(8)"
   ]
  },
  {
   "cell_type": "code",
   "execution_count": null,
   "id": "14b204d1-2b48-4e99-b6c3-7d0de3dd78df",
   "metadata": {},
   "outputs": [],
   "source": []
  }
 ],
 "metadata": {
  "kernelspec": {
   "display_name": "Python 3 (ipykernel)",
   "language": "python",
   "name": "python3"
  },
  "language_info": {
   "codemirror_mode": {
    "name": "ipython",
    "version": 3
   },
   "file_extension": ".py",
   "mimetype": "text/x-python",
   "name": "python",
   "nbconvert_exporter": "python",
   "pygments_lexer": "ipython3",
   "version": "3.11.9"
  }
 },
 "nbformat": 4,
 "nbformat_minor": 5
}
