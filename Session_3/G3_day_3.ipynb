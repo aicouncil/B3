{
 "cells": [
  {
   "cell_type": "code",
   "execution_count": 5,
   "id": "cd6aefe2-67ce-4dbf-a6ae-598a8526a386",
   "metadata": {},
   "outputs": [
    {
     "name": "stdin",
     "output_type": "stream",
     "text": [
      "Enter Keyword amo1234\n"
     ]
    },
    {
     "name": "stdout",
     "output_type": "stream",
     "text": [
      "Access granted\n",
      "Successfull login\n",
      "all attempt fail\n"
     ]
    }
   ],
   "source": [
    "for i in range(3):\n",
    "    keyword = input(\"Enter Keyword\")\n",
    "    if (keyword == 'amo1234'):\n",
    "        print(\"Access granted\")\n",
    "        print(\"Successfull login\")\n",
    "        break\n",
    "    else:\n",
    "        print(\"Try again\")\n",
    "print(\"all attempt fail\")"
   ]
  },
  {
   "cell_type": "code",
   "execution_count": 6,
   "id": "2fd03a9f-c3ae-4e81-a440-f84ce64f77e1",
   "metadata": {},
   "outputs": [
    {
     "name": "stdin",
     "output_type": "stream",
     "text": [
      "Enter Keyword ftgj\n"
     ]
    },
    {
     "name": "stdout",
     "output_type": "stream",
     "text": [
      "Try again\n"
     ]
    },
    {
     "name": "stdin",
     "output_type": "stream",
     "text": [
      "Enter Keyword fhjj\n"
     ]
    },
    {
     "name": "stdout",
     "output_type": "stream",
     "text": [
      "Try again\n"
     ]
    },
    {
     "name": "stdin",
     "output_type": "stream",
     "text": [
      "Enter Keyword fhj\n"
     ]
    },
    {
     "name": "stdout",
     "output_type": "stream",
     "text": [
      "Try again\n",
      "all attempt fail\n"
     ]
    }
   ],
   "source": [
    "for i in range(3):\n",
    "    keyword = input(\"Enter Keyword\")\n",
    "    if (keyword == 'amo1234'):\n",
    "        print(\"Access granted\")\n",
    "        print(\"Successfull login\")\n",
    "        break\n",
    "    else:\n",
    "        print(\"Try again\")\n",
    "print(\"all attempt fail\")"
   ]
  },
  {
   "cell_type": "markdown",
   "id": "9e5db8f5-8194-4ad1-ad3e-1657917a09be",
   "metadata": {},
   "source": [
    "* If the correct keyword is entered, the loop breaks, and else is skipped\n",
    "* If all 3 attempts fail, else runs and prints \"All attempt failed\""
   ]
  },
  {
   "cell_type": "code",
   "execution_count": 11,
   "id": "df06906f-e7fd-4d55-be6e-ea74efd9d197",
   "metadata": {},
   "outputs": [
    {
     "name": "stdin",
     "output_type": "stream",
     "text": [
      "Enter Keyword dfg\n"
     ]
    },
    {
     "name": "stdout",
     "output_type": "stream",
     "text": [
      "Try again\n"
     ]
    },
    {
     "name": "stdin",
     "output_type": "stream",
     "text": [
      "Enter Keyword amo1234\n"
     ]
    },
    {
     "name": "stdout",
     "output_type": "stream",
     "text": [
      "Access granted\n",
      "Successfull login\n"
     ]
    }
   ],
   "source": [
    "for i in range(3):\n",
    "    keyword = input(\"Enter Keyword\")\n",
    "    if (keyword == 'amo1234'):\n",
    "        print(\"Access granted\")\n",
    "        print(\"Successfull login\")\n",
    "        break\n",
    "    else:\n",
    "        print(\"Try again\")\n",
    "else:\n",
    "    print(\"All attempt failed\")"
   ]
  },
  {
   "cell_type": "markdown",
   "id": "c519fe47-b156-48b0-b420-9d44ce7beca9",
   "metadata": {},
   "source": [
    "**Question 2: Loops**\n",
    "\n",
    "    * Write a Python program to print all even numbers between 1 and 50 using a for loop."
   ]
  },
  {
   "cell_type": "code",
   "execution_count": 15,
   "id": "0048d22e-6be3-4406-b01c-e9be04005b4f",
   "metadata": {},
   "outputs": [
    {
     "name": "stdout",
     "output_type": "stream",
     "text": [
      "1\n",
      "3\n",
      "5\n",
      "7\n",
      "9\n",
      "11\n",
      "13\n",
      "15\n",
      "17\n",
      "19\n",
      "21\n",
      "23\n",
      "25\n",
      "27\n",
      "29\n",
      "31\n",
      "33\n",
      "35\n",
      "37\n",
      "39\n",
      "41\n",
      "43\n",
      "45\n",
      "47\n",
      "49\n"
     ]
    }
   ],
   "source": [
    "#odd number\n",
    "for i in range(1,51):\n",
    "    if (i % 2 == 1):\n",
    "        print(i)"
   ]
  },
  {
   "cell_type": "code",
   "execution_count": 16,
   "id": "ff6f938a-3ba8-4585-8789-9d744bfa88db",
   "metadata": {},
   "outputs": [
    {
     "name": "stdout",
     "output_type": "stream",
     "text": [
      "2\n",
      "4\n",
      "6\n",
      "8\n",
      "10\n",
      "12\n",
      "14\n",
      "16\n",
      "18\n",
      "20\n",
      "22\n",
      "24\n",
      "26\n",
      "28\n",
      "30\n",
      "32\n",
      "34\n",
      "36\n",
      "38\n",
      "40\n",
      "42\n",
      "44\n",
      "46\n",
      "48\n",
      "50\n"
     ]
    }
   ],
   "source": [
    "#even number\n",
    "for i in range(1,51):\n",
    "    if (i % 2 == 0):\n",
    "        print(i)"
   ]
  },
  {
   "cell_type": "markdown",
   "id": "13871cef-b7b4-4a83-bfa5-273b73fa255c",
   "metadata": {},
   "source": [
    "**Question 3: Nested Loops**\n",
    "\n",
    "    * Create a program that displays the multiplication table from 1 to 10. Use nested for loops to format the output.\n",
    "\n",
    "    * Example Output:\n",
    "\n",
    "    * 1 x 1 = 1\n",
    "    * 1 x 2 = 2\n",
    "    * ...\n",
    "    * 10 x 10 = 100\n"
   ]
  },
  {
   "cell_type": "code",
   "execution_count": 25,
   "id": "e62cdfbd-199c-4d76-9c11-5d3a149e159c",
   "metadata": {},
   "outputs": [
    {
     "name": "stdout",
     "output_type": "stream",
     "text": [
      "1 * 1 = 1\n",
      "1 * 2 = 2\n",
      "1 * 3 = 3\n",
      "1 * 4 = 4\n",
      "1 * 5 = 5\n",
      "1 * 6 = 6\n",
      "1 * 7 = 7\n",
      "1 * 8 = 8\n",
      "1 * 9 = 9\n",
      "1 * 10 = 10\n"
     ]
    }
   ],
   "source": [
    "for i in range(1,11):\n",
    "    print(f\"1 * {i} = {1 * i}\")"
   ]
  },
  {
   "cell_type": "code",
   "execution_count": 26,
   "id": "9a7694d9-1b7f-411f-9817-60ac0851c92b",
   "metadata": {},
   "outputs": [
    {
     "name": "stdout",
     "output_type": "stream",
     "text": [
      "1\n",
      "2\n",
      "3\n",
      "4\n",
      "5\n",
      "6\n",
      "7\n",
      "8\n",
      "9\n",
      "10\n"
     ]
    }
   ],
   "source": [
    "for x in range(1,11):\n",
    "    print(x)"
   ]
  },
  {
   "cell_type": "code",
   "execution_count": 27,
   "id": "13a7675a-2819-4d32-8add-94112245a869",
   "metadata": {},
   "outputs": [
    {
     "name": "stdout",
     "output_type": "stream",
     "text": [
      "1 * 1 = 1\n",
      "1 * 2 = 2\n",
      "1 * 3 = 3\n",
      "1 * 4 = 4\n",
      "1 * 5 = 5\n",
      "1 * 6 = 6\n",
      "1 * 7 = 7\n",
      "1 * 8 = 8\n",
      "1 * 9 = 9\n",
      "1 * 10 = 10\n",
      "\n",
      "2 * 1 = 2\n",
      "2 * 2 = 4\n",
      "2 * 3 = 6\n",
      "2 * 4 = 8\n",
      "2 * 5 = 10\n",
      "2 * 6 = 12\n",
      "2 * 7 = 14\n",
      "2 * 8 = 16\n",
      "2 * 9 = 18\n",
      "2 * 10 = 20\n",
      "\n",
      "3 * 1 = 3\n",
      "3 * 2 = 6\n",
      "3 * 3 = 9\n",
      "3 * 4 = 12\n",
      "3 * 5 = 15\n",
      "3 * 6 = 18\n",
      "3 * 7 = 21\n",
      "3 * 8 = 24\n",
      "3 * 9 = 27\n",
      "3 * 10 = 30\n",
      "\n",
      "4 * 1 = 4\n",
      "4 * 2 = 8\n",
      "4 * 3 = 12\n",
      "4 * 4 = 16\n",
      "4 * 5 = 20\n",
      "4 * 6 = 24\n",
      "4 * 7 = 28\n",
      "4 * 8 = 32\n",
      "4 * 9 = 36\n",
      "4 * 10 = 40\n",
      "\n",
      "5 * 1 = 5\n",
      "5 * 2 = 10\n",
      "5 * 3 = 15\n",
      "5 * 4 = 20\n",
      "5 * 5 = 25\n",
      "5 * 6 = 30\n",
      "5 * 7 = 35\n",
      "5 * 8 = 40\n",
      "5 * 9 = 45\n",
      "5 * 10 = 50\n",
      "\n",
      "6 * 1 = 6\n",
      "6 * 2 = 12\n",
      "6 * 3 = 18\n",
      "6 * 4 = 24\n",
      "6 * 5 = 30\n",
      "6 * 6 = 36\n",
      "6 * 7 = 42\n",
      "6 * 8 = 48\n",
      "6 * 9 = 54\n",
      "6 * 10 = 60\n",
      "\n",
      "7 * 1 = 7\n",
      "7 * 2 = 14\n",
      "7 * 3 = 21\n",
      "7 * 4 = 28\n",
      "7 * 5 = 35\n",
      "7 * 6 = 42\n",
      "7 * 7 = 49\n",
      "7 * 8 = 56\n",
      "7 * 9 = 63\n",
      "7 * 10 = 70\n",
      "\n",
      "8 * 1 = 8\n",
      "8 * 2 = 16\n",
      "8 * 3 = 24\n",
      "8 * 4 = 32\n",
      "8 * 5 = 40\n",
      "8 * 6 = 48\n",
      "8 * 7 = 56\n",
      "8 * 8 = 64\n",
      "8 * 9 = 72\n",
      "8 * 10 = 80\n",
      "\n",
      "9 * 1 = 9\n",
      "9 * 2 = 18\n",
      "9 * 3 = 27\n",
      "9 * 4 = 36\n",
      "9 * 5 = 45\n",
      "9 * 6 = 54\n",
      "9 * 7 = 63\n",
      "9 * 8 = 72\n",
      "9 * 9 = 81\n",
      "9 * 10 = 90\n",
      "\n",
      "10 * 1 = 10\n",
      "10 * 2 = 20\n",
      "10 * 3 = 30\n",
      "10 * 4 = 40\n",
      "10 * 5 = 50\n",
      "10 * 6 = 60\n",
      "10 * 7 = 70\n",
      "10 * 8 = 80\n",
      "10 * 9 = 90\n",
      "10 * 10 = 100\n",
      "\n"
     ]
    }
   ],
   "source": [
    "for x in range(1,11):\n",
    "    for i in range(1,11):\n",
    "        print(f\"{x} * {i} = {x * i}\")\n",
    "    print()"
   ]
  },
  {
   "cell_type": "code",
   "execution_count": 33,
   "id": "bb4a2f26-faeb-49ee-a476-0263f529118b",
   "metadata": {},
   "outputs": [
    {
     "name": "stdout",
     "output_type": "stream",
     "text": [
      "1 * 1 = 1\n",
      "1 * 2 = 2\n",
      "1 * 3 = 3\n",
      "1 * 4 = 4\n",
      "1 * 5 = 5\n",
      "1 * 6 = 6\n",
      "1 * 7 = 7\n",
      "1 * 8 = 8\n",
      "1 * 9 = 9\n",
      "1 * 10 = 10\n",
      "\n",
      "2 * 1 = 2\n",
      "2 * 2 = 4\n",
      "2 * 3 = 6\n",
      "2 * 4 = 8\n",
      "2 * 5 = 10\n",
      "2 * 6 = 12\n",
      "2 * 7 = 14\n",
      "2 * 8 = 16\n",
      "2 * 9 = 18\n",
      "2 * 10 = 20\n",
      "\n",
      "3 * 1 = 3\n",
      "3 * 2 = 6\n",
      "3 * 3 = 9\n",
      "3 * 4 = 12\n",
      "3 * 5 = 15\n",
      "3 * 6 = 18\n",
      "3 * 7 = 21\n",
      "3 * 8 = 24\n",
      "3 * 9 = 27\n",
      "3 * 10 = 30\n",
      "\n",
      "4 * 1 = 4\n",
      "4 * 2 = 8\n",
      "4 * 3 = 12\n",
      "4 * 4 = 16\n",
      "4 * 5 = 20\n",
      "4 * 6 = 24\n",
      "4 * 7 = 28\n",
      "4 * 8 = 32\n",
      "4 * 9 = 36\n",
      "4 * 10 = 40\n",
      "\n",
      "5 * 1 = 5\n",
      "5 * 2 = 10\n",
      "5 * 3 = 15\n",
      "5 * 4 = 20\n",
      "5 * 5 = 25\n",
      "5 * 6 = 30\n",
      "5 * 7 = 35\n",
      "5 * 8 = 40\n",
      "5 * 9 = 45\n",
      "5 * 10 = 50\n",
      "\n",
      "6 * 1 = 6\n",
      "6 * 2 = 12\n",
      "6 * 3 = 18\n",
      "6 * 4 = 24\n",
      "6 * 5 = 30\n",
      "6 * 6 = 36\n",
      "6 * 7 = 42\n",
      "6 * 8 = 48\n",
      "6 * 9 = 54\n",
      "6 * 10 = 60\n",
      "\n",
      "7 * 1 = 7\n",
      "7 * 2 = 14\n",
      "7 * 3 = 21\n",
      "7 * 4 = 28\n",
      "7 * 5 = 35\n",
      "7 * 6 = 42\n",
      "7 * 7 = 49\n",
      "7 * 8 = 56\n",
      "7 * 9 = 63\n",
      "7 * 10 = 70\n",
      "\n",
      "8 * 1 = 8\n",
      "8 * 2 = 16\n",
      "8 * 3 = 24\n",
      "8 * 4 = 32\n",
      "8 * 5 = 40\n",
      "8 * 6 = 48\n",
      "8 * 7 = 56\n",
      "8 * 8 = 64\n",
      "8 * 9 = 72\n",
      "8 * 10 = 80\n",
      "\n",
      "9 * 1 = 9\n",
      "9 * 2 = 18\n",
      "9 * 3 = 27\n",
      "9 * 4 = 36\n",
      "9 * 5 = 45\n",
      "9 * 6 = 54\n",
      "9 * 7 = 63\n",
      "9 * 8 = 72\n",
      "9 * 9 = 81\n",
      "9 * 10 = 90\n",
      "\n",
      "10 * 1 = 10\n",
      "10 * 2 = 20\n",
      "10 * 3 = 30\n",
      "10 * 4 = 40\n",
      "10 * 5 = 50\n",
      "10 * 6 = 60\n",
      "10 * 7 = 70\n",
      "10 * 8 = 80\n",
      "10 * 9 = 90\n",
      "10 * 10 = 100\n",
      "\n"
     ]
    }
   ],
   "source": [
    "for x in range(1,11):\n",
    "    for i in range(1,11):\n",
    "        print(x, \"*\", i, \"=\" , i*x)\n",
    "    print()"
   ]
  },
  {
   "cell_type": "code",
   "execution_count": 39,
   "id": "33684163-4d4c-4ac2-bddb-3572dc948b43",
   "metadata": {},
   "outputs": [
    {
     "name": "stdout",
     "output_type": "stream",
     "text": [
      "11\n"
     ]
    }
   ],
   "source": [
    "a = 24\n",
    "a = 23\n",
    "print(a // 2)"
   ]
  },
  {
   "cell_type": "code",
   "execution_count": 40,
   "id": "f67fda51-15d4-44d6-bf47-1198f73722e8",
   "metadata": {},
   "outputs": [
    {
     "name": "stdout",
     "output_type": "stream",
     "text": [
      "1\n",
      "2\n",
      "3\n",
      "3\n",
      "5\n",
      "2\n",
      "7\n",
      "5\n",
      "3\n",
      "1\n"
     ]
    }
   ],
   "source": [
    "print(a % 2)\n",
    "print(a % 3)\n",
    "print(a % 4)\n",
    "print(a % 5)\n",
    "print(a % 6)\n",
    "print(a % 7)\n",
    "print(a % 8)\n",
    "print(a % 9)\n",
    "print(a % 10)\n",
    "print(a % 11)\n",
    "#print(a % 12)"
   ]
  },
  {
   "cell_type": "code",
   "execution_count": 70,
   "id": "8698008d-7f3a-4809-9e4b-c405d399566b",
   "metadata": {},
   "outputs": [],
   "source": [
    "def check_prime(x):\n",
    "    n = x // 2\n",
    "    for i in range(2,n):\n",
    "        print(f\"{x} % {i} = {x % i}\")"
   ]
  },
  {
   "cell_type": "code",
   "execution_count": 73,
   "id": "31f794e1-d757-4fd1-a14e-87e577b1fc3a",
   "metadata": {},
   "outputs": [
    {
     "name": "stdout",
     "output_type": "stream",
     "text": [
      "10 % 2 = 0\n",
      "10 % 3 = 1\n",
      "10 % 4 = 2\n"
     ]
    }
   ],
   "source": [
    "check_prime(10)"
   ]
  },
  {
   "cell_type": "code",
   "execution_count": 74,
   "id": "18440312-e4d3-41d4-ae30-8ea5870f31f5",
   "metadata": {},
   "outputs": [
    {
     "name": "stdout",
     "output_type": "stream",
     "text": [
      "11 % 2 = 1\n",
      "11 % 3 = 2\n",
      "11 % 4 = 3\n"
     ]
    }
   ],
   "source": [
    "check_prime(11)"
   ]
  },
  {
   "cell_type": "code",
   "execution_count": 88,
   "id": "c1dd2862-c7ff-4241-a4ba-8c7a4d0a46ba",
   "metadata": {},
   "outputs": [],
   "source": [
    "def check_prime(x):\n",
    "    n = x // 2\n",
    "    for i in range(2,n+1):\n",
    "        if x % i == 0:\n",
    "            return False\n",
    "    else:\n",
    "        return True"
   ]
  },
  {
   "cell_type": "code",
   "execution_count": 89,
   "id": "013296d7-fb28-4fdf-a948-2a73e3e86413",
   "metadata": {},
   "outputs": [
    {
     "data": {
      "text/plain": [
       "False"
      ]
     },
     "execution_count": 89,
     "metadata": {},
     "output_type": "execute_result"
    }
   ],
   "source": [
    "check_prime(4)"
   ]
  },
  {
   "cell_type": "markdown",
   "id": "f483b4ad-388c-4852-bb5b-bdfd900a2486",
   "metadata": {},
   "source": [
    "**Function with default values of arguments**"
   ]
  },
  {
   "cell_type": "code",
   "execution_count": 109,
   "id": "186c04e2-afbd-4c43-a1db-6ad289f15264",
   "metadata": {},
   "outputs": [],
   "source": [
    "def emp_details(name='NA' , age='NA' , email='NA'):\n",
    "    emp_info = {\"Name\" : name,\n",
    "                \"Age\" : age,\n",
    "                \"Email\" : email}\n",
    "    return emp_info"
   ]
  },
  {
   "cell_type": "code",
   "execution_count": 110,
   "id": "3653912d-639d-4b3a-8fda-8432351ab0fd",
   "metadata": {},
   "outputs": [
    {
     "data": {
      "text/plain": [
       "{'Name': 'Pavan', 'Age': 25, 'Email': 'pavan@abc.com'}"
      ]
     },
     "execution_count": 110,
     "metadata": {},
     "output_type": "execute_result"
    }
   ],
   "source": [
    "emp_details(\"Pavan\" , 25 , 'pavan@abc.com')"
   ]
  },
  {
   "cell_type": "code",
   "execution_count": 111,
   "id": "d11e04b4-e659-465b-874e-dc7d5ba0cb48",
   "metadata": {},
   "outputs": [
    {
     "data": {
      "text/plain": [
       "{'Name': 'Pavan', 'Age': 25, 'Email': 'NA'}"
      ]
     },
     "execution_count": 111,
     "metadata": {},
     "output_type": "execute_result"
    }
   ],
   "source": [
    "emp_details(\"Pavan\" , 25)"
   ]
  },
  {
   "cell_type": "code",
   "execution_count": 112,
   "id": "84e22487-2dde-427e-81a9-92b4048265c6",
   "metadata": {},
   "outputs": [
    {
     "data": {
      "text/plain": [
       "{'Name': 'Jai', 'Age': 'NA', 'Email': 'NA'}"
      ]
     },
     "execution_count": 112,
     "metadata": {},
     "output_type": "execute_result"
    }
   ],
   "source": [
    "emp_details(\"Jai\")"
   ]
  },
  {
   "cell_type": "markdown",
   "id": "146fbc8c-fff2-48e2-8327-86621ed9e6bc",
   "metadata": {},
   "source": [
    "**Positional Arguments**"
   ]
  },
  {
   "cell_type": "code",
   "execution_count": 114,
   "id": "74e946ba-bca5-4c7d-9446-5fedd442bbf9",
   "metadata": {},
   "outputs": [
    {
     "data": {
      "text/plain": [
       "{'Name': 'Pavan', 'Age': 25, 'Email': 'pavan@abc.com'}"
      ]
     },
     "execution_count": 114,
     "metadata": {},
     "output_type": "execute_result"
    }
   ],
   "source": [
    "emp_details(\"Pavan\" , 25 , 'pavan@abc.com')"
   ]
  },
  {
   "cell_type": "markdown",
   "id": "9d2a9fb7-babb-43d7-bc9b-7cbb8e0e05f4",
   "metadata": {},
   "source": [
    "**Keywords Arguments**"
   ]
  },
  {
   "cell_type": "code",
   "execution_count": 115,
   "id": "c7d50f06-f222-439d-948e-7a2e0b060d3e",
   "metadata": {},
   "outputs": [
    {
     "data": {
      "text/plain": [
       "{'Name': 'Pavan', 'Age': 25, 'Email': 'pavan@abc.com'}"
      ]
     },
     "execution_count": 115,
     "metadata": {},
     "output_type": "execute_result"
    }
   ],
   "source": [
    "emp_details(email = 'pavan@abc.com', name = \"Pavan\" , age = 25)"
   ]
  },
  {
   "cell_type": "markdown",
   "id": "72cbfd3d-4364-400a-9aad-205811700a9d",
   "metadata": {},
   "source": [
    "**variable length arguments**\n",
    "\n",
    "    * *args"
   ]
  },
  {
   "cell_type": "code",
   "execution_count": 124,
   "id": "264e4a91-26aa-4bb0-8f21-32110ceeab0e",
   "metadata": {},
   "outputs": [],
   "source": [
    "def emp_salaries(*salary):\n",
    "    for val in salary:\n",
    "        val = val + val*0.1\n",
    "        print(val)"
   ]
  },
  {
   "cell_type": "code",
   "execution_count": 125,
   "id": "35dc1d3f-df3f-4505-94fe-3ffa3ec61bb0",
   "metadata": {},
   "outputs": [
    {
     "name": "stdout",
     "output_type": "stream",
     "text": [
      "71500.0\n",
      "61050.0\n"
     ]
    }
   ],
   "source": [
    "emp_salaries(65000,55500)"
   ]
  },
  {
   "cell_type": "code",
   "execution_count": 126,
   "id": "bc75f581-eebb-4270-8404-734bf6722b49",
   "metadata": {},
   "outputs": [
    {
     "name": "stdout",
     "output_type": "stream",
     "text": [
      "71500.0\n",
      "61050.0\n",
      "38500.0\n"
     ]
    }
   ],
   "source": [
    "emp_salaries(65000,55500,35000)"
   ]
  },
  {
   "cell_type": "code",
   "execution_count": 127,
   "id": "27bfcf1a-b851-47e3-bb2b-554e68ae4b53",
   "metadata": {},
   "outputs": [
    {
     "name": "stdout",
     "output_type": "stream",
     "text": [
      "71500.0\n",
      "61050.0\n",
      "38500.0\n",
      "49500.0\n"
     ]
    }
   ],
   "source": [
    "emp_salaries(65000,55500,35000,45000)"
   ]
  },
  {
   "cell_type": "markdown",
   "id": "7b1e8e60-6d36-4f9f-bd02-54b763d52857",
   "metadata": {},
   "source": [
    "**Variable length keyword arguments**\n",
    "\n",
    "    * **kwargs"
   ]
  },
  {
   "cell_type": "code",
   "execution_count": 145,
   "id": "e75ccccc-64dd-427c-878f-52255da90571",
   "metadata": {},
   "outputs": [],
   "source": [
    "def student_details(**kwargs):\n",
    "    for key,value in kwargs.items():\n",
    "        print(f\"{key} - {value}\")"
   ]
  },
  {
   "cell_type": "code",
   "execution_count": 146,
   "id": "0dc431a7-39ee-4d4e-938e-c3949a1afc40",
   "metadata": {},
   "outputs": [
    {
     "name": "stdout",
     "output_type": "stream",
     "text": [
      "name - Ajay\n",
      "course - Python\n",
      "Duration - 4 Weeks\n"
     ]
    }
   ],
   "source": [
    "student_details(name = \"Ajay\" , course = \"Python\" , Duration = \"4 Weeks\")"
   ]
  },
  {
   "cell_type": "code",
   "execution_count": 147,
   "id": "72a17a6f-5590-4692-beb2-30811f693571",
   "metadata": {},
   "outputs": [
    {
     "name": "stdout",
     "output_type": "stream",
     "text": [
      "name - Jai\n"
     ]
    }
   ],
   "source": [
    "student_details(name = \"Jai\")"
   ]
  },
  {
   "cell_type": "code",
   "execution_count": 149,
   "id": "49766976-11e3-42c2-95a4-d9cc37586f88",
   "metadata": {},
   "outputs": [
    {
     "name": "stdout",
     "output_type": "stream",
     "text": [
      "name - Jai\n",
      "course - Data Science\n",
      "City - Jaipur\n",
      "Duration - 3 Months\n"
     ]
    }
   ],
   "source": [
    "student_details(name = \"Jai\" , course = \"Data Science\" , City = \"Jaipur\" , Duration = \"3 Months\")"
   ]
  },
  {
   "cell_type": "markdown",
   "id": "51e88498-4e02-41fb-899f-914fca05f102",
   "metadata": {},
   "source": [
    "**Lambda function**\n",
    "\n",
    "    * return type function created in single line with all logics required"
   ]
  },
  {
   "cell_type": "code",
   "execution_count": 152,
   "id": "73f253f4-abf0-4fcd-b4dc-6f25972a0b56",
   "metadata": {},
   "outputs": [],
   "source": [
    "def myfunc(x):\n",
    "    return x"
   ]
  },
  {
   "cell_type": "code",
   "execution_count": 155,
   "id": "02a31e6d-8018-47dc-8786-2028a5b3dbe8",
   "metadata": {},
   "outputs": [
    {
     "data": {
      "text/plain": [
       "20"
      ]
     },
     "execution_count": 155,
     "metadata": {},
     "output_type": "execute_result"
    }
   ],
   "source": [
    "myfunc(20)"
   ]
  },
  {
   "cell_type": "code",
   "execution_count": 157,
   "id": "cb71c3fd-c826-4620-a5b8-5d404afbaf15",
   "metadata": {},
   "outputs": [],
   "source": [
    "newfunc = lambda x : x"
   ]
  },
  {
   "cell_type": "code",
   "execution_count": 158,
   "id": "5eb0b4bc-25a0-4821-95c5-71788a0efcdb",
   "metadata": {},
   "outputs": [
    {
     "data": {
      "text/plain": [
       "22"
      ]
     },
     "execution_count": 158,
     "metadata": {},
     "output_type": "execute_result"
    }
   ],
   "source": [
    "newfunc(22)"
   ]
  },
  {
   "cell_type": "code",
   "execution_count": 159,
   "id": "83798b95-c7ae-413e-aeed-dc4fb590f389",
   "metadata": {},
   "outputs": [],
   "source": [
    "def sum_values(x,y):\n",
    "    return x + y"
   ]
  },
  {
   "cell_type": "code",
   "execution_count": 160,
   "id": "68615714-af93-4265-9cbf-554f34db5c27",
   "metadata": {},
   "outputs": [],
   "source": [
    "dosum = lambda x,y : x + y"
   ]
  },
  {
   "cell_type": "code",
   "execution_count": 161,
   "id": "551f6af4-022a-43b6-b5d9-aa6cad006fc6",
   "metadata": {},
   "outputs": [
    {
     "data": {
      "text/plain": [
       "13"
      ]
     },
     "execution_count": 161,
     "metadata": {},
     "output_type": "execute_result"
    }
   ],
   "source": [
    "dosum(5,8)"
   ]
  },
  {
   "cell_type": "code",
   "execution_count": 162,
   "id": "914fa211-a2aa-4517-9493-083f4cb4f1b9",
   "metadata": {},
   "outputs": [
    {
     "data": {
      "text/plain": [
       "5"
      ]
     },
     "execution_count": 162,
     "metadata": {},
     "output_type": "execute_result"
    }
   ],
   "source": [
    "dosum(3,2)"
   ]
  },
  {
   "cell_type": "code",
   "execution_count": 165,
   "id": "ef69c63a-7b40-4a43-8901-525b51011817",
   "metadata": {},
   "outputs": [
    {
     "data": {
      "text/plain": [
       "False"
      ]
     },
     "execution_count": 165,
     "metadata": {},
     "output_type": "execute_result"
    }
   ],
   "source": [
    "#Create a lambda function to check an even number\n",
    "def check_even(x):\n",
    "    return x % 2 == 0\n",
    "\n",
    "check_even(9)"
   ]
  },
  {
   "cell_type": "code",
   "execution_count": 168,
   "id": "30416ca6-5f96-49f4-b09c-4d7c21a86ad9",
   "metadata": {},
   "outputs": [
    {
     "data": {
      "text/plain": [
       "False"
      ]
     },
     "execution_count": 168,
     "metadata": {},
     "output_type": "execute_result"
    }
   ],
   "source": [
    "evenorodd = lambda x : x % 2 == 0\n",
    "evenorodd(7)"
   ]
  },
  {
   "cell_type": "code",
   "execution_count": 171,
   "id": "dbf9ca13-ed17-4b83-95be-2ef5b5f8e174",
   "metadata": {},
   "outputs": [
    {
     "data": {
      "text/plain": [
       "'it is odd'"
      ]
     },
     "execution_count": 171,
     "metadata": {},
     "output_type": "execute_result"
    }
   ],
   "source": [
    "#can we modify it to return value as \"it is even\" or \"it is odd\"\n",
    "\n",
    "evenorodd = lambda x : \"it is even\" if x % 2 == 0 else \"it is odd\"\n",
    "evenorodd(9)"
   ]
  },
  {
   "cell_type": "code",
   "execution_count": 172,
   "id": "20a88f98-44ce-4acd-a450-afd9e5150da0",
   "metadata": {},
   "outputs": [
    {
     "data": {
      "text/plain": [
       "'it is even'"
      ]
     },
     "execution_count": 172,
     "metadata": {},
     "output_type": "execute_result"
    }
   ],
   "source": [
    "evenorodd(12)"
   ]
  },
  {
   "cell_type": "code",
   "execution_count": 174,
   "id": "fb5b6bea-a30c-4ce1-9d08-10437ce18a9e",
   "metadata": {},
   "outputs": [],
   "source": [
    "#Lambda function to check user id and password to return login successfull or it is failed\n",
    "\n",
    "userlogin = lambda userid,password : \"login success\" if userid == 'admin' and password == 'password' else \"Login failed\""
   ]
  },
  {
   "cell_type": "code",
   "execution_count": 175,
   "id": "60067360-d9a1-4dd6-aa58-69508b4c396b",
   "metadata": {},
   "outputs": [
    {
     "data": {
      "text/plain": [
       "'login success'"
      ]
     },
     "execution_count": 175,
     "metadata": {},
     "output_type": "execute_result"
    }
   ],
   "source": [
    "userlogin('admin','password')"
   ]
  },
  {
   "cell_type": "code",
   "execution_count": null,
   "id": "f30f9e61-3d2e-48c1-bea0-b6ad40b3c957",
   "metadata": {},
   "outputs": [],
   "source": [
    "marks = int(input(\"Enter your marks\"))\n",
    "\n",
    "if marks > 80:                      #else + if\n",
    "    print(\"Grade A\")\n",
    "elif marks > 60:\n",
    "    print(\"Grade B\")\n",
    "elif marks > 40:\n",
    "    print(\"Grade C\")\n",
    "else:\n",
    "    print(\"Failed\")"
   ]
  },
  {
   "cell_type": "code",
   "execution_count": 180,
   "id": "44020999-d431-420f-b769-a840c7481846",
   "metadata": {},
   "outputs": [],
   "source": [
    "grade = lambda marks: \"Grade A\" if marks > 80 else \"Grade B\" if marks > 60 else \"Grade C\" if marks > 40 else \"Failed\""
   ]
  },
  {
   "cell_type": "code",
   "execution_count": 185,
   "id": "5b1157cb-2bdd-4058-ab55-108127af8062",
   "metadata": {},
   "outputs": [
    {
     "data": {
      "text/plain": [
       "'Grade C'"
      ]
     },
     "execution_count": 185,
     "metadata": {},
     "output_type": "execute_result"
    }
   ],
   "source": [
    "grade(55)"
   ]
  },
  {
   "cell_type": "markdown",
   "id": "a6e07db3-8393-4f62-83be-17e51d0c9c6d",
   "metadata": {},
   "source": [
    "**Exception Handling**"
   ]
  },
  {
   "cell_type": "code",
   "execution_count": 189,
   "id": "285ea329-0e3e-4633-b5af-22f980673b28",
   "metadata": {},
   "outputs": [
    {
     "name": "stdout",
     "output_type": "stream",
     "text": [
      "name 'y' is not defined\n"
     ]
    }
   ],
   "source": [
    "try:\n",
    "    print(y)\n",
    "except Exception as err:\n",
    "    print(err)"
   ]
  },
  {
   "cell_type": "code",
   "execution_count": 190,
   "id": "da0198ab-3ab7-4371-8de6-be13a1375157",
   "metadata": {},
   "outputs": [
    {
     "data": {
      "text/plain": [
       "'Login failed'"
      ]
     },
     "execution_count": 190,
     "metadata": {},
     "output_type": "execute_result"
    }
   ],
   "source": [
    "userlogin = lambda userid,password : \"login success\" if userid == 'admin' and password == 'password' else \"Login failed\"\n",
    "\n",
    "userlogin('admin','12345')"
   ]
  },
  {
   "cell_type": "code",
   "execution_count": 192,
   "id": "680b64b9-c530-4310-9441-df5730537807",
   "metadata": {},
   "outputs": [
    {
     "name": "stdout",
     "output_type": "stream",
     "text": [
      "<lambda>() missing 1 required positional argument: 'password'\n"
     ]
    }
   ],
   "source": [
    "try:\n",
    "    userlogin('admin')\n",
    "except Exception as err:\n",
    "    print(err)"
   ]
  },
  {
   "cell_type": "code",
   "execution_count": 199,
   "id": "433a9aeb-e510-4179-84c4-d1eecf07c867",
   "metadata": {},
   "outputs": [
    {
     "name": "stdout",
     "output_type": "stream",
     "text": [
      "y is not defined\n"
     ]
    }
   ],
   "source": [
    "try:\n",
    "    print(y)\n",
    "except NameError:\n",
    "    print(\"y is not defined\")"
   ]
  },
  {
   "cell_type": "code",
   "execution_count": 200,
   "id": "efb865e4-f0da-4ec3-b99c-1ac83a2384e7",
   "metadata": {},
   "outputs": [
    {
     "name": "stdout",
     "output_type": "stream",
     "text": [
      "Data type of value defined can't be used for operation you want\n"
     ]
    }
   ],
   "source": [
    "z = '21'\n",
    "\n",
    "try:\n",
    "    print(z / 10)\n",
    "except TypeError:\n",
    "    print(\"Data type of value defined can't be used for operation you want\")"
   ]
  },
  {
   "cell_type": "code",
   "execution_count": 202,
   "id": "e3d5b5aa-874c-4119-aa25-6851cfa40854",
   "metadata": {},
   "outputs": [
    {
     "name": "stdout",
     "output_type": "stream",
     "text": [
      "The variable you want to operate is not defined\n"
     ]
    }
   ],
   "source": [
    "try:\n",
    "    print(k / 10)\n",
    "except TypeError:\n",
    "    print(\"Data type of value defined can't be used for operation you want\")\n",
    "except NameError:\n",
    "    print(\"The variable you want to operate is not defined\")"
   ]
  },
  {
   "cell_type": "code",
   "execution_count": 213,
   "id": "366cf376-8b9c-4504-88e2-50ee88aabc4f",
   "metadata": {},
   "outputs": [],
   "source": [
    "def check_prime(x):\n",
    "    n = x // 2\n",
    "    for i in range(2,n+1):\n",
    "        if x % i == 0:\n",
    "            return False\n",
    "    else:\n",
    "        return True"
   ]
  },
  {
   "cell_type": "code",
   "execution_count": 226,
   "id": "ed130330-a727-460f-8892-a257cb3f5e00",
   "metadata": {},
   "outputs": [
    {
     "name": "stdin",
     "output_type": "stream",
     "text": [
      "Enter a number for prime number check \n"
     ]
    },
    {
     "name": "stdout",
     "output_type": "stream",
     "text": [
      "You are not giving any value to check\n"
     ]
    }
   ],
   "source": [
    "num = input(\"Enter a number for prime number check\")       #user input values are string in python\n",
    "\n",
    "try:\n",
    "    print(check_prime(num))\n",
    "except TypeError:\n",
    "    try:\n",
    "        print(check_prime(int(num)))\n",
    "    except Exception:\n",
    "        print(\"You are not giving any value to check\")"
   ]
  },
  {
   "cell_type": "markdown",
   "id": "67eb9640-3644-4407-9b7d-b2e20ddc1495",
   "metadata": {},
   "source": [
    "**File Handling**\n",
    "\n",
    "    * modes of file handling\n",
    "        * 'w' - create and write a file, overwrite the already existing file\n",
    "        * 'r' - read an existing file, return exception if file is not existing\n",
    "        * 'a' - create and write a file, add new information into an existing file\n",
    "        * 'x' - create and write a new file, but returns error if the file is already existing"
   ]
  },
  {
   "cell_type": "code",
   "execution_count": 229,
   "id": "764f80d9-2ebd-4225-bdc0-46c69b99a686",
   "metadata": {},
   "outputs": [],
   "source": [
    "file1 = open('myfile1.txt' , 'w')           #myfile1.txt is not existing, so it will created and get written down\n",
    "file1.write(\"This is a python generated text file\")\n",
    "file1.close()"
   ]
  },
  {
   "cell_type": "code",
   "execution_count": 230,
   "id": "b52e17d1-9842-47a4-8bb9-8ed1bab439d3",
   "metadata": {},
   "outputs": [],
   "source": [
    "file1 = open('myfile1.txt' , 'w')          #myfile1.txt was existing, so it will be overwritten\n",
    "file1.write(\"Now i am writing into an existing text file using python, so it will overwrite\")\n",
    "file1.close()"
   ]
  },
  {
   "cell_type": "code",
   "execution_count": 231,
   "id": "4afd016a-7e4b-401a-a62a-d2f1abd6fe08",
   "metadata": {},
   "outputs": [
    {
     "name": "stdout",
     "output_type": "stream",
     "text": [
      "Now i am writing into an existing text file using python, so it will overwrite\n"
     ]
    }
   ],
   "source": [
    "file2 = open('myfile1.txt' , 'r')          #myfile1.txt is existing, so read function can read it\n",
    "print(file2.read())\n",
    "file2.close()"
   ]
  },
  {
   "cell_type": "code",
   "execution_count": 232,
   "id": "441b848d-952b-45db-8322-e986967dd92f",
   "metadata": {},
   "outputs": [
    {
     "ename": "FileNotFoundError",
     "evalue": "[Errno 2] No such file or directory: 'myfile2.txt'",
     "output_type": "error",
     "traceback": [
      "\u001b[31m---------------------------------------------------------------------------\u001b[39m",
      "\u001b[31mFileNotFoundError\u001b[39m                         Traceback (most recent call last)",
      "\u001b[36mCell\u001b[39m\u001b[36m \u001b[39m\u001b[32mIn[232]\u001b[39m\u001b[32m, line 1\u001b[39m\n\u001b[32m----> \u001b[39m\u001b[32m1\u001b[39m file2 = \u001b[38;5;28;43mopen\u001b[39;49m\u001b[43m(\u001b[49m\u001b[33;43m'\u001b[39;49m\u001b[33;43mmyfile2.txt\u001b[39;49m\u001b[33;43m'\u001b[39;49m\u001b[43m \u001b[49m\u001b[43m,\u001b[49m\u001b[43m \u001b[49m\u001b[33;43m'\u001b[39;49m\u001b[33;43mr\u001b[39;49m\u001b[33;43m'\u001b[39;49m\u001b[43m)\u001b[49m\n\u001b[32m      2\u001b[39m \u001b[38;5;28mprint\u001b[39m(file2.read())\n\u001b[32m      3\u001b[39m file2.close()\n",
      "\u001b[36mFile \u001b[39m\u001b[32m~\\AppData\\Local\\Programs\\Python\\Python311\\Lib\\site-packages\\IPython\\core\\interactiveshell.py:326\u001b[39m, in \u001b[36m_modified_open\u001b[39m\u001b[34m(file, *args, **kwargs)\u001b[39m\n\u001b[32m    319\u001b[39m \u001b[38;5;28;01mif\u001b[39;00m file \u001b[38;5;129;01min\u001b[39;00m {\u001b[32m0\u001b[39m, \u001b[32m1\u001b[39m, \u001b[32m2\u001b[39m}:\n\u001b[32m    320\u001b[39m     \u001b[38;5;28;01mraise\u001b[39;00m \u001b[38;5;167;01mValueError\u001b[39;00m(\n\u001b[32m    321\u001b[39m         \u001b[33mf\u001b[39m\u001b[33m\"\u001b[39m\u001b[33mIPython won\u001b[39m\u001b[33m'\u001b[39m\u001b[33mt let you open fd=\u001b[39m\u001b[38;5;132;01m{\u001b[39;00mfile\u001b[38;5;132;01m}\u001b[39;00m\u001b[33m by default \u001b[39m\u001b[33m\"\u001b[39m\n\u001b[32m    322\u001b[39m         \u001b[33m\"\u001b[39m\u001b[33mas it is likely to crash IPython. If you know what you are doing, \u001b[39m\u001b[33m\"\u001b[39m\n\u001b[32m    323\u001b[39m         \u001b[33m\"\u001b[39m\u001b[33myou can use builtins\u001b[39m\u001b[33m'\u001b[39m\u001b[33m open.\u001b[39m\u001b[33m\"\u001b[39m\n\u001b[32m    324\u001b[39m     )\n\u001b[32m--> \u001b[39m\u001b[32m326\u001b[39m \u001b[38;5;28;01mreturn\u001b[39;00m \u001b[43mio_open\u001b[49m\u001b[43m(\u001b[49m\u001b[43mfile\u001b[49m\u001b[43m,\u001b[49m\u001b[43m \u001b[49m\u001b[43m*\u001b[49m\u001b[43margs\u001b[49m\u001b[43m,\u001b[49m\u001b[43m \u001b[49m\u001b[43m*\u001b[49m\u001b[43m*\u001b[49m\u001b[43mkwargs\u001b[49m\u001b[43m)\u001b[49m\n",
      "\u001b[31mFileNotFoundError\u001b[39m: [Errno 2] No such file or directory: 'myfile2.txt'"
     ]
    }
   ],
   "source": [
    "file2 = open('myfile2.txt' , 'r')         #myfile2.txt is not existing, so read function will throw exception\n",
    "print(file2.read())\n",
    "file2.close()"
   ]
  },
  {
   "cell_type": "markdown",
   "id": "0b969937-d6a3-49b7-b6df-5b5b6f82196d",
   "metadata": {},
   "source": [
    "**Question 5: Error Handling and File Operations**\n",
    "\n",
    "**Write a Python program that:**\n",
    "\n",
    "    * Prompts the user to enter the name of a text file.\n",
    "    * Reads the file if it exists and displays its content.\n",
    "    * If the file doesn’t exist, handles the error gracefully and creates the file with a default message \"This is a new file.\"\n"
   ]
  },
  {
   "cell_type": "code",
   "execution_count": 238,
   "id": "9b1f4f86-7839-4f1a-90c1-948a866ae3cb",
   "metadata": {},
   "outputs": [
    {
     "name": "stdin",
     "output_type": "stream",
     "text": [
      "Enter file name to read file1.txt\n"
     ]
    },
    {
     "name": "stdout",
     "output_type": "stream",
     "text": [
      "this is a file created using python script\n",
      "File is already existing\n"
     ]
    }
   ],
   "source": [
    "filename = input(\"Enter file name to read\")\n",
    "\n",
    "try:                                               #First try to open and read a file\n",
    "    filetoread = open(filename , 'r')\n",
    "    print(filetoread.read())\n",
    "    \n",
    "except FileNotFoundError:                         #In case file is not existing except will handle the exception\n",
    "    filetoread = open(filename , 'w')\n",
    "    filetoread.write(\"This is a new file\")\n",
    "    print(\"file was not existing, so it is created\")\n",
    "    \n",
    "else:                                              #Else triggeres if there is no exception\n",
    "    print(\"File is already existing\")\n",
    "    \n",
    "finally:                                           #Finally triggers in all situation\n",
    "    filetoread.close()"
   ]
  },
  {
   "cell_type": "code",
   "execution_count": 239,
   "id": "e76ecce9-3155-4289-b78a-8b986bad1915",
   "metadata": {},
   "outputs": [
    {
     "name": "stdin",
     "output_type": "stream",
     "text": [
      "Enter file name to read aaaaa.txt\n"
     ]
    },
    {
     "name": "stdout",
     "output_type": "stream",
     "text": [
      "file was not existing, so it is created\n"
     ]
    }
   ],
   "source": [
    "filename = input(\"Enter file name to read\")\n",
    "\n",
    "try:                                               #First try to open and read a file\n",
    "    filetoread = open(filename , 'r')\n",
    "    print(filetoread.read())\n",
    "    \n",
    "except FileNotFoundError:                         #In case file is not existing except will handle the exception\n",
    "    filetoread = open(filename , 'w')\n",
    "    filetoread.write(\"This is a new file\")\n",
    "    print(\"file was not existing, so it is created\")\n",
    "    \n",
    "else:                                              #Else triggeres if there is no exception\n",
    "    print(\"File is already existing\")\n",
    "    \n",
    "finally:                                           #Finally triggers in all situation\n",
    "    filetoread.close()"
   ]
  },
  {
   "cell_type": "markdown",
   "id": "ae7fc57a-20ce-49d5-9f7b-36f342c91afb",
   "metadata": {},
   "source": [
    "**Mode 'a' for file handling**"
   ]
  },
  {
   "cell_type": "code",
   "execution_count": 5,
   "id": "03fd9d97-8e7b-4487-89f8-820500a263db",
   "metadata": {},
   "outputs": [],
   "source": [
    "file1 = open('myfile2.txt' , 'a')               #create and write or add new information into the excisting file\n",
    "file1.write(\"Using mode 'a' to write a file\")\n",
    "file1.close()"
   ]
  },
  {
   "cell_type": "code",
   "execution_count": 7,
   "id": "3517dfd4-7cd9-45ab-ac8c-f5905ce9dd0c",
   "metadata": {},
   "outputs": [],
   "source": [
    "file1 = open('myfile1.txt' , 'a')               #create and write or add new information into the excisting file\n",
    "file1.write(\"\\nThis is a new content added using 'a' mode\")\n",
    "file1.close()"
   ]
  },
  {
   "cell_type": "markdown",
   "id": "68008132-b0df-47a3-b026-3bf2fa02cefd",
   "metadata": {},
   "source": [
    "**Mode 'x' for file handling**"
   ]
  },
  {
   "cell_type": "code",
   "execution_count": 9,
   "id": "3909cec5-ef60-4159-bf64-15ce5843215d",
   "metadata": {},
   "outputs": [],
   "source": [
    "file1 = open('myfile3.txt' , 'x')            #create and add information only if file is not already existing    \n",
    "file1.write(\"Using mode 'x' to write a file\")\n",
    "file1.close()"
   ]
  },
  {
   "cell_type": "code",
   "execution_count": null,
   "id": "ff231852-6ff2-44fe-9ddd-0980908f41b7",
   "metadata": {},
   "outputs": [],
   "source": []
  }
 ],
 "metadata": {
  "kernelspec": {
   "display_name": "Python 3 (ipykernel)",
   "language": "python",
   "name": "python3"
  },
  "language_info": {
   "codemirror_mode": {
    "name": "ipython",
    "version": 3
   },
   "file_extension": ".py",
   "mimetype": "text/x-python",
   "name": "python",
   "nbconvert_exporter": "python",
   "pygments_lexer": "ipython3",
   "version": "3.11.9"
  }
 },
 "nbformat": 4,
 "nbformat_minor": 5
}
