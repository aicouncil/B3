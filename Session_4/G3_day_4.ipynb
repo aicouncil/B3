{
 "cells": [
  {
   "cell_type": "markdown",
   "id": "fc3bb706-6799-4db7-8b37-9b72c048adc8",
   "metadata": {},
   "source": [
    "**Object Oriented Programming (OOP)** is a programing process (a way of writing a code) based on concept of **object**\n",
    "\n",
    "    * Object contain data in the form of variable (called attributes)\n",
    "    * Object contains function in the form of methods (called behaviours)"
   ]
  },
  {
   "cell_type": "code",
   "execution_count": 2,
   "id": "e79fc7c6-a87b-499a-b0df-3da5dca22d1a",
   "metadata": {},
   "outputs": [
    {
     "data": {
      "text/plain": [
       "'Ajay'"
      ]
     },
     "execution_count": 2,
     "metadata": {},
     "output_type": "execute_result"
    }
   ],
   "source": [
    "name = \"Arun Singh\"\n",
    "\n",
    "def show_name():\n",
    "    name = \"Ajay\"\n",
    "    return name\n",
    "\n",
    "show_name()"
   ]
  },
  {
   "cell_type": "markdown",
   "id": "e27c2d77-9015-476d-a5a3-d8310080831a",
   "metadata": {},
   "source": [
    "* A class is like a blueprint for creating object"
   ]
  },
  {
   "cell_type": "code",
   "execution_count": 4,
   "id": "ac92865e-f2e3-41cd-833c-f7b2859d9db4",
   "metadata": {},
   "outputs": [],
   "source": [
    "class visitor:\n",
    "    name = \"John\"                   #attributes are the variable within the class"
   ]
  },
  {
   "cell_type": "markdown",
   "id": "7461c29c-a0e6-420a-9906-8575d9bab607",
   "metadata": {},
   "source": [
    "* Object is the instance of the class"
   ]
  },
  {
   "cell_type": "code",
   "execution_count": 6,
   "id": "3a90a523-c923-480d-8007-a0eed91b2945",
   "metadata": {},
   "outputs": [
    {
     "name": "stdout",
     "output_type": "stream",
     "text": [
      "John\n"
     ]
    }
   ],
   "source": [
    "v1 = visitor()                 #defining a object by calling a class\n",
    "print(v1.name)"
   ]
  },
  {
   "cell_type": "code",
   "execution_count": 9,
   "id": "041a1913-fbab-400d-8033-89a6f4d56957",
   "metadata": {},
   "outputs": [],
   "source": [
    "class employee:\n",
    "    def emp_details(self):                              #methods are function within the class, self refers to current object\n",
    "        return {\"name\" : \"Rajesh\" , \"age\" : 22}"
   ]
  },
  {
   "cell_type": "code",
   "execution_count": 10,
   "id": "f04380c2-9dd6-457b-80fe-861496d26303",
   "metadata": {},
   "outputs": [
    {
     "data": {
      "text/plain": [
       "{'name': 'Rajesh', 'age': 22}"
      ]
     },
     "execution_count": 10,
     "metadata": {},
     "output_type": "execute_result"
    }
   ],
   "source": [
    "e1 = employee()\n",
    "\n",
    "e1.emp_details()"
   ]
  },
  {
   "cell_type": "code",
   "execution_count": 12,
   "id": "3b859f3d-ffa8-4fd9-ad03-24b1ba7b55b5",
   "metadata": {},
   "outputs": [
    {
     "ename": "NameError",
     "evalue": "name 'emp_details' is not defined",
     "output_type": "error",
     "traceback": [
      "\u001b[31m---------------------------------------------------------------------------\u001b[39m",
      "\u001b[31mNameError\u001b[39m                                 Traceback (most recent call last)",
      "\u001b[36mCell\u001b[39m\u001b[36m \u001b[39m\u001b[32mIn[12]\u001b[39m\u001b[32m, line 1\u001b[39m\n\u001b[32m----> \u001b[39m\u001b[32m1\u001b[39m \u001b[43memp_details\u001b[49m()\n",
      "\u001b[31mNameError\u001b[39m: name 'emp_details' is not defined"
     ]
    }
   ],
   "source": [
    "emp_details()"
   ]
  },
  {
   "cell_type": "markdown",
   "id": "99e53631-1c01-4128-b7e2-1d2af5b2ac70",
   "metadata": {},
   "source": [
    "**Why use OOP**\n",
    "\n",
    "    * Helps organize and structure code better\n",
    "    * Promotes resusability through classes and inheritance\n",
    "    * Makes code more modular and maintainable\n",
    "    * Matches real-world thinking"
   ]
  },
  {
   "cell_type": "code",
   "execution_count": 45,
   "id": "a0c0ed42-204f-49e4-8e9f-db6aa76c03b2",
   "metadata": {},
   "outputs": [],
   "source": [
    "#Modify this class by adding one more function which can returns details for a given object\n",
    "#Modify this program by adding one more method which can add 'department' for a visitor\n",
    "\n",
    "class Visitors:\n",
    "    def visitor_details(self, name, age , city):\n",
    "        self.details = {\"Name\" : name , \"Age\" : age , \"City\" : city}\n",
    "\n",
    "    def add_department(self, dept):\n",
    "        self.details['department'] = dept\n",
    "\n",
    "    def show_visitor_details(self):\n",
    "        return self.details"
   ]
  },
  {
   "cell_type": "code",
   "execution_count": 46,
   "id": "d8524cc6-c033-49f9-b706-89e9357b74c9",
   "metadata": {},
   "outputs": [],
   "source": [
    "v1 = Visitors()\n",
    "v2 = Visitors()\n",
    "v3 = Visitors()"
   ]
  },
  {
   "cell_type": "code",
   "execution_count": 47,
   "id": "cd06ca03-481c-43e6-a24c-91877ed3b7fb",
   "metadata": {},
   "outputs": [],
   "source": [
    "v1.visitor_details(\"Raghav\" , 23 , \"Delhi\")"
   ]
  },
  {
   "cell_type": "code",
   "execution_count": 48,
   "id": "f1529b2b-174f-444a-a997-744d59441cf1",
   "metadata": {},
   "outputs": [],
   "source": [
    "v2.visitor_details(\"Suraj\" , 33 , \"Coiambatore\")"
   ]
  },
  {
   "cell_type": "code",
   "execution_count": 49,
   "id": "a47289b8-0f90-4ec1-889a-08a27f380c58",
   "metadata": {},
   "outputs": [],
   "source": [
    "v3.visitor_details(\"Rakhi\" , 37 , \"Indore\")"
   ]
  },
  {
   "cell_type": "code",
   "execution_count": 50,
   "id": "413d480f-ef2b-4943-811a-3c843c632726",
   "metadata": {},
   "outputs": [
    {
     "name": "stdout",
     "output_type": "stream",
     "text": [
      "{'Name': 'Raghav', 'Age': 23, 'City': 'Delhi'}\n"
     ]
    }
   ],
   "source": [
    "print(v1.show_visitor_details())"
   ]
  },
  {
   "cell_type": "code",
   "execution_count": 51,
   "id": "8714ddd2-672b-4efa-a656-401139ab3568",
   "metadata": {},
   "outputs": [
    {
     "name": "stdout",
     "output_type": "stream",
     "text": [
      "{'Name': 'Suraj', 'Age': 33, 'City': 'Coiambatore'}\n"
     ]
    }
   ],
   "source": [
    "print(v2.show_visitor_details())"
   ]
  },
  {
   "cell_type": "code",
   "execution_count": 52,
   "id": "49f65389-55e5-4b8d-ad33-fb4855fa982a",
   "metadata": {},
   "outputs": [
    {
     "name": "stdout",
     "output_type": "stream",
     "text": [
      "{'Name': 'Rakhi', 'Age': 37, 'City': 'Indore'}\n"
     ]
    }
   ],
   "source": [
    "print(v3.show_visitor_details())"
   ]
  },
  {
   "cell_type": "code",
   "execution_count": 53,
   "id": "c36c7d1b-6eb5-4f2b-9dbd-b63ee67efc57",
   "metadata": {},
   "outputs": [],
   "source": [
    "v1.add_department(\"Training & Development\")\n",
    "v2.add_department(\"IT\")\n",
    "v3.add_department(\"Sales\")"
   ]
  },
  {
   "cell_type": "code",
   "execution_count": 54,
   "id": "6ed1cbdb-bd58-4f4a-8e3f-7a7c821ce670",
   "metadata": {},
   "outputs": [
    {
     "data": {
      "text/plain": [
       "{'Name': 'Raghav',\n",
       " 'Age': 23,\n",
       " 'City': 'Delhi',\n",
       " 'department': 'Training & Development'}"
      ]
     },
     "execution_count": 54,
     "metadata": {},
     "output_type": "execute_result"
    }
   ],
   "source": [
    "v1.show_visitor_details()"
   ]
  },
  {
   "cell_type": "code",
   "execution_count": 55,
   "id": "19fde9f3-d6a9-4b50-a406-b96aef4f5741",
   "metadata": {},
   "outputs": [
    {
     "data": {
      "text/plain": [
       "{'Name': 'Suraj', 'Age': 33, 'City': 'Coiambatore', 'department': 'IT'}"
      ]
     },
     "execution_count": 55,
     "metadata": {},
     "output_type": "execute_result"
    }
   ],
   "source": [
    "v2.show_visitor_details()"
   ]
  },
  {
   "cell_type": "code",
   "execution_count": 56,
   "id": "0fca7084-39c8-460f-bb34-59f5021040d5",
   "metadata": {},
   "outputs": [
    {
     "data": {
      "text/plain": [
       "{'Name': 'Rakhi', 'Age': 37, 'City': 'Indore', 'department': 'Sales'}"
      ]
     },
     "execution_count": 56,
     "metadata": {},
     "output_type": "execute_result"
    }
   ],
   "source": [
    "v3.show_visitor_details()"
   ]
  },
  {
   "cell_type": "code",
   "execution_count": null,
   "id": "06d24837-8524-48f4-8981-40df26c6552d",
   "metadata": {},
   "outputs": [],
   "source": []
  }
 ],
 "metadata": {
  "kernelspec": {
   "display_name": "Python 3 (ipykernel)",
   "language": "python",
   "name": "python3"
  },
  "language_info": {
   "codemirror_mode": {
    "name": "ipython",
    "version": 3
   },
   "file_extension": ".py",
   "mimetype": "text/x-python",
   "name": "python",
   "nbconvert_exporter": "python",
   "pygments_lexer": "ipython3",
   "version": "3.11.9"
  }
 },
 "nbformat": 4,
 "nbformat_minor": 5
}
