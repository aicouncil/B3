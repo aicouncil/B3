{
 "cells": [
  {
   "cell_type": "markdown",
   "id": "1260c363-4211-40e4-8c58-463d6110ab52",
   "metadata": {},
   "source": [
    "**Variable and values**"
   ]
  },
  {
   "cell_type": "code",
   "execution_count": 4,
   "id": "7f472096-9727-4987-8721-407aad412a8a",
   "metadata": {},
   "outputs": [],
   "source": [
    "name = \"Bipul\"\n",
    "age = 35\n",
    "city = 'Delhi'"
   ]
  },
  {
   "cell_type": "code",
   "execution_count": 5,
   "id": "9c96514b-85b7-463a-826e-e31739bf37bc",
   "metadata": {},
   "outputs": [
    {
     "name": "stdout",
     "output_type": "stream",
     "text": [
      "Bipul 35 Delhi\n"
     ]
    }
   ],
   "source": [
    "print(name , age , city)"
   ]
  },
  {
   "cell_type": "code",
   "execution_count": 11,
   "id": "81ebd9af-5841-4010-8202-c6580a0875cd",
   "metadata": {},
   "outputs": [
    {
     "name": "stdout",
     "output_type": "stream",
     "text": [
      "My name is Bipul and age is 35 and city is Delhi\n"
     ]
    }
   ],
   "source": [
    "print(\"My name is\", name , \"and age is\" , age , \"and city is\", city)"
   ]
  },
  {
   "cell_type": "code",
   "execution_count": 12,
   "id": "1412ff75-91e7-495e-b09b-1bd20ade7f94",
   "metadata": {},
   "outputs": [
    {
     "name": "stdout",
     "output_type": "stream",
     "text": [
      "21\n",
      "34\n",
      "2\n"
     ]
    }
   ],
   "source": [
    "x,y,z = 21, 34, 2\n",
    "print(x)\n",
    "print(y)\n",
    "print(z)"
   ]
  },
  {
   "cell_type": "code",
   "execution_count": 13,
   "id": "920eb4a5-5bd2-4519-a74f-3bb59616174f",
   "metadata": {},
   "outputs": [
    {
     "name": "stdout",
     "output_type": "stream",
     "text": [
      "7\n",
      "7\n",
      "7\n"
     ]
    }
   ],
   "source": [
    "a = b = c = 7\n",
    "print(a)\n",
    "print(b)\n",
    "print(c)"
   ]
  },
  {
   "cell_type": "markdown",
   "id": "588c72cc-f27b-4d15-85f5-0b6950321f6d",
   "metadata": {},
   "source": [
    "**Data Types & Data Sctructure**"
   ]
  },
  {
   "cell_type": "code",
   "execution_count": 14,
   "id": "19cc647f-620d-4adb-b8c8-df97f5ec6379",
   "metadata": {},
   "outputs": [],
   "source": [
    "emp_name = \"Ajit\"\n",
    "emp_age = 23\n",
    "emp_salary = 23000.76"
   ]
  },
  {
   "cell_type": "code",
   "execution_count": 16,
   "id": "88d3e620-9d88-4d0c-b0eb-355c6175e3b7",
   "metadata": {},
   "outputs": [
    {
     "name": "stdout",
     "output_type": "stream",
     "text": [
      "Ajit <class 'str'>\n"
     ]
    }
   ],
   "source": [
    "print(emp_name , type(emp_name))"
   ]
  },
  {
   "cell_type": "code",
   "execution_count": 17,
   "id": "414795db-686c-4f6e-afdc-2867f5780313",
   "metadata": {},
   "outputs": [
    {
     "name": "stdout",
     "output_type": "stream",
     "text": [
      "23 <class 'int'>\n"
     ]
    }
   ],
   "source": [
    "print(emp_age , type(emp_age))"
   ]
  },
  {
   "cell_type": "code",
   "execution_count": 18,
   "id": "38dadb9e-92a0-47c5-84d1-10de9dc268ad",
   "metadata": {},
   "outputs": [
    {
     "name": "stdout",
     "output_type": "stream",
     "text": [
      "23000.76 <class 'float'>\n"
     ]
    }
   ],
   "source": [
    "print(emp_salary , type(emp_salary))"
   ]
  },
  {
   "cell_type": "code",
   "execution_count": 45,
   "id": "4950317b-abf5-4658-89e3-d2cd321c409c",
   "metadata": {},
   "outputs": [
    {
     "name": "stdout",
     "output_type": "stream",
     "text": [
      "14\n"
     ]
    }
   ],
   "source": [
    "a = 7\n",
    "print(a * 2)"
   ]
  },
  {
   "cell_type": "markdown",
   "id": "ff1c5df2-4cb8-492d-8218-b1237d1089a0",
   "metadata": {},
   "source": [
    "**String** \n",
    "\n",
    "    - Sequential data type\n",
    "    - Immutable"
   ]
  },
  {
   "cell_type": "code",
   "execution_count": 22,
   "id": "3c44f419-1c0f-47cc-ad7c-844cfbd4cdd0",
   "metadata": {},
   "outputs": [],
   "source": [
    "review = \"It was nice movie\""
   ]
  },
  {
   "cell_type": "code",
   "execution_count": 23,
   "id": "464d985b-64a3-43d2-a7e3-a3ac994f1497",
   "metadata": {},
   "outputs": [
    {
     "name": "stdout",
     "output_type": "stream",
     "text": [
      "It was nice movie\n"
     ]
    }
   ],
   "source": [
    "print(review)"
   ]
  },
  {
   "cell_type": "code",
   "execution_count": 47,
   "id": "1c6f39da-1d02-44e9-a358-67abd5b75d79",
   "metadata": {},
   "outputs": [
    {
     "name": "stdout",
     "output_type": "stream",
     "text": [
      "I\n",
      "t\n",
      " \n",
      "w\n",
      "a\n",
      "s\n"
     ]
    }
   ],
   "source": [
    "print(review[0])\n",
    "print(review[1])\n",
    "print(review[2])\n",
    "print(review[3])\n",
    "print(review[4])\n",
    "print(review[5])"
   ]
  },
  {
   "cell_type": "code",
   "execution_count": 48,
   "id": "73a35795-7d46-4401-88fd-57f6f221884b",
   "metadata": {},
   "outputs": [
    {
     "name": "stdout",
     "output_type": "stream",
     "text": [
      "It was nice movie\n"
     ]
    }
   ],
   "source": [
    "print(review)"
   ]
  },
  {
   "cell_type": "code",
   "execution_count": 26,
   "id": "a8a94ad2-37c4-41e2-965b-c4cabe6e1deb",
   "metadata": {},
   "outputs": [
    {
     "ename": "TypeError",
     "evalue": "'str' object does not support item assignment",
     "output_type": "error",
     "traceback": [
      "\u001b[31m---------------------------------------------------------------------------\u001b[39m",
      "\u001b[31mTypeError\u001b[39m                                 Traceback (most recent call last)",
      "\u001b[36mCell\u001b[39m\u001b[36m \u001b[39m\u001b[32mIn[26]\u001b[39m\u001b[32m, line 1\u001b[39m\n\u001b[32m----> \u001b[39m\u001b[32m1\u001b[39m \u001b[43mreview\u001b[49m\u001b[43m[\u001b[49m\u001b[32;43m0\u001b[39;49m\u001b[43m]\u001b[49m = \u001b[33m'\u001b[39m\u001b[33mK\u001b[39m\u001b[33m'\u001b[39m\n",
      "\u001b[31mTypeError\u001b[39m: 'str' object does not support item assignment"
     ]
    }
   ],
   "source": [
    "review[0] = 'K'"
   ]
  },
  {
   "cell_type": "code",
   "execution_count": 27,
   "id": "9a844767-7f9e-4e9d-827b-19a41eb21422",
   "metadata": {},
   "outputs": [
    {
     "name": "stdout",
     "output_type": "stream",
     "text": [
      "17\n"
     ]
    }
   ],
   "source": [
    "print(len(review))            #return the length of a given string"
   ]
  },
  {
   "cell_type": "code",
   "execution_count": 49,
   "id": "1fbd12e6-787e-48fb-98e5-9f4455c750c3",
   "metadata": {},
   "outputs": [
    {
     "name": "stdout",
     "output_type": "stream",
     "text": [
      "It was nice movie\n"
     ]
    }
   ],
   "source": [
    "print(review)"
   ]
  },
  {
   "cell_type": "code",
   "execution_count": 29,
   "id": "e93fc626-c928-431a-9250-1be157414730",
   "metadata": {},
   "outputs": [
    {
     "name": "stdout",
     "output_type": "stream",
     "text": [
      "IT WAS NICE MOVIE\n",
      "it was nice movie\n"
     ]
    }
   ],
   "source": [
    "#String operations\n",
    "print(review.upper())                #convert all characters into upper case\n",
    "print(review.lower())                #convert all characters into lower case"
   ]
  },
  {
   "cell_type": "code",
   "execution_count": 30,
   "id": "b30ae0a7-361a-4dc3-9f21-7a2dfa19c761",
   "metadata": {},
   "outputs": [
    {
     "name": "stdout",
     "output_type": "stream",
     "text": [
      "   Pavan    \n"
     ]
    }
   ],
   "source": [
    "name = \"   Pavan    \"\n",
    "print(name)"
   ]
  },
  {
   "cell_type": "code",
   "execution_count": 32,
   "id": "8c80fe07-f5ec-44ad-bc27-4bba0e1d5324",
   "metadata": {},
   "outputs": [
    {
     "name": "stdout",
     "output_type": "stream",
     "text": [
      "Pavan\n",
      "Pavan    \n",
      "   Pavan\n"
     ]
    }
   ],
   "source": [
    "print(name.strip())              #remove spaces from the given string\n",
    "print(name.lstrip())             #remove spaces from the given string from left side\n",
    "print(name.rstrip())             #remove spaces from the given string from right side"
   ]
  },
  {
   "cell_type": "code",
   "execution_count": 50,
   "id": "f381f583-b5d8-4e24-9447-3aca65a2333c",
   "metadata": {},
   "outputs": [
    {
     "name": "stdout",
     "output_type": "stream",
     "text": [
      "It was nice movie\n"
     ]
    }
   ],
   "source": [
    "#Slicing\n",
    "print(review)"
   ]
  },
  {
   "cell_type": "code",
   "execution_count": 53,
   "id": "f6d6a9c7-27e3-4f5b-8486-7f29b252bc3d",
   "metadata": {},
   "outputs": [
    {
     "name": "stdout",
     "output_type": "stream",
     "text": [
      "It was\n"
     ]
    }
   ],
   "source": [
    "print(review[0:6])"
   ]
  },
  {
   "cell_type": "code",
   "execution_count": 37,
   "id": "e4febf46-303c-49f9-b221-fdc2b9fa8885",
   "metadata": {},
   "outputs": [
    {
     "name": "stdout",
     "output_type": "stream",
     "text": [
      "nice\n"
     ]
    }
   ],
   "source": [
    "print(review[7:7+4])"
   ]
  },
  {
   "cell_type": "code",
   "execution_count": 38,
   "id": "7ea90098-ca76-493e-a805-0f298d500fd0",
   "metadata": {},
   "outputs": [
    {
     "name": "stdout",
     "output_type": "stream",
     "text": [
      "It was nice movie\n"
     ]
    }
   ],
   "source": [
    "print(review)"
   ]
  },
  {
   "cell_type": "code",
   "execution_count": 40,
   "id": "bbc9eb74-4528-403b-bc0b-ef3fb967a9d9",
   "metadata": {},
   "outputs": [
    {
     "name": "stdout",
     "output_type": "stream",
     "text": [
      "['It', 'was', 'nice', 'movie']\n"
     ]
    }
   ],
   "source": [
    "print(review.split(\" \"))              #Split the text using space"
   ]
  },
  {
   "cell_type": "code",
   "execution_count": 42,
   "id": "bc7895f6-5f0f-49d3-9fd6-11fd4f2fa6a3",
   "metadata": {},
   "outputs": [
    {
     "name": "stdout",
     "output_type": "stream",
     "text": [
      "It\n",
      "was\n"
     ]
    }
   ],
   "source": [
    "print(review.split(\" \")[0])\n",
    "print(review.split(\" \")[1])"
   ]
  },
  {
   "cell_type": "code",
   "execution_count": 44,
   "id": "76b518db-b47f-406d-be24-ff5c2d0480a3",
   "metadata": {},
   "outputs": [
    {
     "name": "stdout",
     "output_type": "stream",
     "text": [
      "['Hello', ' How are you?']\n"
     ]
    }
   ],
   "source": [
    "text = \"Hello, How are you?\"\n",
    "print(text.split(\",\"))                #Split the text using comma"
   ]
  },
  {
   "cell_type": "code",
   "execution_count": 54,
   "id": "e5b2dfeb-1142-4534-9c70-d0e23495f0aa",
   "metadata": {},
   "outputs": [
    {
     "name": "stdout",
     "output_type": "stream",
     "text": [
      "Hello World\n"
     ]
    }
   ],
   "source": [
    "text = \" Hello World\"\n",
    "print(text.strip())"
   ]
  },
  {
   "cell_type": "code",
   "execution_count": 62,
   "id": "628f8452-4b03-404b-ba65-3ab9f477f685",
   "metadata": {},
   "outputs": [
    {
     "data": {
      "text/plain": [
       "'NiceMovie'"
      ]
     },
     "execution_count": 62,
     "metadata": {},
     "output_type": "execute_result"
    }
   ],
   "source": [
    "text_list = [\"Nice\" , \"Movie\"]\n",
    "''.join(text_list)"
   ]
  },
  {
   "cell_type": "code",
   "execution_count": 60,
   "id": "3a76cfbd-992e-474d-afc2-c88c6c9a9723",
   "metadata": {},
   "outputs": [
    {
     "data": {
      "text/plain": [
       "['Ananya', 'Thakur']"
      ]
     },
     "execution_count": 60,
     "metadata": {},
     "output_type": "execute_result"
    }
   ],
   "source": [
    "name = \"Ananya Thakur\"\n",
    "name.split(\" \")        #Split to get each word seperated in a list"
   ]
  },
  {
   "cell_type": "code",
   "execution_count": 61,
   "id": "c8fb3314-dc53-4c4b-a16f-33076aefbaa5",
   "metadata": {},
   "outputs": [
    {
     "data": {
      "text/plain": [
       "'AnanyaThakur'"
      ]
     },
     "execution_count": 61,
     "metadata": {},
     "output_type": "execute_result"
    }
   ],
   "source": [
    "''.join(name.split(\" \"))        #join them without space"
   ]
  },
  {
   "cell_type": "code",
   "execution_count": 63,
   "id": "38154e49-11de-4e18-b3e3-5a6b71c3faff",
   "metadata": {},
   "outputs": [
    {
     "name": "stdout",
     "output_type": "stream",
     "text": [
      "['It', 'was', '', '', 'nice', '', '', '', '', '', '', 'movie']\n"
     ]
    }
   ],
   "source": [
    "review = \"It was   nice       movie\"\n",
    "print(review.split(' '))"
   ]
  },
  {
   "cell_type": "code",
   "execution_count": 68,
   "id": "5383847e-031e-4cc6-afec-cb8253b32e16",
   "metadata": {},
   "outputs": [
    {
     "name": "stdout",
     "output_type": "stream",
     "text": [
      "It was nice movie\n"
     ]
    }
   ],
   "source": [
    "review = \"It was   nice       movie\"\n",
    "updated_review = review.replace('  ','')\n",
    "print(updated_review)"
   ]
  },
  {
   "cell_type": "code",
   "execution_count": 70,
   "id": "32cda396-3d5f-493c-9daf-827f2f4dcc2f",
   "metadata": {},
   "outputs": [
    {
     "name": "stdout",
     "output_type": "stream",
     "text": [
      "['It', 'was', 'nice', 'movie']\n"
     ]
    }
   ],
   "source": [
    "print(updated_review.split(' '))"
   ]
  },
  {
   "cell_type": "code",
   "execution_count": 73,
   "id": "cbf1fe31-3671-4375-99c5-6721a7482ef0",
   "metadata": {},
   "outputs": [
    {
     "name": "stdout",
     "output_type": "stream",
     "text": [
      "It was bad movie\n"
     ]
    }
   ],
   "source": [
    "review = \"It was nice movie\"\n",
    "print(review.replace('nice' ,'bad'))"
   ]
  },
  {
   "cell_type": "code",
   "execution_count": 74,
   "id": "f177b3eb-85f4-43d3-9ba8-e80179a5f232",
   "metadata": {},
   "outputs": [
    {
     "name": "stdout",
     "output_type": "stream",
     "text": [
      "It was nkce movke\n"
     ]
    }
   ],
   "source": [
    "review = \"It was nice movie\"\n",
    "print(review.replace('i' ,'k'))"
   ]
  },
  {
   "cell_type": "code",
   "execution_count": 106,
   "id": "031b2b21-71ba-4190-a740-5432e1295aed",
   "metadata": {},
   "outputs": [
    {
     "name": "stdout",
     "output_type": "stream",
     "text": [
      "It is nice movie\n",
      "It was bad movie\n"
     ]
    }
   ],
   "source": [
    "review = \"It was nice movie\"\n",
    "print(review.replace('was' ,'is'))\n",
    "print(review.replace('nice' ,'bad'))"
   ]
  },
  {
   "cell_type": "markdown",
   "id": "00eec3ff-3dee-4e30-bf95-2d8a922a0b11",
   "metadata": {},
   "source": [
    "**List**\n",
    "\n",
    "    * Sequential (inbuilt) data structure\n",
    "    * Mutable"
   ]
  },
  {
   "cell_type": "code",
   "execution_count": 75,
   "id": "37676d93-cd91-4b33-a09e-13e81bff0d7e",
   "metadata": {},
   "outputs": [
    {
     "name": "stdout",
     "output_type": "stream",
     "text": [
      "['Delhi', 'Jaipur', 'Mysore', 'Banglore', 'Pune']\n"
     ]
    }
   ],
   "source": [
    "cities = [\"Delhi\" , \"Jaipur\" , \"Mysore\" , \"Banglore\" , \"Pune\"]\n",
    "print(cities)"
   ]
  },
  {
   "cell_type": "code",
   "execution_count": 77,
   "id": "cc737650-2021-4a98-a984-c15aba210309",
   "metadata": {},
   "outputs": [
    {
     "name": "stdout",
     "output_type": "stream",
     "text": [
      "Delhi\n",
      "Jaipur\n",
      "Mysore\n",
      "Banglore\n",
      "Pune\n"
     ]
    }
   ],
   "source": [
    "print(cities[0])\n",
    "print(cities[1])\n",
    "print(cities[2])\n",
    "print(cities[3])\n",
    "print(cities[4])"
   ]
  },
  {
   "cell_type": "code",
   "execution_count": 79,
   "id": "786aeb02-cea3-46d8-802d-74c2e700233e",
   "metadata": {},
   "outputs": [
    {
     "name": "stdout",
     "output_type": "stream",
     "text": [
      "['Delhi', 'Indore', 'Mysore', 'Banglore', 'Pune']\n"
     ]
    }
   ],
   "source": [
    "cities[1] = \"Indore\"\n",
    "print(cities)"
   ]
  },
  {
   "cell_type": "code",
   "execution_count": 80,
   "id": "bbbb3571-78fa-4133-8824-3fd8f0d93b16",
   "metadata": {},
   "outputs": [
    {
     "name": "stdout",
     "output_type": "stream",
     "text": [
      "5\n"
     ]
    }
   ],
   "source": [
    "print(len(cities))"
   ]
  },
  {
   "cell_type": "code",
   "execution_count": 83,
   "id": "e5f0e65f-821e-4005-92cd-8a1bf8677941",
   "metadata": {},
   "outputs": [
    {
     "name": "stdout",
     "output_type": "stream",
     "text": [
      "['Delhi', 'Indore', 'Mysore']\n"
     ]
    }
   ],
   "source": [
    "#slicing\n",
    "print(cities[0:3])"
   ]
  },
  {
   "cell_type": "code",
   "execution_count": 87,
   "id": "f32a5cd0-c044-417d-adee-5962e9fc958c",
   "metadata": {},
   "outputs": [
    {
     "name": "stdout",
     "output_type": "stream",
     "text": [
      "['Indore', 'Mysore', 'Banglore']\n"
     ]
    }
   ],
   "source": [
    "print(cities[1:1+3])               #list_variable[initial_index : intial_index + number of steps]"
   ]
  },
  {
   "cell_type": "markdown",
   "id": "44ce4978-8ffe-4d2d-b45c-6d28727d0aa8",
   "metadata": {},
   "source": [
    "**Operations of list**\n",
    "\n",
    "    * append()\n",
    "    * remove()\n",
    "    * insert()\n",
    "    * pop()\n",
    "    * index()"
   ]
  },
  {
   "cell_type": "code",
   "execution_count": 139,
   "id": "bac8918e-53e0-4c92-abc4-0c9db00e6b21",
   "metadata": {},
   "outputs": [
    {
     "name": "stdout",
     "output_type": "stream",
     "text": [
      "['Delhi', 'Jaipur', 'Mysore', 'Banglore', 'Pune', 'Mysore']\n"
     ]
    }
   ],
   "source": [
    "cities = [\"Delhi\" , \"Jaipur\" , \"Mysore\" , \"Banglore\" , \"Pune\" , \"Mysore\"]\n",
    "print(cities)"
   ]
  },
  {
   "cell_type": "code",
   "execution_count": 100,
   "id": "2c5113be-da30-41a2-afee-fdb0b728412d",
   "metadata": {},
   "outputs": [
    {
     "name": "stdout",
     "output_type": "stream",
     "text": [
      "['Delhi', 'Jaipur', 'Mysore', 'Banglore', 'Pune']\n",
      "['Delhi', 'Jaipur', 'Mysore', 'Banglore', 'Pune', 'Hyderabad']\n"
     ]
    }
   ],
   "source": [
    "print(cities)\n",
    "cities.append(\"Hyderabad\")\n",
    "print(cities)"
   ]
  },
  {
   "cell_type": "code",
   "execution_count": 101,
   "id": "179f61a3-fac3-43e7-b2d4-08175bbbe7b8",
   "metadata": {},
   "outputs": [
    {
     "name": "stdout",
     "output_type": "stream",
     "text": [
      "['Delhi', 'Jaipur', 'Mysore', 'Banglore', 'Pune', 'Hyderabad']\n",
      "['Delhi', 'Jaipur', 'Banglore', 'Pune', 'Hyderabad']\n"
     ]
    }
   ],
   "source": [
    "print(cities)\n",
    "cities.remove('Mysore')\n",
    "print(cities)"
   ]
  },
  {
   "cell_type": "code",
   "execution_count": 102,
   "id": "a7aa3dfd-9ffb-4eec-8747-a810bfb6686c",
   "metadata": {},
   "outputs": [
    {
     "name": "stdout",
     "output_type": "stream",
     "text": [
      "['Delhi', 'Jaipur', 'Banglore', 'Pune', 'Hyderabad']\n",
      "['Delhi', 'Jaipur', 'Lucknow', 'Banglore', 'Pune', 'Hyderabad']\n"
     ]
    }
   ],
   "source": [
    "print(cities)\n",
    "cities.insert(2,'Lucknow')\n",
    "print(cities)"
   ]
  },
  {
   "cell_type": "code",
   "execution_count": 103,
   "id": "f72853ce-a9a5-48d4-aba2-ce07ce9bd477",
   "metadata": {},
   "outputs": [
    {
     "name": "stdout",
     "output_type": "stream",
     "text": [
      "['Delhi', 'Jaipur', 'Lucknow', 'Banglore', 'Pune', 'Hyderabad']\n",
      "['Delhi', 'Jaipur', 'Lucknow', 'Pune', 'Hyderabad']\n"
     ]
    }
   ],
   "source": [
    "print(cities)\n",
    "cities.pop(3)\n",
    "print(cities)"
   ]
  },
  {
   "cell_type": "code",
   "execution_count": 104,
   "id": "8ceb5c27-0631-43ee-8212-bf0787d209db",
   "metadata": {},
   "outputs": [
    {
     "name": "stdout",
     "output_type": "stream",
     "text": [
      "3\n"
     ]
    }
   ],
   "source": [
    "print(cities.index('Pune'))"
   ]
  },
  {
   "cell_type": "code",
   "execution_count": 105,
   "id": "f60f3357-26a0-4185-9873-a91c866d35e8",
   "metadata": {},
   "outputs": [
    {
     "name": "stdout",
     "output_type": "stream",
     "text": [
      "['Ajit', 34, 45000.65]\n"
     ]
    }
   ],
   "source": [
    "#List is hetrogeneous\n",
    "\n",
    "mylist = [\"Ajit\" , 34 , 45000.65]\n",
    "print(mylist)"
   ]
  },
  {
   "cell_type": "markdown",
   "id": "2d978213-36c7-40fb-b245-a91d7408f77c",
   "metadata": {},
   "source": [
    "**Tuple**\n",
    "\n",
    "    * Sequential (inbuilt) data structure\n",
    "    * immutable"
   ]
  },
  {
   "cell_type": "code",
   "execution_count": 140,
   "id": "903d34df-41c8-4e77-b27f-971d5c450232",
   "metadata": {},
   "outputs": [
    {
     "name": "stdout",
     "output_type": "stream",
     "text": [
      "('Amit', 'Pranav', 'Mahi', 'Raghu', 'Sameer', 'Mahi')\n",
      "<class 'tuple'>\n"
     ]
    }
   ],
   "source": [
    "emp_name = (\"Amit\" , \"Pranav\" , \"Mahi\" , \"Raghu\" , \"Sameer\" , \"Mahi\")\n",
    "print(emp_name)\n",
    "print(type(emp_name))"
   ]
  },
  {
   "cell_type": "code",
   "execution_count": 110,
   "id": "bc80b67f-ec87-43e8-bb80-b4d70e88d4af",
   "metadata": {},
   "outputs": [
    {
     "name": "stdout",
     "output_type": "stream",
     "text": [
      "Amit\n",
      "Pranav\n",
      "Mahi\n",
      "Raghu\n",
      "Sameer\n"
     ]
    }
   ],
   "source": [
    "print(emp_name[0])\n",
    "print(emp_name[1])\n",
    "print(emp_name[2])\n",
    "print(emp_name[3])\n",
    "print(emp_name[4])"
   ]
  },
  {
   "cell_type": "code",
   "execution_count": 111,
   "id": "15cf47d3-3b90-43be-a561-4896bf65f022",
   "metadata": {},
   "outputs": [
    {
     "ename": "TypeError",
     "evalue": "'tuple' object does not support item assignment",
     "output_type": "error",
     "traceback": [
      "\u001b[31m---------------------------------------------------------------------------\u001b[39m",
      "\u001b[31mTypeError\u001b[39m                                 Traceback (most recent call last)",
      "\u001b[36mCell\u001b[39m\u001b[36m \u001b[39m\u001b[32mIn[111]\u001b[39m\u001b[32m, line 1\u001b[39m\n\u001b[32m----> \u001b[39m\u001b[32m1\u001b[39m \u001b[43memp_name\u001b[49m\u001b[43m[\u001b[49m\u001b[32;43m2\u001b[39;49m\u001b[43m]\u001b[49m = \u001b[33m\"\u001b[39m\u001b[33mRadha\u001b[39m\u001b[33m\"\u001b[39m\n",
      "\u001b[31mTypeError\u001b[39m: 'tuple' object does not support item assignment"
     ]
    }
   ],
   "source": [
    "emp_name[2] = \"Radha\""
   ]
  },
  {
   "cell_type": "code",
   "execution_count": 112,
   "id": "dbd0d38d-8a28-43ec-a512-88a3aaeea035",
   "metadata": {},
   "outputs": [
    {
     "name": "stdout",
     "output_type": "stream",
     "text": [
      "5\n"
     ]
    }
   ],
   "source": [
    "print(len(emp_name))"
   ]
  },
  {
   "cell_type": "code",
   "execution_count": 113,
   "id": "153668d9-7cc9-439e-a72b-a0b6199df1ca",
   "metadata": {},
   "outputs": [
    {
     "name": "stdout",
     "output_type": "stream",
     "text": [
      "2\n"
     ]
    }
   ],
   "source": [
    "print(emp_name.index('Mahi'))"
   ]
  },
  {
   "cell_type": "code",
   "execution_count": 116,
   "id": "099e86a3-bbd4-428b-a6a4-b1b641bd8660",
   "metadata": {},
   "outputs": [
    {
     "data": {
      "text/plain": [
       "('Amit', 'Pranav', 'Mahi')"
      ]
     },
     "execution_count": 116,
     "metadata": {},
     "output_type": "execute_result"
    }
   ],
   "source": [
    "emp_name[0:3]"
   ]
  },
  {
   "cell_type": "code",
   "execution_count": 117,
   "id": "acd7cb9c-8d59-4c1b-9da1-3bb80db0420f",
   "metadata": {},
   "outputs": [
    {
     "name": "stdout",
     "output_type": "stream",
     "text": [
      "('Amit', 'Pranav', 'Mahi', 'Raghu', 'Sameer')\n"
     ]
    }
   ],
   "source": [
    "#Convert tuple into list => typecasting\n",
    "\n",
    "print(emp_name)"
   ]
  },
  {
   "cell_type": "code",
   "execution_count": 118,
   "id": "7b877bfe-537a-4c63-be98-38784f6462c8",
   "metadata": {},
   "outputs": [
    {
     "name": "stdout",
     "output_type": "stream",
     "text": [
      "['Amit', 'Pranav', 'Mahi', 'Raghu', 'Sameer']\n"
     ]
    }
   ],
   "source": [
    "print(list(emp_name))"
   ]
  },
  {
   "cell_type": "markdown",
   "id": "584d36a7-93ad-492e-bc48-30b992cc856c",
   "metadata": {},
   "source": [
    "**Dictionary**\n",
    "\n",
    "    * Key - value pair"
   ]
  },
  {
   "cell_type": "code",
   "execution_count": 142,
   "id": "d42d12d8-6b2e-4d78-a472-927ce074dfb2",
   "metadata": {},
   "outputs": [
    {
     "name": "stdout",
     "output_type": "stream",
     "text": [
      "{'name': 'Raghu', 'marks': 56, 'subject': 'Maths'}\n",
      "<class 'dict'>\n"
     ]
    }
   ],
   "source": [
    "student_detail = {\"name\" : \"Raghu\",\n",
    "                 \"marks\" : 56,\n",
    "                 \"subject\" : \"Maths\",}\n",
    "\n",
    "print(student_detail)\n",
    "print(type(student_detail))"
   ]
  },
  {
   "cell_type": "code",
   "execution_count": 125,
   "id": "f6ace531-6639-4c2b-8d01-e5a7be890bf2",
   "metadata": {},
   "outputs": [
    {
     "name": "stdout",
     "output_type": "stream",
     "text": [
      "dict_keys(['name', 'marks', 'subject'])\n",
      "\n",
      "dict_values(['Raghu', 56, 'Maths'])\n"
     ]
    }
   ],
   "source": [
    "print(student_detail.keys())\n",
    "print()\n",
    "print(student_detail.values())"
   ]
  },
  {
   "cell_type": "code",
   "execution_count": 126,
   "id": "a10e8a12-bd03-4bc1-930c-4ccca333c52d",
   "metadata": {},
   "outputs": [
    {
     "name": "stdout",
     "output_type": "stream",
     "text": [
      "Raghu\n",
      "56\n",
      "Maths\n"
     ]
    }
   ],
   "source": [
    "print(student_detail['name'])\n",
    "print(student_detail['marks'])\n",
    "print(student_detail['subject'])"
   ]
  },
  {
   "cell_type": "code",
   "execution_count": 127,
   "id": "460484ef-c8de-4c1f-a984-c69a808eb3d3",
   "metadata": {},
   "outputs": [
    {
     "name": "stdout",
     "output_type": "stream",
     "text": [
      "{'name': 'Ajay', 'marks': 56, 'subject': 'Maths'}\n"
     ]
    }
   ],
   "source": [
    "#Change name to \"Ajay\"\n",
    "student_detail['name'] = \"Ajay\"\n",
    "print(student_detail)"
   ]
  },
  {
   "cell_type": "code",
   "execution_count": 128,
   "id": "55e3b934-d78a-4af9-8808-51456c970c35",
   "metadata": {},
   "outputs": [
    {
     "name": "stdout",
     "output_type": "stream",
     "text": [
      "{'name': 'Ajay', 'marks': 56, 'subject': 'Maths', 'Branch': 'Electronics'}\n"
     ]
    }
   ],
   "source": [
    "#Branch\n",
    "student_detail['Branch'] = 'Electronics'\n",
    "print(student_detail)"
   ]
  },
  {
   "cell_type": "code",
   "execution_count": 129,
   "id": "390bf3d8-b956-4557-ae19-eb69f9d22ae4",
   "metadata": {},
   "outputs": [
    {
     "name": "stdout",
     "output_type": "stream",
     "text": [
      "{'name': 'Ajay', 'marks': 56, 'subject': 'Maths', 'Branch': 'Electronics', 'abc': 123}\n"
     ]
    }
   ],
   "source": [
    "student_detail['abc'] = 123\n",
    "print(student_detail)"
   ]
  },
  {
   "cell_type": "code",
   "execution_count": 132,
   "id": "45b831e7-6b42-41ec-8f22-fb23cca546b5",
   "metadata": {},
   "outputs": [
    {
     "data": {
      "text/plain": [
       "123"
      ]
     },
     "execution_count": 132,
     "metadata": {},
     "output_type": "execute_result"
    }
   ],
   "source": [
    "student_detail.pop('abc')"
   ]
  },
  {
   "cell_type": "code",
   "execution_count": 133,
   "id": "412bf01d-2e62-4608-ac82-10fa886c64d3",
   "metadata": {},
   "outputs": [
    {
     "name": "stdout",
     "output_type": "stream",
     "text": [
      "{'name': 'Ajay', 'marks': 56, 'subject': 'Maths', 'Branch': 'Electronics'}\n"
     ]
    }
   ],
   "source": [
    "print(student_detail)"
   ]
  },
  {
   "cell_type": "code",
   "execution_count": 134,
   "id": "387ee7e8-aecd-4b13-bc1b-2a252fd4856c",
   "metadata": {},
   "outputs": [
    {
     "data": {
      "text/plain": [
       "dict_items([('name', 'Ajay'), ('marks', 56), ('subject', 'Maths'), ('Branch', 'Electronics')])"
      ]
     },
     "execution_count": 134,
     "metadata": {},
     "output_type": "execute_result"
    }
   ],
   "source": [
    "student_detail.items()"
   ]
  },
  {
   "cell_type": "markdown",
   "id": "f0853a0d-4cd9-459e-81f3-7f50411ae316",
   "metadata": {},
   "source": [
    "**Boolean**"
   ]
  },
  {
   "cell_type": "code",
   "execution_count": 135,
   "id": "f2c22419-09e7-4f0d-9ac0-9b7cc008f233",
   "metadata": {},
   "outputs": [
    {
     "name": "stdout",
     "output_type": "stream",
     "text": [
      "True\n",
      "<class 'bool'>\n"
     ]
    }
   ],
   "source": [
    "status = True\n",
    "print(status)\n",
    "print(type(status))"
   ]
  },
  {
   "cell_type": "markdown",
   "id": "c9cde623-e784-4a9a-b429-a749ab72a7a2",
   "metadata": {},
   "source": [
    "**set**\n",
    "\n",
    "    * Non-sequential data structure of unique items\n",
    "    * can't store duplicates"
   ]
  },
  {
   "cell_type": "code",
   "execution_count": 138,
   "id": "84612c78-d151-4fc1-af77-d41ef742fe5b",
   "metadata": {},
   "outputs": [
    {
     "name": "stdout",
     "output_type": "stream",
     "text": [
      "{2, 3, 4, 5, 6, 9}\n",
      "<class 'set'>\n"
     ]
    }
   ],
   "source": [
    "myset = {3 , 4 , 2, 9, 5, 6 ,3 , 4}\n",
    "print(myset)\n",
    "print(type(myset))"
   ]
  },
  {
   "cell_type": "code",
   "execution_count": 143,
   "id": "42bd1fe5-412e-448b-8e53-d3f530d95b06",
   "metadata": {},
   "outputs": [
    {
     "name": "stdout",
     "output_type": "stream",
     "text": [
      "{2, 3, 4, 5, 6, 9}\n"
     ]
    }
   ],
   "source": [
    "myset.add(3)\n",
    "print(myset)"
   ]
  },
  {
   "cell_type": "code",
   "execution_count": 144,
   "id": "533582af-04bf-4f79-a671-428ac9a4ab7b",
   "metadata": {},
   "outputs": [
    {
     "name": "stdout",
     "output_type": "stream",
     "text": [
      "{2, 3, 4, 5, 6, 7, 9}\n"
     ]
    }
   ],
   "source": [
    "myset.add(7)\n",
    "print(myset)"
   ]
  },
  {
   "cell_type": "code",
   "execution_count": 145,
   "id": "1e5ca3ab-d9b0-4d68-8285-d798da0698b5",
   "metadata": {},
   "outputs": [],
   "source": [
    "myset.remove(5)"
   ]
  },
  {
   "cell_type": "code",
   "execution_count": 146,
   "id": "4c000376-65e1-4fa7-b27e-6fbc91d8a04c",
   "metadata": {},
   "outputs": [
    {
     "name": "stdout",
     "output_type": "stream",
     "text": [
      "{2, 3, 4, 6, 7, 9}\n"
     ]
    }
   ],
   "source": [
    "print(myset)"
   ]
  },
  {
   "cell_type": "code",
   "execution_count": 147,
   "id": "6a9319ec-0131-44cf-91a9-32a94ca4bacc",
   "metadata": {},
   "outputs": [
    {
     "ename": "TypeError",
     "evalue": "'set' object is not subscriptable",
     "output_type": "error",
     "traceback": [
      "\u001b[31m---------------------------------------------------------------------------\u001b[39m",
      "\u001b[31mTypeError\u001b[39m                                 Traceback (most recent call last)",
      "\u001b[36mCell\u001b[39m\u001b[36m \u001b[39m\u001b[32mIn[147]\u001b[39m\u001b[32m, line 1\u001b[39m\n\u001b[32m----> \u001b[39m\u001b[32m1\u001b[39m \u001b[38;5;28mprint\u001b[39m(\u001b[43mmyset\u001b[49m\u001b[43m[\u001b[49m\u001b[32;43m0\u001b[39;49m\u001b[43m]\u001b[49m)\n",
      "\u001b[31mTypeError\u001b[39m: 'set' object is not subscriptable"
     ]
    }
   ],
   "source": [
    "print(myset[0])"
   ]
  },
  {
   "cell_type": "code",
   "execution_count": null,
   "id": "0669311c-c13c-48cc-a1e3-fb8950101cee",
   "metadata": {},
   "outputs": [],
   "source": []
  }
 ],
 "metadata": {
  "kernelspec": {
   "display_name": "Python 3 (ipykernel)",
   "language": "python",
   "name": "python3"
  },
  "language_info": {
   "codemirror_mode": {
    "name": "ipython",
    "version": 3
   },
   "file_extension": ".py",
   "mimetype": "text/x-python",
   "name": "python",
   "nbconvert_exporter": "python",
   "pygments_lexer": "ipython3",
   "version": "3.11.9"
  }
 },
 "nbformat": 4,
 "nbformat_minor": 5
}
